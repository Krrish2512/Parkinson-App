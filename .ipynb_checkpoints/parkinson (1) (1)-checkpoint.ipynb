{
 "cells": [
  {
   "cell_type": "code",
   "execution_count": 1,
   "metadata": {
    "id": "ow6G8s0REkw_"
   },
   "outputs": [],
   "source": [
    "import numpy as np\n",
    "import pandas as pd\n",
    "import matplotlib.pyplot as plt\n",
    "import seaborn as sns\n",
    "from sklearn.model_selection import train_test_split\n",
    "from sklearn.metrics import confusion_matrix, accuracy_score\n",
    "from sklearn.metrics import mean_squared_error\n",
    "from sklearn.metrics import r2_score\n",
    "from sklearn.metrics import mean_absolute_error"
   ]
  },
  {
   "cell_type": "markdown",
   "metadata": {
    "id": "HXbMFhxPEkxL"
   },
   "source": [
    "We will import more libraries/dependencies as per needed further in the code"
   ]
  },
  {
   "cell_type": "code",
   "execution_count": 2,
   "metadata": {
    "colab": {
     "base_uri": "https://localhost:8080/",
     "height": 255
    },
    "id": "agihoCQwEkxY",
    "outputId": "252cdf46-af32-44c9-8f86-6741b068bbe5"
   },
   "outputs": [
    {
     "data": {
      "text/html": [
       "<div>\n",
       "<style scoped>\n",
       "    .dataframe tbody tr th:only-of-type {\n",
       "        vertical-align: middle;\n",
       "    }\n",
       "\n",
       "    .dataframe tbody tr th {\n",
       "        vertical-align: top;\n",
       "    }\n",
       "\n",
       "    .dataframe thead th {\n",
       "        text-align: right;\n",
       "    }\n",
       "</style>\n",
       "<table border=\"1\" class=\"dataframe\">\n",
       "  <thead>\n",
       "    <tr style=\"text-align: right;\">\n",
       "      <th></th>\n",
       "      <th>subject#</th>\n",
       "      <th>age</th>\n",
       "      <th>sex</th>\n",
       "      <th>test_time</th>\n",
       "      <th>motor_UPDRS</th>\n",
       "      <th>total_UPDRS</th>\n",
       "      <th>Jitter(%)</th>\n",
       "      <th>Jitter(Abs)</th>\n",
       "      <th>Jitter:RAP</th>\n",
       "      <th>Jitter:PPQ5</th>\n",
       "      <th>...</th>\n",
       "      <th>Shimmer(dB)</th>\n",
       "      <th>Shimmer:APQ3</th>\n",
       "      <th>Shimmer:APQ5</th>\n",
       "      <th>Shimmer:APQ11</th>\n",
       "      <th>Shimmer:DDA</th>\n",
       "      <th>NHR</th>\n",
       "      <th>HNR</th>\n",
       "      <th>RPDE</th>\n",
       "      <th>DFA</th>\n",
       "      <th>PPE</th>\n",
       "    </tr>\n",
       "  </thead>\n",
       "  <tbody>\n",
       "    <tr>\n",
       "      <th>0</th>\n",
       "      <td>1</td>\n",
       "      <td>72</td>\n",
       "      <td>0</td>\n",
       "      <td>5.6431</td>\n",
       "      <td>28.199</td>\n",
       "      <td>34.398</td>\n",
       "      <td>0.00662</td>\n",
       "      <td>0.000034</td>\n",
       "      <td>0.00401</td>\n",
       "      <td>0.00317</td>\n",
       "      <td>...</td>\n",
       "      <td>0.230</td>\n",
       "      <td>0.01438</td>\n",
       "      <td>0.01309</td>\n",
       "      <td>0.01662</td>\n",
       "      <td>0.04314</td>\n",
       "      <td>0.014290</td>\n",
       "      <td>21.640</td>\n",
       "      <td>0.41888</td>\n",
       "      <td>0.54842</td>\n",
       "      <td>0.16006</td>\n",
       "    </tr>\n",
       "    <tr>\n",
       "      <th>1</th>\n",
       "      <td>1</td>\n",
       "      <td>72</td>\n",
       "      <td>0</td>\n",
       "      <td>12.6660</td>\n",
       "      <td>28.447</td>\n",
       "      <td>34.894</td>\n",
       "      <td>0.00300</td>\n",
       "      <td>0.000017</td>\n",
       "      <td>0.00132</td>\n",
       "      <td>0.00150</td>\n",
       "      <td>...</td>\n",
       "      <td>0.179</td>\n",
       "      <td>0.00994</td>\n",
       "      <td>0.01072</td>\n",
       "      <td>0.01689</td>\n",
       "      <td>0.02982</td>\n",
       "      <td>0.011112</td>\n",
       "      <td>27.183</td>\n",
       "      <td>0.43493</td>\n",
       "      <td>0.56477</td>\n",
       "      <td>0.10810</td>\n",
       "    </tr>\n",
       "    <tr>\n",
       "      <th>2</th>\n",
       "      <td>1</td>\n",
       "      <td>72</td>\n",
       "      <td>0</td>\n",
       "      <td>19.6810</td>\n",
       "      <td>28.695</td>\n",
       "      <td>35.389</td>\n",
       "      <td>0.00481</td>\n",
       "      <td>0.000025</td>\n",
       "      <td>0.00205</td>\n",
       "      <td>0.00208</td>\n",
       "      <td>...</td>\n",
       "      <td>0.181</td>\n",
       "      <td>0.00734</td>\n",
       "      <td>0.00844</td>\n",
       "      <td>0.01458</td>\n",
       "      <td>0.02202</td>\n",
       "      <td>0.020220</td>\n",
       "      <td>23.047</td>\n",
       "      <td>0.46222</td>\n",
       "      <td>0.54405</td>\n",
       "      <td>0.21014</td>\n",
       "    </tr>\n",
       "    <tr>\n",
       "      <th>3</th>\n",
       "      <td>1</td>\n",
       "      <td>72</td>\n",
       "      <td>0</td>\n",
       "      <td>25.6470</td>\n",
       "      <td>28.905</td>\n",
       "      <td>35.810</td>\n",
       "      <td>0.00528</td>\n",
       "      <td>0.000027</td>\n",
       "      <td>0.00191</td>\n",
       "      <td>0.00264</td>\n",
       "      <td>...</td>\n",
       "      <td>0.327</td>\n",
       "      <td>0.01106</td>\n",
       "      <td>0.01265</td>\n",
       "      <td>0.01963</td>\n",
       "      <td>0.03317</td>\n",
       "      <td>0.027837</td>\n",
       "      <td>24.445</td>\n",
       "      <td>0.48730</td>\n",
       "      <td>0.57794</td>\n",
       "      <td>0.33277</td>\n",
       "    </tr>\n",
       "    <tr>\n",
       "      <th>4</th>\n",
       "      <td>1</td>\n",
       "      <td>72</td>\n",
       "      <td>0</td>\n",
       "      <td>33.6420</td>\n",
       "      <td>29.187</td>\n",
       "      <td>36.375</td>\n",
       "      <td>0.00335</td>\n",
       "      <td>0.000020</td>\n",
       "      <td>0.00093</td>\n",
       "      <td>0.00130</td>\n",
       "      <td>...</td>\n",
       "      <td>0.176</td>\n",
       "      <td>0.00679</td>\n",
       "      <td>0.00929</td>\n",
       "      <td>0.01819</td>\n",
       "      <td>0.02036</td>\n",
       "      <td>0.011625</td>\n",
       "      <td>26.126</td>\n",
       "      <td>0.47188</td>\n",
       "      <td>0.56122</td>\n",
       "      <td>0.19361</td>\n",
       "    </tr>\n",
       "  </tbody>\n",
       "</table>\n",
       "<p>5 rows × 22 columns</p>\n",
       "</div>"
      ],
      "text/plain": [
       "   subject#  age  sex  test_time  motor_UPDRS  total_UPDRS  Jitter(%)  \\\n",
       "0         1   72    0     5.6431       28.199       34.398    0.00662   \n",
       "1         1   72    0    12.6660       28.447       34.894    0.00300   \n",
       "2         1   72    0    19.6810       28.695       35.389    0.00481   \n",
       "3         1   72    0    25.6470       28.905       35.810    0.00528   \n",
       "4         1   72    0    33.6420       29.187       36.375    0.00335   \n",
       "\n",
       "   Jitter(Abs)  Jitter:RAP  Jitter:PPQ5  ...  Shimmer(dB)  Shimmer:APQ3  \\\n",
       "0     0.000034     0.00401      0.00317  ...        0.230       0.01438   \n",
       "1     0.000017     0.00132      0.00150  ...        0.179       0.00994   \n",
       "2     0.000025     0.00205      0.00208  ...        0.181       0.00734   \n",
       "3     0.000027     0.00191      0.00264  ...        0.327       0.01106   \n",
       "4     0.000020     0.00093      0.00130  ...        0.176       0.00679   \n",
       "\n",
       "   Shimmer:APQ5  Shimmer:APQ11  Shimmer:DDA       NHR     HNR     RPDE  \\\n",
       "0       0.01309        0.01662      0.04314  0.014290  21.640  0.41888   \n",
       "1       0.01072        0.01689      0.02982  0.011112  27.183  0.43493   \n",
       "2       0.00844        0.01458      0.02202  0.020220  23.047  0.46222   \n",
       "3       0.01265        0.01963      0.03317  0.027837  24.445  0.48730   \n",
       "4       0.00929        0.01819      0.02036  0.011625  26.126  0.47188   \n",
       "\n",
       "       DFA      PPE  \n",
       "0  0.54842  0.16006  \n",
       "1  0.56477  0.10810  \n",
       "2  0.54405  0.21014  \n",
       "3  0.57794  0.33277  \n",
       "4  0.56122  0.19361  \n",
       "\n",
       "[5 rows x 22 columns]"
      ]
     },
     "execution_count": 2,
     "metadata": {},
     "output_type": "execute_result"
    }
   ],
   "source": [
    "park = pd.read_csv(r\"better_data.csv\")\n",
    "park.head()"
   ]
  },
  {
   "cell_type": "code",
   "execution_count": 3,
   "metadata": {
    "id": "TI3U_0Z_6J_1"
   },
   "outputs": [],
   "source": [
    "park.drop(columns=['test_time'], inplace=True)"
   ]
  },
  {
   "cell_type": "code",
   "execution_count": 4,
   "metadata": {
    "colab": {
     "base_uri": "https://localhost:8080/"
    },
    "id": "ii3ZwxWf1l6z",
    "outputId": "b8ca2fd7-ae4e-41cf-bfcd-f69ec730df9c"
   },
   "outputs": [
    {
     "name": "stdout",
     "output_type": "stream",
     "text": [
      "0.8656   0.51404\n"
     ]
    }
   ],
   "source": [
    "print(park['DFA'].max(), \" \", park['DFA'].min())"
   ]
  },
  {
   "cell_type": "markdown",
   "metadata": {
    "id": "LJkfU5iYEkxf"
   },
   "source": [
    "## Important Parameters in our Dataset"
   ]
  },
  {
   "cell_type": "markdown",
   "metadata": {
    "id": "ziUsFyL6Ekxh"
   },
   "source": [
    "Jitter:\n",
    "\n",
    "Definition: Jitter is a measure of the frequency variation in consecutive periods of a sound waveform.\n",
    "In the Dataset: The dataset includes several jitter-related features, such as Jitter(%), Jitter(Abs), Jitter:RAP (Relative Average Perturbation), Jitter:PPQ5 (Five-Point Period Perturbation Quotient), and Jitter:DDP (Jitter:RAP * 3)."
   ]
  },
  {
   "cell_type": "markdown",
   "metadata": {
    "id": "-UL2N57pEkxj"
   },
   "source": [
    "Shimmer:\n",
    "\n",
    "Definition: Shimmer is a measure of the amplitude variation in consecutive periods of a sound waveform.\n",
    "In the Dataset: The dataset includes several shimmer-related features, such as Shimmer, Shimmer(dB) (Shimmer in decibels), Shimmer:APQ3 (Amplitude Perturbation Quotient, three-point), Shimmer:APQ5 (Amplitude Perturbation Quotient, five-point), Shimmer:APQ11 (Amplitude Perturbation Quotient, eleven-point), and Shimmer:DDA (Shimmer:APQ11 * 3)"
   ]
  },
  {
   "cell_type": "markdown",
   "metadata": {
    "id": "LDuthLbOEkxq"
   },
   "source": [
    "Total UPDRS (Unified Parkinson's Disease Rating Scale):\n",
    "\n",
    "Definition: The UPDRS is a widely used rating scale that assesses the severity of Parkinson's disease. The total UPDRS is the sum of scores from various sections of the UPDRS, including assessments of mentation, behavior, mood, activities of daily living, and motor function.\n",
    "In the Dataset: The dataset includes a column named \"total_UPDRS,\" which represents the total UPDRS score for each individual.\n",
    "Motor UPDRS (Motor Section of UPDRS):\n",
    "\n",
    "Definition: The motor section of the UPDRS specifically focuses on evaluating motor symptoms associated with Parkinson's disease, including tremors, rigidity, bradykinesia, and posture instability.\n",
    "In the Dataset: The dataset includes a column named \"motor_UPDRS,\" which represents the score related to the motor symptoms in the UPDRS for each individual."
   ]
  },
  {
   "cell_type": "code",
   "execution_count": 5,
   "metadata": {
    "colab": {
     "base_uri": "https://localhost:8080/",
     "height": 186
    },
    "id": "iZmuTY1vEkxs",
    "outputId": "da0fa9bf-7944-464c-9f27-2346fd4ad842"
   },
   "outputs": [
    {
     "data": {
      "text/plain": [
       "<bound method Series.unique of age\n",
       "58    429\n",
       "66    422\n",
       "65    407\n",
       "73    385\n",
       "57    385\n",
       "68    317\n",
       "72    310\n",
       "59    299\n",
       "75    286\n",
       "67    283\n",
       "74    271\n",
       "55    267\n",
       "49    256\n",
       "62    236\n",
       "78    168\n",
       "71    165\n",
       "63    156\n",
       "60    156\n",
       "61    150\n",
       "76    144\n",
       "85    142\n",
       "56    140\n",
       "36    101\n",
       "Name: count, dtype: int64>"
      ]
     },
     "execution_count": 5,
     "metadata": {},
     "output_type": "execute_result"
    }
   ],
   "source": [
    "park['age'].value_counts().unique"
   ]
  },
  {
   "cell_type": "code",
   "execution_count": 6,
   "metadata": {
    "colab": {
     "base_uri": "https://localhost:8080/"
    },
    "id": "dr_4chgLEkxv",
    "outputId": "c4d6b715-f399-4341-a5cb-93ca55cb55c9"
   },
   "outputs": [
    {
     "data": {
      "text/plain": [
       "(5875, 21)"
      ]
     },
     "execution_count": 6,
     "metadata": {},
     "output_type": "execute_result"
    }
   ],
   "source": [
    "park.shape"
   ]
  },
  {
   "cell_type": "code",
   "execution_count": 7,
   "metadata": {
    "colab": {
     "base_uri": "https://localhost:8080/"
    },
    "id": "WHsYbMxqEkx3",
    "outputId": "fad99097-f3cd-464d-d6f7-501a1d152ef8"
   },
   "outputs": [
    {
     "data": {
      "text/plain": [
       "subject#         0\n",
       "age              0\n",
       "sex              0\n",
       "motor_UPDRS      0\n",
       "total_UPDRS      0\n",
       "Jitter(%)        0\n",
       "Jitter(Abs)      0\n",
       "Jitter:RAP       0\n",
       "Jitter:PPQ5      0\n",
       "Jitter:DDP       0\n",
       "Shimmer          0\n",
       "Shimmer(dB)      0\n",
       "Shimmer:APQ3     0\n",
       "Shimmer:APQ5     0\n",
       "Shimmer:APQ11    0\n",
       "Shimmer:DDA      0\n",
       "NHR              0\n",
       "HNR              0\n",
       "RPDE             0\n",
       "DFA              0\n",
       "PPE              0\n",
       "dtype: int64"
      ]
     },
     "execution_count": 7,
     "metadata": {},
     "output_type": "execute_result"
    }
   ],
   "source": [
    "park.isna().sum()"
   ]
  },
  {
   "cell_type": "code",
   "execution_count": 8,
   "metadata": {
    "colab": {
     "base_uri": "https://localhost:8080/"
    },
    "id": "3RIPSHNAEkx6",
    "outputId": "3eef0491-b6ba-43d8-e102-2b6c12f6e4c3"
   },
   "outputs": [
    {
     "name": "stdout",
     "output_type": "stream",
     "text": [
      "<class 'pandas.core.frame.DataFrame'>\n",
      "RangeIndex: 5875 entries, 0 to 5874\n",
      "Data columns (total 21 columns):\n",
      " #   Column         Non-Null Count  Dtype  \n",
      "---  ------         --------------  -----  \n",
      " 0   subject#       5875 non-null   int64  \n",
      " 1   age            5875 non-null   int64  \n",
      " 2   sex            5875 non-null   int64  \n",
      " 3   motor_UPDRS    5875 non-null   float64\n",
      " 4   total_UPDRS    5875 non-null   float64\n",
      " 5   Jitter(%)      5875 non-null   float64\n",
      " 6   Jitter(Abs)    5875 non-null   float64\n",
      " 7   Jitter:RAP     5875 non-null   float64\n",
      " 8   Jitter:PPQ5    5875 non-null   float64\n",
      " 9   Jitter:DDP     5875 non-null   float64\n",
      " 10  Shimmer        5875 non-null   float64\n",
      " 11  Shimmer(dB)    5875 non-null   float64\n",
      " 12  Shimmer:APQ3   5875 non-null   float64\n",
      " 13  Shimmer:APQ5   5875 non-null   float64\n",
      " 14  Shimmer:APQ11  5875 non-null   float64\n",
      " 15  Shimmer:DDA    5875 non-null   float64\n",
      " 16  NHR            5875 non-null   float64\n",
      " 17  HNR            5875 non-null   float64\n",
      " 18  RPDE           5875 non-null   float64\n",
      " 19  DFA            5875 non-null   float64\n",
      " 20  PPE            5875 non-null   float64\n",
      "dtypes: float64(18), int64(3)\n",
      "memory usage: 964.0 KB\n"
     ]
    }
   ],
   "source": [
    "park.info()"
   ]
  },
  {
   "cell_type": "code",
   "execution_count": 9,
   "metadata": {
    "id": "o-jxaEDLEkx8"
   },
   "outputs": [],
   "source": [
    "# park['status'].value_counts()"
   ]
  },
  {
   "cell_type": "code",
   "execution_count": 10,
   "metadata": {
    "id": "miEmYd3OEkyG"
   },
   "outputs": [],
   "source": [
    "# X = park.drop(columns = ['status', 'name'])"
   ]
  },
  {
   "cell_type": "code",
   "execution_count": 11,
   "metadata": {
    "id": "R1sowr_QEkyI"
   },
   "outputs": [],
   "source": [
    "# X = park.drop('status', 'name', axis=1)\n",
    "# Y = park['status']"
   ]
  },
  {
   "cell_type": "code",
   "execution_count": 12,
   "metadata": {
    "colab": {
     "base_uri": "https://localhost:8080/",
     "height": 466
    },
    "id": "FDkRSuwvEkyN",
    "outputId": "fdfcce5f-6196-426f-dca3-c443367a53ac"
   },
   "outputs": [
    {
     "data": {
      "text/plain": [
       "<Axes: xlabel='Jitter(%)', ylabel='Shimmer'>"
      ]
     },
     "execution_count": 12,
     "metadata": {},
     "output_type": "execute_result"
    },
    {
     "data": {
      "image/png": "[encoded data removed]",
      "text/plain": [
       "<Figure size 640x480 with 1 Axes>"
      ]
     },
     "metadata": {},
     "output_type": "display_data"
    }
   ],
   "source": [
    "import seaborn as sns\n",
    "\n",
    "sns.scatterplot(data=park, x='Jitter(%)', y='Shimmer')"
   ]
  },
  {
   "cell_type": "code",
   "execution_count": 13,
   "metadata": {
    "id": "Y25XF92KEkyQ"
   },
   "outputs": [],
   "source": [
    "# sns.scatterplot(data = park, x = 'subject#', y = 'combined_UPDRS')"
   ]
  },
  {
   "cell_type": "code",
   "execution_count": null,
   "metadata": {
    "id": "8SLY8RHMEkyZ"
   },
   "outputs": [],
   "source": []
  },
  {
   "cell_type": "code",
   "execution_count": 14,
   "metadata": {
    "colab": {
     "base_uri": "https://localhost:8080/",
     "height": 409
    },
    "id": "7sSAjNbOEkyb",
    "outputId": "7eee2936-f5b6-4665-95b8-4b1ffd4da492"
   },
   "outputs": [
    {
     "data": {
      "image/png": "[encoded data removed]",
      "text/plain": [
       "<Figure size 640x480 with 1 Axes>"
      ]
     },
     "metadata": {},
     "output_type": "display_data"
    }
   ],
   "source": [
    "import matplotlib.pyplot as plt\n",
    "from mpl_toolkits.mplot3d import Axes3D\n",
    "\n",
    "fig = plt.figure()\n",
    "ax = fig.add_subplot(111, projection='3d')\n",
    "\n",
    "ax.scatter(park['age'], park['Jitter(%)'], park['Shimmer'])\n",
    "\n",
    "ax.set_xlabel('Age')\n",
    "ax.set_ylabel('Jitter(%)')\n",
    "ax.set_zlabel('Shimmer')\n",
    "\n",
    "plt.show()"
   ]
  },
  {
   "cell_type": "code",
   "execution_count": 15,
   "metadata": {
    "colab": {
     "base_uri": "https://localhost:8080/",
     "height": 466
    },
    "id": "ugYUjsXIEkye",
    "outputId": "2c80fe95-bd5f-4e09-8711-e79ba88d9229"
   },
   "outputs": [
    {
     "data": {
      "text/plain": [
       "<Axes: xlabel='sex', ylabel='Jitter(%)'>"
      ]
     },
     "execution_count": 15,
     "metadata": {},
     "output_type": "execute_result"
    },
    {
     "data": {
      "image/png": "[encoded data removed]",
      "text/plain": [
       "<Figure size 640x480 with 1 Axes>"
      ]
     },
     "metadata": {},
     "output_type": "display_data"
    }
   ],
   "source": [
    "sns.stripplot(data = park, x = 'sex', y = 'Jitter(%)')"
   ]
  },
  {
   "cell_type": "code",
   "execution_count": 16,
   "metadata": {
    "colab": {
     "base_uri": "https://localhost:8080/",
     "height": 466
    },
    "id": "2TRa8aVwEkyp",
    "outputId": "29558115-711c-4bef-dead-e068b71ef953"
   },
   "outputs": [
    {
     "data": {
      "text/plain": [
       "<Axes: xlabel='age', ylabel='Jitter(%)'>"
      ]
     },
     "execution_count": 16,
     "metadata": {},
     "output_type": "execute_result"
    },
    {
     "data": {
      "image/png": "[encoded data removed]",
      "text/plain": [
       "<Figure size 640x480 with 1 Axes>"
      ]
     },
     "metadata": {},
     "output_type": "display_data"
    }
   ],
   "source": [
    "sns.stripplot(data = park, x = 'age', y = 'Jitter(%)')"
   ]
  },
  {
   "cell_type": "code",
   "execution_count": 17,
   "metadata": {
    "colab": {
     "base_uri": "https://localhost:8080/",
     "height": 466
    },
    "id": "BgTZ_3ZbEkys",
    "outputId": "c32baac6-5461-40df-e0af-cc1d5123aeb0"
   },
   "outputs": [
    {
     "data": {
      "text/plain": [
       "<Axes: xlabel='sex', ylabel='age'>"
      ]
     },
     "execution_count": 17,
     "metadata": {},
     "output_type": "execute_result"
    },
    {
     "data": {
      "image/png": "[encoded data removed]",
      "text/plain": [
       "<Figure size 640x480 with 1 Axes>"
      ]
     },
     "metadata": {},
     "output_type": "display_data"
    }
   ],
   "source": [
    "sns.stripplot(data  =park, x = 'sex', y = 'age')"
   ]
  },
  {
   "cell_type": "markdown",
   "metadata": {
    "id": "3frEz_EYEkyv"
   },
   "source": [
    "Below is the pairplot between age, sex, motor_UPDRS and total_UPDRS"
   ]
  },
  {
   "cell_type": "code",
   "execution_count": 18,
   "metadata": {
    "colab": {
     "base_uri": "https://localhost:8080/",
     "height": 1000
    },
    "id": "QL9VToxEEkyx",
    "outputId": "782e1453-e8ac-4b66-ceea-a59c931a7cac"
   },
   "outputs": [
    {
     "data": {
      "image/png": "[encoded data removed]",
      "text/plain": [
       "<Figure size 1000x1000 with 20 Axes>"
      ]
     },
     "metadata": {},
     "output_type": "display_data"
    }
   ],
   "source": [
    "sns.pairplot(park[['age', 'sex', 'motor_UPDRS', 'total_UPDRS']])\n",
    "plt.show()"
   ]
  },
  {
   "cell_type": "markdown",
   "metadata": {
    "id": "gItawirzEky8"
   },
   "source": [
    "## Correlation"
   ]
  },
  {
   "cell_type": "markdown",
   "metadata": {
    "id": "YxBUae5MEky9"
   },
   "source": [
    "Here we visualize the correalation between different variable"
   ]
  },
  {
   "cell_type": "code",
   "execution_count": 19,
   "metadata": {
    "colab": {
     "base_uri": "https://localhost:8080/",
     "height": 757
    },
    "id": "B3k63Gp2Eky_",
    "outputId": "2f9fa3f0-e333-4ba0-d874-d6cde2fe0081"
   },
   "outputs": [
    {
     "data": {
      "text/html": [
       "<div>\n",
       "<style scoped>\n",
       "    .dataframe tbody tr th:only-of-type {\n",
       "        vertical-align: middle;\n",
       "    }\n",
       "\n",
       "    .dataframe tbody tr th {\n",
       "        vertical-align: top;\n",
       "    }\n",
       "\n",
       "    .dataframe thead th {\n",
       "        text-align: right;\n",
       "    }\n",
       "</style>\n",
       "<table border=\"1\" class=\"dataframe\">\n",
       "  <thead>\n",
       "    <tr style=\"text-align: right;\">\n",
       "      <th></th>\n",
       "      <th>subject#</th>\n",
       "      <th>age</th>\n",
       "      <th>sex</th>\n",
       "      <th>motor_UPDRS</th>\n",
       "      <th>total_UPDRS</th>\n",
       "      <th>Jitter(%)</th>\n",
       "      <th>Jitter(Abs)</th>\n",
       "      <th>Jitter:RAP</th>\n",
       "      <th>Jitter:PPQ5</th>\n",
       "      <th>Jitter:DDP</th>\n",
       "      <th>...</th>\n",
       "      <th>Shimmer(dB)</th>\n",
       "      <th>Shimmer:APQ3</th>\n",
       "      <th>Shimmer:APQ5</th>\n",
       "      <th>Shimmer:APQ11</th>\n",
       "      <th>Shimmer:DDA</th>\n",
       "      <th>NHR</th>\n",
       "      <th>HNR</th>\n",
       "      <th>RPDE</th>\n",
       "      <th>DFA</th>\n",
       "      <th>PPE</th>\n",
       "    </tr>\n",
       "  </thead>\n",
       "  <tbody>\n",
       "    <tr>\n",
       "      <th>subject#</th>\n",
       "      <td>1.000000</td>\n",
       "      <td>-0.030864</td>\n",
       "      <td>0.286851</td>\n",
       "      <td>0.252919</td>\n",
       "      <td>0.253643</td>\n",
       "      <td>0.135448</td>\n",
       "      <td>0.075156</td>\n",
       "      <td>0.120339</td>\n",
       "      <td>0.136474</td>\n",
       "      <td>0.120350</td>\n",
       "      <td>...</td>\n",
       "      <td>0.142864</td>\n",
       "      <td>0.112950</td>\n",
       "      <td>0.138264</td>\n",
       "      <td>0.173333</td>\n",
       "      <td>0.112949</td>\n",
       "      <td>0.168743</td>\n",
       "      <td>-0.206929</td>\n",
       "      <td>0.147300</td>\n",
       "      <td>0.097464</td>\n",
       "      <td>0.157559</td>\n",
       "    </tr>\n",
       "    <tr>\n",
       "      <th>age</th>\n",
       "      <td>-0.030864</td>\n",
       "      <td>1.000000</td>\n",
       "      <td>-0.041602</td>\n",
       "      <td>0.273665</td>\n",
       "      <td>0.310290</td>\n",
       "      <td>0.023071</td>\n",
       "      <td>0.035691</td>\n",
       "      <td>0.010255</td>\n",
       "      <td>0.013199</td>\n",
       "      <td>0.010258</td>\n",
       "      <td>...</td>\n",
       "      <td>0.111130</td>\n",
       "      <td>0.098912</td>\n",
       "      <td>0.089983</td>\n",
       "      <td>0.135238</td>\n",
       "      <td>0.098913</td>\n",
       "      <td>0.007093</td>\n",
       "      <td>-0.104842</td>\n",
       "      <td>0.090208</td>\n",
       "      <td>-0.092870</td>\n",
       "      <td>0.120790</td>\n",
       "    </tr>\n",
       "    <tr>\n",
       "      <th>sex</th>\n",
       "      <td>0.286851</td>\n",
       "      <td>-0.041602</td>\n",
       "      <td>1.000000</td>\n",
       "      <td>-0.031205</td>\n",
       "      <td>-0.096559</td>\n",
       "      <td>0.051422</td>\n",
       "      <td>-0.154645</td>\n",
       "      <td>0.076718</td>\n",
       "      <td>0.087995</td>\n",
       "      <td>0.076703</td>\n",
       "      <td>...</td>\n",
       "      <td>0.056481</td>\n",
       "      <td>0.044937</td>\n",
       "      <td>0.064819</td>\n",
       "      <td>0.023360</td>\n",
       "      <td>0.044938</td>\n",
       "      <td>0.168170</td>\n",
       "      <td>-0.000167</td>\n",
       "      <td>-0.159262</td>\n",
       "      <td>-0.165113</td>\n",
       "      <td>-0.099901</td>\n",
       "    </tr>\n",
       "    <tr>\n",
       "      <th>motor_UPDRS</th>\n",
       "      <td>0.252919</td>\n",
       "      <td>0.273665</td>\n",
       "      <td>-0.031205</td>\n",
       "      <td>1.000000</td>\n",
       "      <td>0.947231</td>\n",
       "      <td>0.084816</td>\n",
       "      <td>0.050903</td>\n",
       "      <td>0.072684</td>\n",
       "      <td>0.076291</td>\n",
       "      <td>0.072698</td>\n",
       "      <td>...</td>\n",
       "      <td>0.110076</td>\n",
       "      <td>0.084261</td>\n",
       "      <td>0.092105</td>\n",
       "      <td>0.136560</td>\n",
       "      <td>0.084260</td>\n",
       "      <td>0.074967</td>\n",
       "      <td>-0.157029</td>\n",
       "      <td>0.128607</td>\n",
       "      <td>-0.116242</td>\n",
       "      <td>0.162433</td>\n",
       "    </tr>\n",
       "    <tr>\n",
       "      <th>total_UPDRS</th>\n",
       "      <td>0.253643</td>\n",
       "      <td>0.310290</td>\n",
       "      <td>-0.096559</td>\n",
       "      <td>0.947231</td>\n",
       "      <td>1.000000</td>\n",
       "      <td>0.074247</td>\n",
       "      <td>0.066927</td>\n",
       "      <td>0.064015</td>\n",
       "      <td>0.063352</td>\n",
       "      <td>0.064027</td>\n",
       "      <td>...</td>\n",
       "      <td>0.098790</td>\n",
       "      <td>0.079363</td>\n",
       "      <td>0.083467</td>\n",
       "      <td>0.120838</td>\n",
       "      <td>0.079363</td>\n",
       "      <td>0.060952</td>\n",
       "      <td>-0.162117</td>\n",
       "      <td>0.156897</td>\n",
       "      <td>-0.113475</td>\n",
       "      <td>0.156195</td>\n",
       "    </tr>\n",
       "    <tr>\n",
       "      <th>Jitter(%)</th>\n",
       "      <td>0.135448</td>\n",
       "      <td>0.023071</td>\n",
       "      <td>0.051422</td>\n",
       "      <td>0.084816</td>\n",
       "      <td>0.074247</td>\n",
       "      <td>1.000000</td>\n",
       "      <td>0.865577</td>\n",
       "      <td>0.984181</td>\n",
       "      <td>0.968214</td>\n",
       "      <td>0.984184</td>\n",
       "      <td>...</td>\n",
       "      <td>0.716704</td>\n",
       "      <td>0.664149</td>\n",
       "      <td>0.694002</td>\n",
       "      <td>0.645965</td>\n",
       "      <td>0.664147</td>\n",
       "      <td>0.825294</td>\n",
       "      <td>-0.675188</td>\n",
       "      <td>0.427128</td>\n",
       "      <td>0.226550</td>\n",
       "      <td>0.721849</td>\n",
       "    </tr>\n",
       "    <tr>\n",
       "      <th>Jitter(Abs)</th>\n",
       "      <td>0.075156</td>\n",
       "      <td>0.035691</td>\n",
       "      <td>-0.154645</td>\n",
       "      <td>0.050903</td>\n",
       "      <td>0.066927</td>\n",
       "      <td>0.865577</td>\n",
       "      <td>1.000000</td>\n",
       "      <td>0.844626</td>\n",
       "      <td>0.790538</td>\n",
       "      <td>0.844630</td>\n",
       "      <td>...</td>\n",
       "      <td>0.655871</td>\n",
       "      <td>0.623830</td>\n",
       "      <td>0.621401</td>\n",
       "      <td>0.589998</td>\n",
       "      <td>0.623827</td>\n",
       "      <td>0.699960</td>\n",
       "      <td>-0.706418</td>\n",
       "      <td>0.547100</td>\n",
       "      <td>0.352264</td>\n",
       "      <td>0.787853</td>\n",
       "    </tr>\n",
       "    <tr>\n",
       "      <th>Jitter:RAP</th>\n",
       "      <td>0.120339</td>\n",
       "      <td>0.010255</td>\n",
       "      <td>0.076718</td>\n",
       "      <td>0.072684</td>\n",
       "      <td>0.064015</td>\n",
       "      <td>0.984181</td>\n",
       "      <td>0.844626</td>\n",
       "      <td>1.000000</td>\n",
       "      <td>0.947196</td>\n",
       "      <td>1.000000</td>\n",
       "      <td>...</td>\n",
       "      <td>0.685551</td>\n",
       "      <td>0.650226</td>\n",
       "      <td>0.659831</td>\n",
       "      <td>0.603082</td>\n",
       "      <td>0.650225</td>\n",
       "      <td>0.792373</td>\n",
       "      <td>-0.641473</td>\n",
       "      <td>0.382891</td>\n",
       "      <td>0.214881</td>\n",
       "      <td>0.670652</td>\n",
       "    </tr>\n",
       "    <tr>\n",
       "      <th>Jitter:PPQ5</th>\n",
       "      <td>0.136474</td>\n",
       "      <td>0.013199</td>\n",
       "      <td>0.087995</td>\n",
       "      <td>0.076291</td>\n",
       "      <td>0.063352</td>\n",
       "      <td>0.968214</td>\n",
       "      <td>0.790538</td>\n",
       "      <td>0.947196</td>\n",
       "      <td>1.000000</td>\n",
       "      <td>0.947203</td>\n",
       "      <td>...</td>\n",
       "      <td>0.734591</td>\n",
       "      <td>0.676711</td>\n",
       "      <td>0.734021</td>\n",
       "      <td>0.668413</td>\n",
       "      <td>0.676710</td>\n",
       "      <td>0.864864</td>\n",
       "      <td>-0.662409</td>\n",
       "      <td>0.381503</td>\n",
       "      <td>0.175359</td>\n",
       "      <td>0.663491</td>\n",
       "    </tr>\n",
       "    <tr>\n",
       "      <th>Jitter:DDP</th>\n",
       "      <td>0.120350</td>\n",
       "      <td>0.010258</td>\n",
       "      <td>0.076703</td>\n",
       "      <td>0.072698</td>\n",
       "      <td>0.064027</td>\n",
       "      <td>0.984184</td>\n",
       "      <td>0.844630</td>\n",
       "      <td>1.000000</td>\n",
       "      <td>0.947203</td>\n",
       "      <td>1.000000</td>\n",
       "      <td>...</td>\n",
       "      <td>0.685556</td>\n",
       "      <td>0.650228</td>\n",
       "      <td>0.659833</td>\n",
       "      <td>0.603090</td>\n",
       "      <td>0.650227</td>\n",
       "      <td>0.792377</td>\n",
       "      <td>-0.641482</td>\n",
       "      <td>0.382886</td>\n",
       "      <td>0.214893</td>\n",
       "      <td>0.670660</td>\n",
       "    </tr>\n",
       "    <tr>\n",
       "      <th>Shimmer</th>\n",
       "      <td>0.146202</td>\n",
       "      <td>0.101554</td>\n",
       "      <td>0.058736</td>\n",
       "      <td>0.102349</td>\n",
       "      <td>0.092141</td>\n",
       "      <td>0.709791</td>\n",
       "      <td>0.649046</td>\n",
       "      <td>0.681729</td>\n",
       "      <td>0.732747</td>\n",
       "      <td>0.681734</td>\n",
       "      <td>...</td>\n",
       "      <td>0.992334</td>\n",
       "      <td>0.979828</td>\n",
       "      <td>0.984904</td>\n",
       "      <td>0.935457</td>\n",
       "      <td>0.979827</td>\n",
       "      <td>0.795158</td>\n",
       "      <td>-0.801416</td>\n",
       "      <td>0.468235</td>\n",
       "      <td>0.132540</td>\n",
       "      <td>0.615709</td>\n",
       "    </tr>\n",
       "    <tr>\n",
       "      <th>Shimmer(dB)</th>\n",
       "      <td>0.142864</td>\n",
       "      <td>0.111130</td>\n",
       "      <td>0.056481</td>\n",
       "      <td>0.110076</td>\n",
       "      <td>0.098790</td>\n",
       "      <td>0.716704</td>\n",
       "      <td>0.655871</td>\n",
       "      <td>0.685551</td>\n",
       "      <td>0.734591</td>\n",
       "      <td>0.685556</td>\n",
       "      <td>...</td>\n",
       "      <td>1.000000</td>\n",
       "      <td>0.968015</td>\n",
       "      <td>0.976373</td>\n",
       "      <td>0.936338</td>\n",
       "      <td>0.968014</td>\n",
       "      <td>0.798077</td>\n",
       "      <td>-0.802496</td>\n",
       "      <td>0.472409</td>\n",
       "      <td>0.126111</td>\n",
       "      <td>0.635163</td>\n",
       "    </tr>\n",
       "    <tr>\n",
       "      <th>Shimmer:APQ3</th>\n",
       "      <td>0.112950</td>\n",
       "      <td>0.098912</td>\n",
       "      <td>0.044937</td>\n",
       "      <td>0.084261</td>\n",
       "      <td>0.079363</td>\n",
       "      <td>0.664149</td>\n",
       "      <td>0.623830</td>\n",
       "      <td>0.650226</td>\n",
       "      <td>0.676711</td>\n",
       "      <td>0.650228</td>\n",
       "      <td>...</td>\n",
       "      <td>0.968015</td>\n",
       "      <td>1.000000</td>\n",
       "      <td>0.962723</td>\n",
       "      <td>0.885695</td>\n",
       "      <td>1.000000</td>\n",
       "      <td>0.732736</td>\n",
       "      <td>-0.780697</td>\n",
       "      <td>0.436878</td>\n",
       "      <td>0.130735</td>\n",
       "      <td>0.576704</td>\n",
       "    </tr>\n",
       "    <tr>\n",
       "      <th>Shimmer:APQ5</th>\n",
       "      <td>0.138264</td>\n",
       "      <td>0.089983</td>\n",
       "      <td>0.064819</td>\n",
       "      <td>0.092105</td>\n",
       "      <td>0.083467</td>\n",
       "      <td>0.694002</td>\n",
       "      <td>0.621401</td>\n",
       "      <td>0.659831</td>\n",
       "      <td>0.734021</td>\n",
       "      <td>0.659833</td>\n",
       "      <td>...</td>\n",
       "      <td>0.976373</td>\n",
       "      <td>0.962723</td>\n",
       "      <td>1.000000</td>\n",
       "      <td>0.938935</td>\n",
       "      <td>0.962723</td>\n",
       "      <td>0.798173</td>\n",
       "      <td>-0.790638</td>\n",
       "      <td>0.450890</td>\n",
       "      <td>0.128038</td>\n",
       "      <td>0.593677</td>\n",
       "    </tr>\n",
       "    <tr>\n",
       "      <th>Shimmer:APQ11</th>\n",
       "      <td>0.173333</td>\n",
       "      <td>0.135238</td>\n",
       "      <td>0.023360</td>\n",
       "      <td>0.136560</td>\n",
       "      <td>0.120838</td>\n",
       "      <td>0.645965</td>\n",
       "      <td>0.589998</td>\n",
       "      <td>0.603082</td>\n",
       "      <td>0.668413</td>\n",
       "      <td>0.603090</td>\n",
       "      <td>...</td>\n",
       "      <td>0.936338</td>\n",
       "      <td>0.885695</td>\n",
       "      <td>0.938935</td>\n",
       "      <td>1.000000</td>\n",
       "      <td>0.885694</td>\n",
       "      <td>0.711546</td>\n",
       "      <td>-0.777974</td>\n",
       "      <td>0.480739</td>\n",
       "      <td>0.179648</td>\n",
       "      <td>0.623416</td>\n",
       "    </tr>\n",
       "    <tr>\n",
       "      <th>Shimmer:DDA</th>\n",
       "      <td>0.112949</td>\n",
       "      <td>0.098913</td>\n",
       "      <td>0.044938</td>\n",
       "      <td>0.084260</td>\n",
       "      <td>0.079363</td>\n",
       "      <td>0.664147</td>\n",
       "      <td>0.623827</td>\n",
       "      <td>0.650225</td>\n",
       "      <td>0.676710</td>\n",
       "      <td>0.650227</td>\n",
       "      <td>...</td>\n",
       "      <td>0.968014</td>\n",
       "      <td>1.000000</td>\n",
       "      <td>0.962723</td>\n",
       "      <td>0.885694</td>\n",
       "      <td>1.000000</td>\n",
       "      <td>0.732734</td>\n",
       "      <td>-0.780696</td>\n",
       "      <td>0.436872</td>\n",
       "      <td>0.130736</td>\n",
       "      <td>0.576702</td>\n",
       "    </tr>\n",
       "    <tr>\n",
       "      <th>NHR</th>\n",
       "      <td>0.168743</td>\n",
       "      <td>0.007093</td>\n",
       "      <td>0.168170</td>\n",
       "      <td>0.074967</td>\n",
       "      <td>0.060952</td>\n",
       "      <td>0.825294</td>\n",
       "      <td>0.699960</td>\n",
       "      <td>0.792373</td>\n",
       "      <td>0.864864</td>\n",
       "      <td>0.792377</td>\n",
       "      <td>...</td>\n",
       "      <td>0.798077</td>\n",
       "      <td>0.732736</td>\n",
       "      <td>0.798173</td>\n",
       "      <td>0.711546</td>\n",
       "      <td>0.732734</td>\n",
       "      <td>1.000000</td>\n",
       "      <td>-0.684412</td>\n",
       "      <td>0.416660</td>\n",
       "      <td>-0.022088</td>\n",
       "      <td>0.564654</td>\n",
       "    </tr>\n",
       "    <tr>\n",
       "      <th>HNR</th>\n",
       "      <td>-0.206929</td>\n",
       "      <td>-0.104842</td>\n",
       "      <td>-0.000167</td>\n",
       "      <td>-0.157029</td>\n",
       "      <td>-0.162117</td>\n",
       "      <td>-0.675188</td>\n",
       "      <td>-0.706418</td>\n",
       "      <td>-0.641473</td>\n",
       "      <td>-0.662409</td>\n",
       "      <td>-0.641482</td>\n",
       "      <td>...</td>\n",
       "      <td>-0.802496</td>\n",
       "      <td>-0.780697</td>\n",
       "      <td>-0.790638</td>\n",
       "      <td>-0.777974</td>\n",
       "      <td>-0.780696</td>\n",
       "      <td>-0.684412</td>\n",
       "      <td>1.000000</td>\n",
       "      <td>-0.659053</td>\n",
       "      <td>-0.290519</td>\n",
       "      <td>-0.758722</td>\n",
       "    </tr>\n",
       "    <tr>\n",
       "      <th>RPDE</th>\n",
       "      <td>0.147300</td>\n",
       "      <td>0.090208</td>\n",
       "      <td>-0.159262</td>\n",
       "      <td>0.128607</td>\n",
       "      <td>0.156897</td>\n",
       "      <td>0.427128</td>\n",
       "      <td>0.547100</td>\n",
       "      <td>0.382891</td>\n",
       "      <td>0.381503</td>\n",
       "      <td>0.382886</td>\n",
       "      <td>...</td>\n",
       "      <td>0.472409</td>\n",
       "      <td>0.436878</td>\n",
       "      <td>0.450890</td>\n",
       "      <td>0.480739</td>\n",
       "      <td>0.436872</td>\n",
       "      <td>0.416660</td>\n",
       "      <td>-0.659053</td>\n",
       "      <td>1.000000</td>\n",
       "      <td>0.192030</td>\n",
       "      <td>0.566065</td>\n",
       "    </tr>\n",
       "    <tr>\n",
       "      <th>DFA</th>\n",
       "      <td>0.097464</td>\n",
       "      <td>-0.092870</td>\n",
       "      <td>-0.165113</td>\n",
       "      <td>-0.116242</td>\n",
       "      <td>-0.113475</td>\n",
       "      <td>0.226550</td>\n",
       "      <td>0.352264</td>\n",
       "      <td>0.214881</td>\n",
       "      <td>0.175359</td>\n",
       "      <td>0.214893</td>\n",
       "      <td>...</td>\n",
       "      <td>0.126111</td>\n",
       "      <td>0.130735</td>\n",
       "      <td>0.128038</td>\n",
       "      <td>0.179648</td>\n",
       "      <td>0.130736</td>\n",
       "      <td>-0.022088</td>\n",
       "      <td>-0.290519</td>\n",
       "      <td>0.192030</td>\n",
       "      <td>1.000000</td>\n",
       "      <td>0.394650</td>\n",
       "    </tr>\n",
       "    <tr>\n",
       "      <th>PPE</th>\n",
       "      <td>0.157559</td>\n",
       "      <td>0.120790</td>\n",
       "      <td>-0.099901</td>\n",
       "      <td>0.162433</td>\n",
       "      <td>0.156195</td>\n",
       "      <td>0.721849</td>\n",
       "      <td>0.787853</td>\n",
       "      <td>0.670652</td>\n",
       "      <td>0.663491</td>\n",
       "      <td>0.670660</td>\n",
       "      <td>...</td>\n",
       "      <td>0.635163</td>\n",
       "      <td>0.576704</td>\n",
       "      <td>0.593677</td>\n",
       "      <td>0.623416</td>\n",
       "      <td>0.576702</td>\n",
       "      <td>0.564654</td>\n",
       "      <td>-0.758722</td>\n",
       "      <td>0.566065</td>\n",
       "      <td>0.394650</td>\n",
       "      <td>1.000000</td>\n",
       "    </tr>\n",
       "  </tbody>\n",
       "</table>\n",
       "<p>21 rows × 21 columns</p>\n",
       "</div>"
      ],
      "text/plain": [
       "               subject#       age       sex  motor_UPDRS  total_UPDRS  \\\n",
       "subject#       1.000000 -0.030864  0.286851     0.252919     0.253643   \n",
       "age           -0.030864  1.000000 -0.041602     0.273665     0.310290   \n",
       "sex            0.286851 -0.041602  1.000000    -0.031205    -0.096559   \n",
       "motor_UPDRS    0.252919  0.273665 -0.031205     1.000000     0.947231   \n",
       "total_UPDRS    0.253643  0.310290 -0.096559     0.947231     1.000000   \n",
       "Jitter(%)      0.135448  0.023071  0.051422     0.084816     0.074247   \n",
       "Jitter(Abs)    0.075156  0.035691 -0.154645     0.050903     0.066927   \n",
       "Jitter:RAP     0.120339  0.010255  0.076718     0.072684     0.064015   \n",
       "Jitter:PPQ5    0.136474  0.013199  0.087995     0.076291     0.063352   \n",
       "Jitter:DDP     0.120350  0.010258  0.076703     0.072698     0.064027   \n",
       "Shimmer        0.146202  0.101554  0.058736     0.102349     0.092141   \n",
       "Shimmer(dB)    0.142864  0.111130  0.056481     0.110076     0.098790   \n",
       "Shimmer:APQ3   0.112950  0.098912  0.044937     0.084261     0.079363   \n",
       "Shimmer:APQ5   0.138264  0.089983  0.064819     0.092105     0.083467   \n",
       "Shimmer:APQ11  0.173333  0.135238  0.023360     0.136560     0.120838   \n",
       "Shimmer:DDA    0.112949  0.098913  0.044938     0.084260     0.079363   \n",
       "NHR            0.168743  0.007093  0.168170     0.074967     0.060952   \n",
       "HNR           -0.206929 -0.104842 -0.000167    -0.157029    -0.162117   \n",
       "RPDE           0.147300  0.090208 -0.159262     0.128607     0.156897   \n",
       "DFA            0.097464 -0.092870 -0.165113    -0.116242    -0.113475   \n",
       "PPE            0.157559  0.120790 -0.099901     0.162433     0.156195   \n",
       "\n",
       "               Jitter(%)  Jitter(Abs)  Jitter:RAP  Jitter:PPQ5  Jitter:DDP  \\\n",
       "subject#        0.135448     0.075156    0.120339     0.136474    0.120350   \n",
       "age             0.023071     0.035691    0.010255     0.013199    0.010258   \n",
       "sex             0.051422    -0.154645    0.076718     0.087995    0.076703   \n",
       "motor_UPDRS     0.084816     0.050903    0.072684     0.076291    0.072698   \n",
       "total_UPDRS     0.074247     0.066927    0.064015     0.063352    0.064027   \n",
       "Jitter(%)       1.000000     0.865577    0.984181     0.968214    0.984184   \n",
       "Jitter(Abs)     0.865577     1.000000    0.844626     0.790538    0.844630   \n",
       "Jitter:RAP      0.984181     0.844626    1.000000     0.947196    1.000000   \n",
       "Jitter:PPQ5     0.968214     0.790538    0.947196     1.000000    0.947203   \n",
       "Jitter:DDP      0.984184     0.844630    1.000000     0.947203    1.000000   \n",
       "Shimmer         0.709791     0.649046    0.681729     0.732747    0.681734   \n",
       "Shimmer(dB)     0.716704     0.655871    0.685551     0.734591    0.685556   \n",
       "Shimmer:APQ3    0.664149     0.623830    0.650226     0.676711    0.650228   \n",
       "Shimmer:APQ5    0.694002     0.621401    0.659831     0.734021    0.659833   \n",
       "Shimmer:APQ11   0.645965     0.589998    0.603082     0.668413    0.603090   \n",
       "Shimmer:DDA     0.664147     0.623827    0.650225     0.676710    0.650227   \n",
       "NHR             0.825294     0.699960    0.792373     0.864864    0.792377   \n",
       "HNR            -0.675188    -0.706418   -0.641473    -0.662409   -0.641482   \n",
       "RPDE            0.427128     0.547100    0.382891     0.381503    0.382886   \n",
       "DFA             0.226550     0.352264    0.214881     0.175359    0.214893   \n",
       "PPE             0.721849     0.787853    0.670652     0.663491    0.670660   \n",
       "\n",
       "               ...  Shimmer(dB)  Shimmer:APQ3  Shimmer:APQ5  Shimmer:APQ11  \\\n",
       "subject#       ...     0.142864      0.112950      0.138264       0.173333   \n",
       "age            ...     0.111130      0.098912      0.089983       0.135238   \n",
       "sex            ...     0.056481      0.044937      0.064819       0.023360   \n",
       "motor_UPDRS    ...     0.110076      0.084261      0.092105       0.136560   \n",
       "total_UPDRS    ...     0.098790      0.079363      0.083467       0.120838   \n",
       "Jitter(%)      ...     0.716704      0.664149      0.694002       0.645965   \n",
       "Jitter(Abs)    ...     0.655871      0.623830      0.621401       0.589998   \n",
       "Jitter:RAP     ...     0.685551      0.650226      0.659831       0.603082   \n",
       "Jitter:PPQ5    ...     0.734591      0.676711      0.734021       0.668413   \n",
       "Jitter:DDP     ...     0.685556      0.650228      0.659833       0.603090   \n",
       "Shimmer        ...     0.992334      0.979828      0.984904       0.935457   \n",
       "Shimmer(dB)    ...     1.000000      0.968015      0.976373       0.936338   \n",
       "Shimmer:APQ3   ...     0.968015      1.000000      0.962723       0.885695   \n",
       "Shimmer:APQ5   ...     0.976373      0.962723      1.000000       0.938935   \n",
       "Shimmer:APQ11  ...     0.936338      0.885695      0.938935       1.000000   \n",
       "Shimmer:DDA    ...     0.968014      1.000000      0.962723       0.885694   \n",
       "NHR            ...     0.798077      0.732736      0.798173       0.711546   \n",
       "HNR            ...    -0.802496     -0.780697     -0.790638      -0.777974   \n",
       "RPDE           ...     0.472409      0.436878      0.450890       0.480739   \n",
       "DFA            ...     0.126111      0.130735      0.128038       0.179648   \n",
       "PPE            ...     0.635163      0.576704      0.593677       0.623416   \n",
       "\n",
       "               Shimmer:DDA       NHR       HNR      RPDE       DFA       PPE  \n",
       "subject#          0.112949  0.168743 -0.206929  0.147300  0.097464  0.157559  \n",
       "age               0.098913  0.007093 -0.104842  0.090208 -0.092870  0.120790  \n",
       "sex               0.044938  0.168170 -0.000167 -0.159262 -0.165113 -0.099901  \n",
       "motor_UPDRS       0.084260  0.074967 -0.157029  0.128607 -0.116242  0.162433  \n",
       "total_UPDRS       0.079363  0.060952 -0.162117  0.156897 -0.113475  0.156195  \n",
       "Jitter(%)         0.664147  0.825294 -0.675188  0.427128  0.226550  0.721849  \n",
       "Jitter(Abs)       0.623827  0.699960 -0.706418  0.547100  0.352264  0.787853  \n",
       "Jitter:RAP        0.650225  0.792373 -0.641473  0.382891  0.214881  0.670652  \n",
       "Jitter:PPQ5       0.676710  0.864864 -0.662409  0.381503  0.175359  0.663491  \n",
       "Jitter:DDP        0.650227  0.792377 -0.641482  0.382886  0.214893  0.670660  \n",
       "Shimmer           0.979827  0.795158 -0.801416  0.468235  0.132540  0.615709  \n",
       "Shimmer(dB)       0.968014  0.798077 -0.802496  0.472409  0.126111  0.635163  \n",
       "Shimmer:APQ3      1.000000  0.732736 -0.780697  0.436878  0.130735  0.576704  \n",
       "Shimmer:APQ5      0.962723  0.798173 -0.790638  0.450890  0.128038  0.593677  \n",
       "Shimmer:APQ11     0.885694  0.711546 -0.777974  0.480739  0.179648  0.623416  \n",
       "Shimmer:DDA       1.000000  0.732734 -0.780696  0.436872  0.130736  0.576702  \n",
       "NHR               0.732734  1.000000 -0.684412  0.416660 -0.022088  0.564654  \n",
       "HNR              -0.780696 -0.684412  1.000000 -0.659053 -0.290519 -0.758722  \n",
       "RPDE              0.436872  0.416660 -0.659053  1.000000  0.192030  0.566065  \n",
       "DFA               0.130736 -0.022088 -0.290519  0.192030  1.000000  0.394650  \n",
       "PPE               0.576702  0.564654 -0.758722  0.566065  0.394650  1.000000  \n",
       "\n",
       "[21 rows x 21 columns]"
      ]
     },
     "execution_count": 19,
     "metadata": {},
     "output_type": "execute_result"
    }
   ],
   "source": [
    "corr = park.corr()\n",
    "\n",
    "corr"
   ]
  },
  {
   "cell_type": "code",
   "execution_count": 20,
   "metadata": {
    "colab": {
     "base_uri": "https://localhost:8080/",
     "height": 535
    },
    "id": "KApWzrgPEkzJ",
    "outputId": "22117994-f2aa-43d2-da72-b3d4252768ca"
   },
   "outputs": [
    {
     "data": {
      "image/png": "[encoded data removed]",
      "text/plain": [
       "<Figure size 640x480 with 2 Axes>"
      ]
     },
     "metadata": {},
     "output_type": "display_data"
    }
   ],
   "source": [
    "\n",
    "cmap = sns.color_palette(\"BuGn\", as_cmap=True)\n",
    "# cmap = cmap.reversed()\n",
    "sns.heatmap(corr, fmt = \".2f\", linewidth = 0.1, cmap=cmap)\n",
    "plt.show()"
   ]
  },
  {
   "cell_type": "markdown",
   "metadata": {
    "id": "OxAw6fgXEkzL"
   },
   "source": [
    "We can see that all the jitter variables highly correlate with Shimmer variables."
   ]
  },
  {
   "cell_type": "markdown",
   "metadata": {
    "id": "Gbo3yvyyEkzN"
   },
   "source": [
    "Since the correlation between out two target variables, total_UPDRS and motor_UPDRS is very high, we can combine them into one, using feature enggineering, as follows:"
   ]
  },
  {
   "cell_type": "code",
   "execution_count": 21,
   "metadata": {
    "colab": {
     "base_uri": "https://localhost:8080/",
     "height": 443
    },
    "id": "bJzYZdkXEkzP",
    "outputId": "74c51d86-73e9-4b3f-d3e3-bbb8ebf51a49"
   },
   "outputs": [
    {
     "data": {
      "text/html": [
       "<div>\n",
       "<style scoped>\n",
       "    .dataframe tbody tr th:only-of-type {\n",
       "        vertical-align: middle;\n",
       "    }\n",
       "\n",
       "    .dataframe tbody tr th {\n",
       "        vertical-align: top;\n",
       "    }\n",
       "\n",
       "    .dataframe thead th {\n",
       "        text-align: right;\n",
       "    }\n",
       "</style>\n",
       "<table border=\"1\" class=\"dataframe\">\n",
       "  <thead>\n",
       "    <tr style=\"text-align: right;\">\n",
       "      <th></th>\n",
       "      <th>subject#</th>\n",
       "      <th>age</th>\n",
       "      <th>sex</th>\n",
       "      <th>Jitter(%)</th>\n",
       "      <th>Jitter(Abs)</th>\n",
       "      <th>Jitter:RAP</th>\n",
       "      <th>Jitter:PPQ5</th>\n",
       "      <th>Jitter:DDP</th>\n",
       "      <th>Shimmer</th>\n",
       "      <th>Shimmer(dB)</th>\n",
       "      <th>Shimmer:APQ3</th>\n",
       "      <th>Shimmer:APQ5</th>\n",
       "      <th>Shimmer:APQ11</th>\n",
       "      <th>Shimmer:DDA</th>\n",
       "      <th>NHR</th>\n",
       "      <th>HNR</th>\n",
       "      <th>RPDE</th>\n",
       "      <th>DFA</th>\n",
       "      <th>PPE</th>\n",
       "      <th>combined_UPDRS</th>\n",
       "    </tr>\n",
       "  </thead>\n",
       "  <tbody>\n",
       "    <tr>\n",
       "      <th>0</th>\n",
       "      <td>1</td>\n",
       "      <td>72</td>\n",
       "      <td>0</td>\n",
       "      <td>0.00662</td>\n",
       "      <td>0.000034</td>\n",
       "      <td>0.00401</td>\n",
       "      <td>0.00317</td>\n",
       "      <td>0.01204</td>\n",
       "      <td>0.02565</td>\n",
       "      <td>0.230</td>\n",
       "      <td>0.01438</td>\n",
       "      <td>0.01309</td>\n",
       "      <td>0.01662</td>\n",
       "      <td>0.04314</td>\n",
       "      <td>0.014290</td>\n",
       "      <td>21.640</td>\n",
       "      <td>0.41888</td>\n",
       "      <td>0.54842</td>\n",
       "      <td>0.16006</td>\n",
       "      <td>31.2985</td>\n",
       "    </tr>\n",
       "    <tr>\n",
       "      <th>1</th>\n",
       "      <td>1</td>\n",
       "      <td>72</td>\n",
       "      <td>0</td>\n",
       "      <td>0.00300</td>\n",
       "      <td>0.000017</td>\n",
       "      <td>0.00132</td>\n",
       "      <td>0.00150</td>\n",
       "      <td>0.00395</td>\n",
       "      <td>0.02024</td>\n",
       "      <td>0.179</td>\n",
       "      <td>0.00994</td>\n",
       "      <td>0.01072</td>\n",
       "      <td>0.01689</td>\n",
       "      <td>0.02982</td>\n",
       "      <td>0.011112</td>\n",
       "      <td>27.183</td>\n",
       "      <td>0.43493</td>\n",
       "      <td>0.56477</td>\n",
       "      <td>0.10810</td>\n",
       "      <td>31.6705</td>\n",
       "    </tr>\n",
       "    <tr>\n",
       "      <th>2</th>\n",
       "      <td>1</td>\n",
       "      <td>72</td>\n",
       "      <td>0</td>\n",
       "      <td>0.00481</td>\n",
       "      <td>0.000025</td>\n",
       "      <td>0.00205</td>\n",
       "      <td>0.00208</td>\n",
       "      <td>0.00616</td>\n",
       "      <td>0.01675</td>\n",
       "      <td>0.181</td>\n",
       "      <td>0.00734</td>\n",
       "      <td>0.00844</td>\n",
       "      <td>0.01458</td>\n",
       "      <td>0.02202</td>\n",
       "      <td>0.020220</td>\n",
       "      <td>23.047</td>\n",
       "      <td>0.46222</td>\n",
       "      <td>0.54405</td>\n",
       "      <td>0.21014</td>\n",
       "      <td>32.0420</td>\n",
       "    </tr>\n",
       "    <tr>\n",
       "      <th>3</th>\n",
       "      <td>1</td>\n",
       "      <td>72</td>\n",
       "      <td>0</td>\n",
       "      <td>0.00528</td>\n",
       "      <td>0.000027</td>\n",
       "      <td>0.00191</td>\n",
       "      <td>0.00264</td>\n",
       "      <td>0.00573</td>\n",
       "      <td>0.02309</td>\n",
       "      <td>0.327</td>\n",
       "      <td>0.01106</td>\n",
       "      <td>0.01265</td>\n",
       "      <td>0.01963</td>\n",
       "      <td>0.03317</td>\n",
       "      <td>0.027837</td>\n",
       "      <td>24.445</td>\n",
       "      <td>0.48730</td>\n",
       "      <td>0.57794</td>\n",
       "      <td>0.33277</td>\n",
       "      <td>32.3575</td>\n",
       "    </tr>\n",
       "    <tr>\n",
       "      <th>4</th>\n",
       "      <td>1</td>\n",
       "      <td>72</td>\n",
       "      <td>0</td>\n",
       "      <td>0.00335</td>\n",
       "      <td>0.000020</td>\n",
       "      <td>0.00093</td>\n",
       "      <td>0.00130</td>\n",
       "      <td>0.00278</td>\n",
       "      <td>0.01703</td>\n",
       "      <td>0.176</td>\n",
       "      <td>0.00679</td>\n",
       "      <td>0.00929</td>\n",
       "      <td>0.01819</td>\n",
       "      <td>0.02036</td>\n",
       "      <td>0.011625</td>\n",
       "      <td>26.126</td>\n",
       "      <td>0.47188</td>\n",
       "      <td>0.56122</td>\n",
       "      <td>0.19361</td>\n",
       "      <td>32.7810</td>\n",
       "    </tr>\n",
       "    <tr>\n",
       "      <th>...</th>\n",
       "      <td>...</td>\n",
       "      <td>...</td>\n",
       "      <td>...</td>\n",
       "      <td>...</td>\n",
       "      <td>...</td>\n",
       "      <td>...</td>\n",
       "      <td>...</td>\n",
       "      <td>...</td>\n",
       "      <td>...</td>\n",
       "      <td>...</td>\n",
       "      <td>...</td>\n",
       "      <td>...</td>\n",
       "      <td>...</td>\n",
       "      <td>...</td>\n",
       "      <td>...</td>\n",
       "      <td>...</td>\n",
       "      <td>...</td>\n",
       "      <td>...</td>\n",
       "      <td>...</td>\n",
       "      <td>...</td>\n",
       "    </tr>\n",
       "    <tr>\n",
       "      <th>95</th>\n",
       "      <td>1</td>\n",
       "      <td>72</td>\n",
       "      <td>0</td>\n",
       "      <td>0.00493</td>\n",
       "      <td>0.000027</td>\n",
       "      <td>0.00196</td>\n",
       "      <td>0.00237</td>\n",
       "      <td>0.00588</td>\n",
       "      <td>0.01735</td>\n",
       "      <td>0.183</td>\n",
       "      <td>0.00843</td>\n",
       "      <td>0.01012</td>\n",
       "      <td>0.01403</td>\n",
       "      <td>0.02528</td>\n",
       "      <td>0.023882</td>\n",
       "      <td>24.519</td>\n",
       "      <td>0.51510</td>\n",
       "      <td>0.54723</td>\n",
       "      <td>0.21213</td>\n",
       "      <td>40.7615</td>\n",
       "    </tr>\n",
       "    <tr>\n",
       "      <th>96</th>\n",
       "      <td>1</td>\n",
       "      <td>72</td>\n",
       "      <td>0</td>\n",
       "      <td>0.00296</td>\n",
       "      <td>0.000018</td>\n",
       "      <td>0.00086</td>\n",
       "      <td>0.00120</td>\n",
       "      <td>0.00259</td>\n",
       "      <td>0.02135</td>\n",
       "      <td>0.197</td>\n",
       "      <td>0.00889</td>\n",
       "      <td>0.01143</td>\n",
       "      <td>0.01986</td>\n",
       "      <td>0.02668</td>\n",
       "      <td>0.005710</td>\n",
       "      <td>25.696</td>\n",
       "      <td>0.52484</td>\n",
       "      <td>0.57219</td>\n",
       "      <td>0.15257</td>\n",
       "      <td>41.3055</td>\n",
       "    </tr>\n",
       "    <tr>\n",
       "      <th>97</th>\n",
       "      <td>1</td>\n",
       "      <td>72</td>\n",
       "      <td>0</td>\n",
       "      <td>0.00285</td>\n",
       "      <td>0.000016</td>\n",
       "      <td>0.00113</td>\n",
       "      <td>0.00141</td>\n",
       "      <td>0.00339</td>\n",
       "      <td>0.01432</td>\n",
       "      <td>0.134</td>\n",
       "      <td>0.00764</td>\n",
       "      <td>0.00850</td>\n",
       "      <td>0.01222</td>\n",
       "      <td>0.02291</td>\n",
       "      <td>0.004805</td>\n",
       "      <td>26.264</td>\n",
       "      <td>0.42922</td>\n",
       "      <td>0.54986</td>\n",
       "      <td>0.15523</td>\n",
       "      <td>41.8500</td>\n",
       "    </tr>\n",
       "    <tr>\n",
       "      <th>98</th>\n",
       "      <td>1</td>\n",
       "      <td>72</td>\n",
       "      <td>0</td>\n",
       "      <td>0.00547</td>\n",
       "      <td>0.000024</td>\n",
       "      <td>0.00234</td>\n",
       "      <td>0.00268</td>\n",
       "      <td>0.00701</td>\n",
       "      <td>0.01991</td>\n",
       "      <td>0.267</td>\n",
       "      <td>0.00912</td>\n",
       "      <td>0.00969</td>\n",
       "      <td>0.01333</td>\n",
       "      <td>0.02735</td>\n",
       "      <td>0.017361</td>\n",
       "      <td>24.543</td>\n",
       "      <td>0.52026</td>\n",
       "      <td>0.53879</td>\n",
       "      <td>0.29135</td>\n",
       "      <td>42.4740</td>\n",
       "    </tr>\n",
       "    <tr>\n",
       "      <th>99</th>\n",
       "      <td>1</td>\n",
       "      <td>72</td>\n",
       "      <td>0</td>\n",
       "      <td>0.00294</td>\n",
       "      <td>0.000015</td>\n",
       "      <td>0.00121</td>\n",
       "      <td>0.00125</td>\n",
       "      <td>0.00362</td>\n",
       "      <td>0.01058</td>\n",
       "      <td>0.098</td>\n",
       "      <td>0.00459</td>\n",
       "      <td>0.00495</td>\n",
       "      <td>0.00888</td>\n",
       "      <td>0.01377</td>\n",
       "      <td>0.014919</td>\n",
       "      <td>27.530</td>\n",
       "      <td>0.40986</td>\n",
       "      <td>0.53572</td>\n",
       "      <td>0.16635</td>\n",
       "      <td>31.2990</td>\n",
       "    </tr>\n",
       "  </tbody>\n",
       "</table>\n",
       "<p>100 rows × 20 columns</p>\n",
       "</div>"
      ],
      "text/plain": [
       "    subject#  age  sex  Jitter(%)  Jitter(Abs)  Jitter:RAP  Jitter:PPQ5  \\\n",
       "0          1   72    0    0.00662     0.000034     0.00401      0.00317   \n",
       "1          1   72    0    0.00300     0.000017     0.00132      0.00150   \n",
       "2          1   72    0    0.00481     0.000025     0.00205      0.00208   \n",
       "3          1   72    0    0.00528     0.000027     0.00191      0.00264   \n",
       "4          1   72    0    0.00335     0.000020     0.00093      0.00130   \n",
       "..       ...  ...  ...        ...          ...         ...          ...   \n",
       "95         1   72    0    0.00493     0.000027     0.00196      0.00237   \n",
       "96         1   72    0    0.00296     0.000018     0.00086      0.00120   \n",
       "97         1   72    0    0.00285     0.000016     0.00113      0.00141   \n",
       "98         1   72    0    0.00547     0.000024     0.00234      0.00268   \n",
       "99         1   72    0    0.00294     0.000015     0.00121      0.00125   \n",
       "\n",
       "    Jitter:DDP  Shimmer  Shimmer(dB)  Shimmer:APQ3  Shimmer:APQ5  \\\n",
       "0      0.01204  0.02565        0.230       0.01438       0.01309   \n",
       "1      0.00395  0.02024        0.179       0.00994       0.01072   \n",
       "2      0.00616  0.01675        0.181       0.00734       0.00844   \n",
       "3      0.00573  0.02309        0.327       0.01106       0.01265   \n",
       "4      0.00278  0.01703        0.176       0.00679       0.00929   \n",
       "..         ...      ...          ...           ...           ...   \n",
       "95     0.00588  0.01735        0.183       0.00843       0.01012   \n",
       "96     0.00259  0.02135        0.197       0.00889       0.01143   \n",
       "97     0.00339  0.01432        0.134       0.00764       0.00850   \n",
       "98     0.00701  0.01991        0.267       0.00912       0.00969   \n",
       "99     0.00362  0.01058        0.098       0.00459       0.00495   \n",
       "\n",
       "    Shimmer:APQ11  Shimmer:DDA       NHR     HNR     RPDE      DFA      PPE  \\\n",
       "0         0.01662      0.04314  0.014290  21.640  0.41888  0.54842  0.16006   \n",
       "1         0.01689      0.02982  0.011112  27.183  0.43493  0.56477  0.10810   \n",
       "2         0.01458      0.02202  0.020220  23.047  0.46222  0.54405  0.21014   \n",
       "3         0.01963      0.03317  0.027837  24.445  0.48730  0.57794  0.33277   \n",
       "4         0.01819      0.02036  0.011625  26.126  0.47188  0.56122  0.19361   \n",
       "..            ...          ...       ...     ...      ...      ...      ...   \n",
       "95        0.01403      0.02528  0.023882  24.519  0.51510  0.54723  0.21213   \n",
       "96        0.01986      0.02668  0.005710  25.696  0.52484  0.57219  0.15257   \n",
       "97        0.01222      0.02291  0.004805  26.264  0.42922  0.54986  0.15523   \n",
       "98        0.01333      0.02735  0.017361  24.543  0.52026  0.53879  0.29135   \n",
       "99        0.00888      0.01377  0.014919  27.530  0.40986  0.53572  0.16635   \n",
       "\n",
       "    combined_UPDRS  \n",
       "0          31.2985  \n",
       "1          31.6705  \n",
       "2          32.0420  \n",
       "3          32.3575  \n",
       "4          32.7810  \n",
       "..             ...  \n",
       "95         40.7615  \n",
       "96         41.3055  \n",
       "97         41.8500  \n",
       "98         42.4740  \n",
       "99         31.2990  \n",
       "\n",
       "[100 rows x 20 columns]"
      ]
     },
     "execution_count": 21,
     "metadata": {},
     "output_type": "execute_result"
    }
   ],
   "source": [
    "park['combined_UPDRS'] = (park['total_UPDRS']+park['motor_UPDRS'])/2\n",
    "park = park.drop(columns = ['total_UPDRS', 'motor_UPDRS'])\n",
    "\n",
    "park.head(100)"
   ]
  },
  {
   "cell_type": "code",
   "execution_count": 22,
   "metadata": {
    "colab": {
     "base_uri": "https://localhost:8080/",
     "height": 853
    },
    "id": "9jsRLeDz8kCH",
    "outputId": "8840c066-3224-43b3-c224-592bbc23299d"
   },
   "outputs": [
    {
     "data": {
      "text/html": [
       "<div>\n",
       "<style scoped>\n",
       "    .dataframe tbody tr th:only-of-type {\n",
       "        vertical-align: middle;\n",
       "    }\n",
       "\n",
       "    .dataframe tbody tr th {\n",
       "        vertical-align: top;\n",
       "    }\n",
       "\n",
       "    .dataframe thead th {\n",
       "        text-align: right;\n",
       "    }\n",
       "</style>\n",
       "<table border=\"1\" class=\"dataframe\">\n",
       "  <thead>\n",
       "    <tr style=\"text-align: right;\">\n",
       "      <th></th>\n",
       "      <th>subject#</th>\n",
       "      <th>age</th>\n",
       "      <th>sex</th>\n",
       "      <th>Jitter(%)</th>\n",
       "      <th>Jitter(Abs)</th>\n",
       "      <th>Jitter:RAP</th>\n",
       "      <th>Jitter:PPQ5</th>\n",
       "      <th>Jitter:DDP</th>\n",
       "      <th>Shimmer</th>\n",
       "      <th>Shimmer(dB)</th>\n",
       "      <th>Shimmer:APQ3</th>\n",
       "      <th>Shimmer:APQ5</th>\n",
       "      <th>Shimmer:APQ11</th>\n",
       "      <th>Shimmer:DDA</th>\n",
       "      <th>NHR</th>\n",
       "      <th>HNR</th>\n",
       "      <th>RPDE</th>\n",
       "      <th>DFA</th>\n",
       "      <th>PPE</th>\n",
       "      <th>combined_UPDRS</th>\n",
       "    </tr>\n",
       "  </thead>\n",
       "  <tbody>\n",
       "    <tr>\n",
       "      <th>2541</th>\n",
       "      <td>18</td>\n",
       "      <td>65</td>\n",
       "      <td>0</td>\n",
       "      <td>0.00450</td>\n",
       "      <td>0.000028</td>\n",
       "      <td>0.00236</td>\n",
       "      <td>0.00233</td>\n",
       "      <td>0.00707</td>\n",
       "      <td>0.02199</td>\n",
       "      <td>0.191</td>\n",
       "      <td>0.01155</td>\n",
       "      <td>0.01237</td>\n",
       "      <td>0.01603</td>\n",
       "      <td>0.03465</td>\n",
       "      <td>0.023211</td>\n",
       "      <td>25.577</td>\n",
       "      <td>0.50655</td>\n",
       "      <td>0.62207</td>\n",
       "      <td>0.14914</td>\n",
       "      <td>6.01885</td>\n",
       "    </tr>\n",
       "    <tr>\n",
       "      <th>2499</th>\n",
       "      <td>18</td>\n",
       "      <td>65</td>\n",
       "      <td>0</td>\n",
       "      <td>0.00372</td>\n",
       "      <td>0.000028</td>\n",
       "      <td>0.00184</td>\n",
       "      <td>0.00167</td>\n",
       "      <td>0.00552</td>\n",
       "      <td>0.01698</td>\n",
       "      <td>0.164</td>\n",
       "      <td>0.00754</td>\n",
       "      <td>0.00868</td>\n",
       "      <td>0.01264</td>\n",
       "      <td>0.02262</td>\n",
       "      <td>0.009042</td>\n",
       "      <td>26.346</td>\n",
       "      <td>0.36347</td>\n",
       "      <td>0.67990</td>\n",
       "      <td>0.16024</td>\n",
       "      <td>6.01885</td>\n",
       "    </tr>\n",
       "    <tr>\n",
       "      <th>2520</th>\n",
       "      <td>18</td>\n",
       "      <td>65</td>\n",
       "      <td>0</td>\n",
       "      <td>0.00285</td>\n",
       "      <td>0.000021</td>\n",
       "      <td>0.00131</td>\n",
       "      <td>0.00171</td>\n",
       "      <td>0.00393</td>\n",
       "      <td>0.01882</td>\n",
       "      <td>0.167</td>\n",
       "      <td>0.00909</td>\n",
       "      <td>0.01073</td>\n",
       "      <td>0.01591</td>\n",
       "      <td>0.02728</td>\n",
       "      <td>0.009729</td>\n",
       "      <td>26.763</td>\n",
       "      <td>0.39404</td>\n",
       "      <td>0.63078</td>\n",
       "      <td>0.14153</td>\n",
       "      <td>6.01885</td>\n",
       "    </tr>\n",
       "    <tr>\n",
       "      <th>2436</th>\n",
       "      <td>18</td>\n",
       "      <td>65</td>\n",
       "      <td>0</td>\n",
       "      <td>0.00520</td>\n",
       "      <td>0.000040</td>\n",
       "      <td>0.00219</td>\n",
       "      <td>0.00276</td>\n",
       "      <td>0.00658</td>\n",
       "      <td>0.02191</td>\n",
       "      <td>0.189</td>\n",
       "      <td>0.01042</td>\n",
       "      <td>0.01327</td>\n",
       "      <td>0.01841</td>\n",
       "      <td>0.03126</td>\n",
       "      <td>0.017852</td>\n",
       "      <td>23.065</td>\n",
       "      <td>0.53743</td>\n",
       "      <td>0.70586</td>\n",
       "      <td>0.21323</td>\n",
       "      <td>6.01890</td>\n",
       "    </tr>\n",
       "    <tr>\n",
       "      <th>2457</th>\n",
       "      <td>18</td>\n",
       "      <td>65</td>\n",
       "      <td>0</td>\n",
       "      <td>0.00336</td>\n",
       "      <td>0.000024</td>\n",
       "      <td>0.00144</td>\n",
       "      <td>0.00192</td>\n",
       "      <td>0.00432</td>\n",
       "      <td>0.02842</td>\n",
       "      <td>0.242</td>\n",
       "      <td>0.01299</td>\n",
       "      <td>0.01511</td>\n",
       "      <td>0.02280</td>\n",
       "      <td>0.03896</td>\n",
       "      <td>0.014654</td>\n",
       "      <td>25.338</td>\n",
       "      <td>0.57389</td>\n",
       "      <td>0.65187</td>\n",
       "      <td>0.16944</td>\n",
       "      <td>6.01890</td>\n",
       "    </tr>\n",
       "    <tr>\n",
       "      <th>2478</th>\n",
       "      <td>18</td>\n",
       "      <td>65</td>\n",
       "      <td>0</td>\n",
       "      <td>0.00413</td>\n",
       "      <td>0.000028</td>\n",
       "      <td>0.00205</td>\n",
       "      <td>0.00214</td>\n",
       "      <td>0.00616</td>\n",
       "      <td>0.01543</td>\n",
       "      <td>0.139</td>\n",
       "      <td>0.00717</td>\n",
       "      <td>0.00808</td>\n",
       "      <td>0.01207</td>\n",
       "      <td>0.02152</td>\n",
       "      <td>0.014056</td>\n",
       "      <td>27.479</td>\n",
       "      <td>0.37811</td>\n",
       "      <td>0.62777</td>\n",
       "      <td>0.10806</td>\n",
       "      <td>6.01890</td>\n",
       "    </tr>\n",
       "    <tr>\n",
       "      <th>2498</th>\n",
       "      <td>18</td>\n",
       "      <td>65</td>\n",
       "      <td>0</td>\n",
       "      <td>0.00429</td>\n",
       "      <td>0.000029</td>\n",
       "      <td>0.00210</td>\n",
       "      <td>0.00237</td>\n",
       "      <td>0.00629</td>\n",
       "      <td>0.02210</td>\n",
       "      <td>0.210</td>\n",
       "      <td>0.01035</td>\n",
       "      <td>0.01185</td>\n",
       "      <td>0.01592</td>\n",
       "      <td>0.03105</td>\n",
       "      <td>0.013138</td>\n",
       "      <td>22.929</td>\n",
       "      <td>0.44845</td>\n",
       "      <td>0.66905</td>\n",
       "      <td>0.18988</td>\n",
       "      <td>6.06875</td>\n",
       "    </tr>\n",
       "    <tr>\n",
       "      <th>2519</th>\n",
       "      <td>18</td>\n",
       "      <td>65</td>\n",
       "      <td>0</td>\n",
       "      <td>0.00665</td>\n",
       "      <td>0.000041</td>\n",
       "      <td>0.00377</td>\n",
       "      <td>0.00314</td>\n",
       "      <td>0.01131</td>\n",
       "      <td>0.03234</td>\n",
       "      <td>0.295</td>\n",
       "      <td>0.01789</td>\n",
       "      <td>0.01839</td>\n",
       "      <td>0.02251</td>\n",
       "      <td>0.05368</td>\n",
       "      <td>0.015050</td>\n",
       "      <td>20.339</td>\n",
       "      <td>0.40974</td>\n",
       "      <td>0.67668</td>\n",
       "      <td>0.17117</td>\n",
       "      <td>6.06875</td>\n",
       "    </tr>\n",
       "    <tr>\n",
       "      <th>2540</th>\n",
       "      <td>18</td>\n",
       "      <td>65</td>\n",
       "      <td>0</td>\n",
       "      <td>0.00382</td>\n",
       "      <td>0.000023</td>\n",
       "      <td>0.00191</td>\n",
       "      <td>0.00199</td>\n",
       "      <td>0.00574</td>\n",
       "      <td>0.01819</td>\n",
       "      <td>0.155</td>\n",
       "      <td>0.00923</td>\n",
       "      <td>0.01049</td>\n",
       "      <td>0.01195</td>\n",
       "      <td>0.02770</td>\n",
       "      <td>0.011325</td>\n",
       "      <td>23.763</td>\n",
       "      <td>0.41835</td>\n",
       "      <td>0.65168</td>\n",
       "      <td>0.11594</td>\n",
       "      <td>6.06875</td>\n",
       "    </tr>\n",
       "    <tr>\n",
       "      <th>2435</th>\n",
       "      <td>18</td>\n",
       "      <td>65</td>\n",
       "      <td>0</td>\n",
       "      <td>0.00507</td>\n",
       "      <td>0.000034</td>\n",
       "      <td>0.00200</td>\n",
       "      <td>0.00238</td>\n",
       "      <td>0.00601</td>\n",
       "      <td>0.03903</td>\n",
       "      <td>0.349</td>\n",
       "      <td>0.01967</td>\n",
       "      <td>0.02541</td>\n",
       "      <td>0.03426</td>\n",
       "      <td>0.05902</td>\n",
       "      <td>0.017699</td>\n",
       "      <td>23.404</td>\n",
       "      <td>0.50003</td>\n",
       "      <td>0.66764</td>\n",
       "      <td>0.21611</td>\n",
       "      <td>6.06880</td>\n",
       "    </tr>\n",
       "    <tr>\n",
       "      <th>2456</th>\n",
       "      <td>18</td>\n",
       "      <td>65</td>\n",
       "      <td>0</td>\n",
       "      <td>0.00580</td>\n",
       "      <td>0.000041</td>\n",
       "      <td>0.00276</td>\n",
       "      <td>0.00312</td>\n",
       "      <td>0.00827</td>\n",
       "      <td>0.02768</td>\n",
       "      <td>0.242</td>\n",
       "      <td>0.01555</td>\n",
       "      <td>0.01758</td>\n",
       "      <td>0.01996</td>\n",
       "      <td>0.04665</td>\n",
       "      <td>0.020589</td>\n",
       "      <td>21.423</td>\n",
       "      <td>0.45793</td>\n",
       "      <td>0.66908</td>\n",
       "      <td>0.21821</td>\n",
       "      <td>6.06880</td>\n",
       "    </tr>\n",
       "    <tr>\n",
       "      <th>2477</th>\n",
       "      <td>18</td>\n",
       "      <td>65</td>\n",
       "      <td>0</td>\n",
       "      <td>0.00435</td>\n",
       "      <td>0.000029</td>\n",
       "      <td>0.00219</td>\n",
       "      <td>0.00237</td>\n",
       "      <td>0.00657</td>\n",
       "      <td>0.01955</td>\n",
       "      <td>0.168</td>\n",
       "      <td>0.00877</td>\n",
       "      <td>0.01115</td>\n",
       "      <td>0.01455</td>\n",
       "      <td>0.02631</td>\n",
       "      <td>0.014130</td>\n",
       "      <td>22.035</td>\n",
       "      <td>0.37524</td>\n",
       "      <td>0.64624</td>\n",
       "      <td>0.18423</td>\n",
       "      <td>6.06880</td>\n",
       "    </tr>\n",
       "    <tr>\n",
       "      <th>2539</th>\n",
       "      <td>18</td>\n",
       "      <td>65</td>\n",
       "      <td>0</td>\n",
       "      <td>0.00255</td>\n",
       "      <td>0.000018</td>\n",
       "      <td>0.00091</td>\n",
       "      <td>0.00132</td>\n",
       "      <td>0.00274</td>\n",
       "      <td>0.01874</td>\n",
       "      <td>0.167</td>\n",
       "      <td>0.00963</td>\n",
       "      <td>0.01120</td>\n",
       "      <td>0.01397</td>\n",
       "      <td>0.02888</td>\n",
       "      <td>0.008797</td>\n",
       "      <td>28.229</td>\n",
       "      <td>0.44599</td>\n",
       "      <td>0.61090</td>\n",
       "      <td>0.10388</td>\n",
       "      <td>6.21850</td>\n",
       "    </tr>\n",
       "    <tr>\n",
       "      <th>2518</th>\n",
       "      <td>18</td>\n",
       "      <td>65</td>\n",
       "      <td>0</td>\n",
       "      <td>0.00327</td>\n",
       "      <td>0.000022</td>\n",
       "      <td>0.00117</td>\n",
       "      <td>0.00148</td>\n",
       "      <td>0.00351</td>\n",
       "      <td>0.02354</td>\n",
       "      <td>0.210</td>\n",
       "      <td>0.01209</td>\n",
       "      <td>0.01413</td>\n",
       "      <td>0.01653</td>\n",
       "      <td>0.03627</td>\n",
       "      <td>0.009108</td>\n",
       "      <td>27.249</td>\n",
       "      <td>0.43510</td>\n",
       "      <td>0.61306</td>\n",
       "      <td>0.16164</td>\n",
       "      <td>6.21855</td>\n",
       "    </tr>\n",
       "    <tr>\n",
       "      <th>2434</th>\n",
       "      <td>18</td>\n",
       "      <td>65</td>\n",
       "      <td>0</td>\n",
       "      <td>0.00796</td>\n",
       "      <td>0.000061</td>\n",
       "      <td>0.00443</td>\n",
       "      <td>0.00347</td>\n",
       "      <td>0.01328</td>\n",
       "      <td>0.03704</td>\n",
       "      <td>0.324</td>\n",
       "      <td>0.02062</td>\n",
       "      <td>0.02198</td>\n",
       "      <td>0.03117</td>\n",
       "      <td>0.06185</td>\n",
       "      <td>0.027205</td>\n",
       "      <td>18.430</td>\n",
       "      <td>0.57261</td>\n",
       "      <td>0.64587</td>\n",
       "      <td>0.20977</td>\n",
       "      <td>6.21855</td>\n",
       "    </tr>\n",
       "    <tr>\n",
       "      <th>2497</th>\n",
       "      <td>18</td>\n",
       "      <td>65</td>\n",
       "      <td>0</td>\n",
       "      <td>0.00351</td>\n",
       "      <td>0.000028</td>\n",
       "      <td>0.00148</td>\n",
       "      <td>0.00176</td>\n",
       "      <td>0.00443</td>\n",
       "      <td>0.01565</td>\n",
       "      <td>0.145</td>\n",
       "      <td>0.00684</td>\n",
       "      <td>0.00859</td>\n",
       "      <td>0.01317</td>\n",
       "      <td>0.02053</td>\n",
       "      <td>0.012902</td>\n",
       "      <td>24.743</td>\n",
       "      <td>0.36984</td>\n",
       "      <td>0.68271</td>\n",
       "      <td>0.14619</td>\n",
       "      <td>6.21855</td>\n",
       "    </tr>\n",
       "    <tr>\n",
       "      <th>2455</th>\n",
       "      <td>18</td>\n",
       "      <td>65</td>\n",
       "      <td>0</td>\n",
       "      <td>0.00384</td>\n",
       "      <td>0.000031</td>\n",
       "      <td>0.00161</td>\n",
       "      <td>0.00179</td>\n",
       "      <td>0.00482</td>\n",
       "      <td>0.03116</td>\n",
       "      <td>0.272</td>\n",
       "      <td>0.01536</td>\n",
       "      <td>0.01856</td>\n",
       "      <td>0.02956</td>\n",
       "      <td>0.04609</td>\n",
       "      <td>0.008433</td>\n",
       "      <td>23.388</td>\n",
       "      <td>0.52756</td>\n",
       "      <td>0.64706</td>\n",
       "      <td>0.13463</td>\n",
       "      <td>6.21855</td>\n",
       "    </tr>\n",
       "    <tr>\n",
       "      <th>2476</th>\n",
       "      <td>18</td>\n",
       "      <td>65</td>\n",
       "      <td>0</td>\n",
       "      <td>0.00440</td>\n",
       "      <td>0.000034</td>\n",
       "      <td>0.00198</td>\n",
       "      <td>0.00218</td>\n",
       "      <td>0.00593</td>\n",
       "      <td>0.02691</td>\n",
       "      <td>0.235</td>\n",
       "      <td>0.01402</td>\n",
       "      <td>0.01662</td>\n",
       "      <td>0.02117</td>\n",
       "      <td>0.04206</td>\n",
       "      <td>0.015494</td>\n",
       "      <td>23.594</td>\n",
       "      <td>0.39925</td>\n",
       "      <td>0.65306</td>\n",
       "      <td>0.16121</td>\n",
       "      <td>6.21855</td>\n",
       "    </tr>\n",
       "    <tr>\n",
       "      <th>2433</th>\n",
       "      <td>18</td>\n",
       "      <td>65</td>\n",
       "      <td>0</td>\n",
       "      <td>0.00305</td>\n",
       "      <td>0.000024</td>\n",
       "      <td>0.00110</td>\n",
       "      <td>0.00168</td>\n",
       "      <td>0.00331</td>\n",
       "      <td>0.01701</td>\n",
       "      <td>0.148</td>\n",
       "      <td>0.00825</td>\n",
       "      <td>0.01083</td>\n",
       "      <td>0.01450</td>\n",
       "      <td>0.02476</td>\n",
       "      <td>0.005543</td>\n",
       "      <td>25.319</td>\n",
       "      <td>0.46471</td>\n",
       "      <td>0.64498</td>\n",
       "      <td>0.14824</td>\n",
       "      <td>6.26865</td>\n",
       "    </tr>\n",
       "    <tr>\n",
       "      <th>2538</th>\n",
       "      <td>18</td>\n",
       "      <td>65</td>\n",
       "      <td>0</td>\n",
       "      <td>0.00304</td>\n",
       "      <td>0.000019</td>\n",
       "      <td>0.00130</td>\n",
       "      <td>0.00143</td>\n",
       "      <td>0.00391</td>\n",
       "      <td>0.02731</td>\n",
       "      <td>0.249</td>\n",
       "      <td>0.01444</td>\n",
       "      <td>0.01595</td>\n",
       "      <td>0.01921</td>\n",
       "      <td>0.04333</td>\n",
       "      <td>0.011445</td>\n",
       "      <td>26.343</td>\n",
       "      <td>0.43357</td>\n",
       "      <td>0.62573</td>\n",
       "      <td>0.12502</td>\n",
       "      <td>6.26865</td>\n",
       "    </tr>\n",
       "    <tr>\n",
       "      <th>2475</th>\n",
       "      <td>18</td>\n",
       "      <td>65</td>\n",
       "      <td>0</td>\n",
       "      <td>0.00255</td>\n",
       "      <td>0.000019</td>\n",
       "      <td>0.00083</td>\n",
       "      <td>0.00134</td>\n",
       "      <td>0.00248</td>\n",
       "      <td>0.01539</td>\n",
       "      <td>0.145</td>\n",
       "      <td>0.00717</td>\n",
       "      <td>0.00804</td>\n",
       "      <td>0.01226</td>\n",
       "      <td>0.02151</td>\n",
       "      <td>0.008480</td>\n",
       "      <td>27.496</td>\n",
       "      <td>0.41991</td>\n",
       "      <td>0.61841</td>\n",
       "      <td>0.12222</td>\n",
       "      <td>6.26865</td>\n",
       "    </tr>\n",
       "    <tr>\n",
       "      <th>2454</th>\n",
       "      <td>18</td>\n",
       "      <td>65</td>\n",
       "      <td>0</td>\n",
       "      <td>0.01397</td>\n",
       "      <td>0.000109</td>\n",
       "      <td>0.00799</td>\n",
       "      <td>0.00708</td>\n",
       "      <td>0.02396</td>\n",
       "      <td>0.04717</td>\n",
       "      <td>0.461</td>\n",
       "      <td>0.02356</td>\n",
       "      <td>0.02606</td>\n",
       "      <td>0.03604</td>\n",
       "      <td>0.07068</td>\n",
       "      <td>0.060704</td>\n",
       "      <td>16.196</td>\n",
       "      <td>0.60572</td>\n",
       "      <td>0.65798</td>\n",
       "      <td>0.37086</td>\n",
       "      <td>6.26865</td>\n",
       "    </tr>\n",
       "    <tr>\n",
       "      <th>2496</th>\n",
       "      <td>18</td>\n",
       "      <td>65</td>\n",
       "      <td>0</td>\n",
       "      <td>0.00504</td>\n",
       "      <td>0.000041</td>\n",
       "      <td>0.00272</td>\n",
       "      <td>0.00267</td>\n",
       "      <td>0.00816</td>\n",
       "      <td>0.02834</td>\n",
       "      <td>0.261</td>\n",
       "      <td>0.01538</td>\n",
       "      <td>0.01787</td>\n",
       "      <td>0.02347</td>\n",
       "      <td>0.04614</td>\n",
       "      <td>0.022402</td>\n",
       "      <td>21.267</td>\n",
       "      <td>0.53399</td>\n",
       "      <td>0.65494</td>\n",
       "      <td>0.16349</td>\n",
       "      <td>6.26865</td>\n",
       "    </tr>\n",
       "    <tr>\n",
       "      <th>2517</th>\n",
       "      <td>18</td>\n",
       "      <td>65</td>\n",
       "      <td>0</td>\n",
       "      <td>0.00316</td>\n",
       "      <td>0.000019</td>\n",
       "      <td>0.00129</td>\n",
       "      <td>0.00151</td>\n",
       "      <td>0.00388</td>\n",
       "      <td>0.02520</td>\n",
       "      <td>0.224</td>\n",
       "      <td>0.01319</td>\n",
       "      <td>0.01359</td>\n",
       "      <td>0.01788</td>\n",
       "      <td>0.03957</td>\n",
       "      <td>0.010668</td>\n",
       "      <td>25.148</td>\n",
       "      <td>0.40305</td>\n",
       "      <td>0.62551</td>\n",
       "      <td>0.16091</td>\n",
       "      <td>6.26865</td>\n",
       "    </tr>\n",
       "    <tr>\n",
       "      <th>2495</th>\n",
       "      <td>18</td>\n",
       "      <td>65</td>\n",
       "      <td>0</td>\n",
       "      <td>0.00391</td>\n",
       "      <td>0.000031</td>\n",
       "      <td>0.00194</td>\n",
       "      <td>0.00206</td>\n",
       "      <td>0.00581</td>\n",
       "      <td>0.01566</td>\n",
       "      <td>0.142</td>\n",
       "      <td>0.00722</td>\n",
       "      <td>0.00819</td>\n",
       "      <td>0.01104</td>\n",
       "      <td>0.02167</td>\n",
       "      <td>0.015033</td>\n",
       "      <td>25.252</td>\n",
       "      <td>0.44007</td>\n",
       "      <td>0.71749</td>\n",
       "      <td>0.18969</td>\n",
       "      <td>6.31860</td>\n",
       "    </tr>\n",
       "  </tbody>\n",
       "</table>\n",
       "</div>"
      ],
      "text/plain": [
       "      subject#  age  sex  Jitter(%)  Jitter(Abs)  Jitter:RAP  Jitter:PPQ5  \\\n",
       "2541        18   65    0    0.00450     0.000028     0.00236      0.00233   \n",
       "2499        18   65    0    0.00372     0.000028     0.00184      0.00167   \n",
       "2520        18   65    0    0.00285     0.000021     0.00131      0.00171   \n",
       "2436        18   65    0    0.00520     0.000040     0.00219      0.00276   \n",
       "2457        18   65    0    0.00336     0.000024     0.00144      0.00192   \n",
       "2478        18   65    0    0.00413     0.000028     0.00205      0.00214   \n",
       "2498        18   65    0    0.00429     0.000029     0.00210      0.00237   \n",
       "2519        18   65    0    0.00665     0.000041     0.00377      0.00314   \n",
       "2540        18   65    0    0.00382     0.000023     0.00191      0.00199   \n",
       "2435        18   65    0    0.00507     0.000034     0.00200      0.00238   \n",
       "2456        18   65    0    0.00580     0.000041     0.00276      0.00312   \n",
       "2477        18   65    0    0.00435     0.000029     0.00219      0.00237   \n",
       "2539        18   65    0    0.00255     0.000018     0.00091      0.00132   \n",
       "2518        18   65    0    0.00327     0.000022     0.00117      0.00148   \n",
       "2434        18   65    0    0.00796     0.000061     0.00443      0.00347   \n",
       "2497        18   65    0    0.00351     0.000028     0.00148      0.00176   \n",
       "2455        18   65    0    0.00384     0.000031     0.00161      0.00179   \n",
       "2476        18   65    0    0.00440     0.000034     0.00198      0.00218   \n",
       "2433        18   65    0    0.00305     0.000024     0.00110      0.00168   \n",
       "2538        18   65    0    0.00304     0.000019     0.00130      0.00143   \n",
       "2475        18   65    0    0.00255     0.000019     0.00083      0.00134   \n",
       "2454        18   65    0    0.01397     0.000109     0.00799      0.00708   \n",
       "2496        18   65    0    0.00504     0.000041     0.00272      0.00267   \n",
       "2517        18   65    0    0.00316     0.000019     0.00129      0.00151   \n",
       "2495        18   65    0    0.00391     0.000031     0.00194      0.00206   \n",
       "\n",
       "      Jitter:DDP  Shimmer  Shimmer(dB)  Shimmer:APQ3  Shimmer:APQ5  \\\n",
       "2541     0.00707  0.02199        0.191       0.01155       0.01237   \n",
       "2499     0.00552  0.01698        0.164       0.00754       0.00868   \n",
       "2520     0.00393  0.01882        0.167       0.00909       0.01073   \n",
       "2436     0.00658  0.02191        0.189       0.01042       0.01327   \n",
       "2457     0.00432  0.02842        0.242       0.01299       0.01511   \n",
       "2478     0.00616  0.01543        0.139       0.00717       0.00808   \n",
       "2498     0.00629  0.02210        0.210       0.01035       0.01185   \n",
       "2519     0.01131  0.03234        0.295       0.01789       0.01839   \n",
       "2540     0.00574  0.01819        0.155       0.00923       0.01049   \n",
       "2435     0.00601  0.03903        0.349       0.01967       0.02541   \n",
       "2456     0.00827  0.02768        0.242       0.01555       0.01758   \n",
       "2477     0.00657  0.01955        0.168       0.00877       0.01115   \n",
       "2539     0.00274  0.01874        0.167       0.00963       0.01120   \n",
       "2518     0.00351  0.02354        0.210       0.01209       0.01413   \n",
       "2434     0.01328  0.03704        0.324       0.02062       0.02198   \n",
       "2497     0.00443  0.01565        0.145       0.00684       0.00859   \n",
       "2455     0.00482  0.03116        0.272       0.01536       0.01856   \n",
       "2476     0.00593  0.02691        0.235       0.01402       0.01662   \n",
       "2433     0.00331  0.01701        0.148       0.00825       0.01083   \n",
       "2538     0.00391  0.02731        0.249       0.01444       0.01595   \n",
       "2475     0.00248  0.01539        0.145       0.00717       0.00804   \n",
       "2454     0.02396  0.04717        0.461       0.02356       0.02606   \n",
       "2496     0.00816  0.02834        0.261       0.01538       0.01787   \n",
       "2517     0.00388  0.02520        0.224       0.01319       0.01359   \n",
       "2495     0.00581  0.01566        0.142       0.00722       0.00819   \n",
       "\n",
       "      Shimmer:APQ11  Shimmer:DDA       NHR     HNR     RPDE      DFA      PPE  \\\n",
       "2541        0.01603      0.03465  0.023211  25.577  0.50655  0.62207  0.14914   \n",
       "2499        0.01264      0.02262  0.009042  26.346  0.36347  0.67990  0.16024   \n",
       "2520        0.01591      0.02728  0.009729  26.763  0.39404  0.63078  0.14153   \n",
       "2436        0.01841      0.03126  0.017852  23.065  0.53743  0.70586  0.21323   \n",
       "2457        0.02280      0.03896  0.014654  25.338  0.57389  0.65187  0.16944   \n",
       "2478        0.01207      0.02152  0.014056  27.479  0.37811  0.62777  0.10806   \n",
       "2498        0.01592      0.03105  0.013138  22.929  0.44845  0.66905  0.18988   \n",
       "2519        0.02251      0.05368  0.015050  20.339  0.40974  0.67668  0.17117   \n",
       "2540        0.01195      0.02770  0.011325  23.763  0.41835  0.65168  0.11594   \n",
       "2435        0.03426      0.05902  0.017699  23.404  0.50003  0.66764  0.21611   \n",
       "2456        0.01996      0.04665  0.020589  21.423  0.45793  0.66908  0.21821   \n",
       "2477        0.01455      0.02631  0.014130  22.035  0.37524  0.64624  0.18423   \n",
       "2539        0.01397      0.02888  0.008797  28.229  0.44599  0.61090  0.10388   \n",
       "2518        0.01653      0.03627  0.009108  27.249  0.43510  0.61306  0.16164   \n",
       "2434        0.03117      0.06185  0.027205  18.430  0.57261  0.64587  0.20977   \n",
       "2497        0.01317      0.02053  0.012902  24.743  0.36984  0.68271  0.14619   \n",
       "2455        0.02956      0.04609  0.008433  23.388  0.52756  0.64706  0.13463   \n",
       "2476        0.02117      0.04206  0.015494  23.594  0.39925  0.65306  0.16121   \n",
       "2433        0.01450      0.02476  0.005543  25.319  0.46471  0.64498  0.14824   \n",
       "2538        0.01921      0.04333  0.011445  26.343  0.43357  0.62573  0.12502   \n",
       "2475        0.01226      0.02151  0.008480  27.496  0.41991  0.61841  0.12222   \n",
       "2454        0.03604      0.07068  0.060704  16.196  0.60572  0.65798  0.37086   \n",
       "2496        0.02347      0.04614  0.022402  21.267  0.53399  0.65494  0.16349   \n",
       "2517        0.01788      0.03957  0.010668  25.148  0.40305  0.62551  0.16091   \n",
       "2495        0.01104      0.02167  0.015033  25.252  0.44007  0.71749  0.18969   \n",
       "\n",
       "      combined_UPDRS  \n",
       "2541         6.01885  \n",
       "2499         6.01885  \n",
       "2520         6.01885  \n",
       "2436         6.01890  \n",
       "2457         6.01890  \n",
       "2478         6.01890  \n",
       "2498         6.06875  \n",
       "2519         6.06875  \n",
       "2540         6.06875  \n",
       "2435         6.06880  \n",
       "2456         6.06880  \n",
       "2477         6.06880  \n",
       "2539         6.21850  \n",
       "2518         6.21855  \n",
       "2434         6.21855  \n",
       "2497         6.21855  \n",
       "2455         6.21855  \n",
       "2476         6.21855  \n",
       "2433         6.26865  \n",
       "2538         6.26865  \n",
       "2475         6.26865  \n",
       "2454         6.26865  \n",
       "2496         6.26865  \n",
       "2517         6.26865  \n",
       "2495         6.31860  "
      ]
     },
     "execution_count": 22,
     "metadata": {},
     "output_type": "execute_result"
    }
   ],
   "source": [
    "# prompt: sort the df based on combined_updrs\n",
    "\n",
    "park.sort_values(by=['combined_UPDRS'], inplace=True)\n",
    "park.head(25)\n"
   ]
  },
  {
   "cell_type": "code",
   "execution_count": 23,
   "metadata": {
    "colab": {
     "base_uri": "https://localhost:8080/"
    },
    "id": "ZjeCnV5R1ov8",
    "outputId": "1849da8e-17a6-4252-cdbe-6d022aca6d80"
   },
   "outputs": [
    {
     "name": "stdout",
     "output_type": "stream",
     "text": [
      "6.0188500000000005 ,  45.989999999999995\n"
     ]
    }
   ],
   "source": [
    "print(park['combined_UPDRS'].min(),\", \", park['combined_UPDRS'].max())"
   ]
  },
  {
   "cell_type": "code",
   "execution_count": 24,
   "metadata": {
    "colab": {
     "base_uri": "https://localhost:8080/",
     "height": 466
    },
    "id": "tCk_UDK5EkzX",
    "outputId": "cbdc02b6-f03e-4101-f59f-ee57615dd890"
   },
   "outputs": [
    {
     "data": {
      "text/plain": [
       "<Axes: xlabel='age', ylabel='combined_UPDRS'>"
      ]
     },
     "execution_count": 24,
     "metadata": {},
     "output_type": "execute_result"
    },
    {
     "data": {
      "image/png": "[encoded data removed]",
      "text/plain": [
       "<Figure size 640x480 with 1 Axes>"
      ]
     },
     "metadata": {},
     "output_type": "display_data"
    }
   ],
   "source": [
    "sns.scatterplot(data = park, x = 'age', y = 'combined_UPDRS')"
   ]
  },
  {
   "cell_type": "code",
   "execution_count": 25,
   "metadata": {
    "id": "juOjaUKhEkzb"
   },
   "outputs": [],
   "source": [
    "Y = park['combined_UPDRS']\n",
    "X = park.drop(columns  = ['combined_UPDRS', 'subject#'])"
   ]
  },
  {
   "cell_type": "markdown",
   "metadata": {
    "id": "EA39xSfxEkzi"
   },
   "source": [
    "## PCA (Principal Component Analysis)"
   ]
  },
  {
   "cell_type": "markdown",
   "metadata": {
    "id": "GSTNkp8AEkzk"
   },
   "source": [
    "PCA reduces the number of variables of a data set, while preserving as much information as possible"
   ]
  },
  {
   "cell_type": "code",
   "execution_count": 26,
   "metadata": {
    "colab": {
     "base_uri": "https://localhost:8080/"
    },
    "id": "Y-sXB8FEEkzn",
    "outputId": "068422cd-1ff2-4200-885c-a2eaae040068"
   },
   "outputs": [
    {
     "name": "stdout",
     "output_type": "stream",
     "text": [
      "Explained variance ratio: [0.80889399 0.18849324]\n"
     ]
    }
   ],
   "source": [
    "from sklearn.decomposition import PCA\n",
    "pca = PCA(n_components=0.90) #0.90 means I'm asking PCA to give me 90% of the information, i don't care how many PCs you have, just retain 90% of information.\n",
    "# Fit and transform your data\n",
    "X_pca = pca.fit_transform(X)\n",
    "# Explained variance ratio\n",
    "explained_variance = pca.explained_variance_ratio_\n",
    "print(\"Explained variance ratio:\", explained_variance)\n",
    "\n"
   ]
  },
  {
   "cell_type": "code",
   "execution_count": 27,
   "metadata": {
    "colab": {
     "base_uri": "https://localhost:8080/"
    },
    "id": "408KsbNZEkzq",
    "outputId": "a6de3eca-7bc3-4555-eab4-873230920cef"
   },
   "outputs": [
    {
     "data": {
      "text/plain": [
       "(5875, 18)"
      ]
     },
     "execution_count": 27,
     "metadata": {},
     "output_type": "execute_result"
    }
   ],
   "source": [
    "X.shape"
   ]
  },
  {
   "cell_type": "code",
   "execution_count": 28,
   "metadata": {
    "colab": {
     "base_uri": "https://localhost:8080/"
    },
    "id": "OzdnIzXAEk18",
    "outputId": "f5e6b1cb-9c1b-4d02-b8e1-3a8d1f8428a3"
   },
   "outputs": [
    {
     "data": {
      "text/plain": [
       "(5875, 2)"
      ]
     },
     "execution_count": 28,
     "metadata": {},
     "output_type": "execute_result"
    }
   ],
   "source": [
    "X_pca.shape"
   ]
  },
  {
   "cell_type": "markdown",
   "metadata": {
    "id": "_cYhzNPPEk2A"
   },
   "source": [
    "As we see, PCA reduced our dataset with 15 features to just 1 feature.\n",
    "This might not be very beneficial, beacause PCA is used for dimensionality reduction, and 15 features is not a big dimension.\n",
    "So, we will avoid PCA as for now."
   ]
  },
  {
   "cell_type": "code",
   "execution_count": 29,
   "metadata": {
    "id": "tZ-9_87aEk2G"
   },
   "outputs": [],
   "source": [
    "X_train, X_test, Y_train, Y_test = train_test_split(X, Y, test_size = 0.3, random_state = 42)\n"
   ]
  },
  {
   "cell_type": "markdown",
   "metadata": {
    "id": "e8I6Sx_MEk2O"
   },
   "source": [
    "## Linear Regression"
   ]
  },
  {
   "cell_type": "code",
   "execution_count": 30,
   "metadata": {
    "colab": {
     "base_uri": "https://localhost:8080/",
     "height": 74
    },
    "id": "O2E2qjuZEk2R",
    "outputId": "7de1ddb3-32a9-4a4c-b08f-5550762f7e9e"
   },
   "outputs": [
    {
     "data": {
      "text/html": [
       "<style>#sk-container-id-1 {color: black;}#sk-container-id-1 pre{padding: 0;}#sk-container-id-1 div.sk-toggleable {background-color: white;}#sk-container-id-1 label.sk-toggleable__label {cursor: pointer;display: block;width: 100%;margin-bottom: 0;padding: 0.3em;box-sizing: border-box;text-align: center;}#sk-container-id-1 label.sk-toggleable__label-arrow:before {content: \"▸\";float: left;margin-right: 0.25em;color: #696969;}#sk-container-id-1 label.sk-toggleable__label-arrow:hover:before {color: black;}#sk-container-id-1 div.sk-estimator:hover label.sk-toggleable__label-arrow:before {color: black;}#sk-container-id-1 div.sk-toggleable__content {max-height: 0;max-width: 0;overflow: hidden;text-align: left;background-color: #f0f8ff;}#sk-container-id-1 div.sk-toggleable__content pre {margin: 0.2em;color: black;border-radius: 0.25em;background-color: #f0f8ff;}#sk-container-id-1 input.sk-toggleable__control:checked~div.sk-toggleable__content {max-height: 200px;max-width: 100%;overflow: auto;}#sk-container-id-1 input.sk-toggleable__control:checked~label.sk-toggleable__label-arrow:before {content: \"▾\";}#sk-container-id-1 div.sk-estimator input.sk-toggleable__control:checked~label.sk-toggleable__label {background-color: #d4ebff;}#sk-container-id-1 div.sk-label input.sk-toggleable__control:checked~label.sk-toggleable__label {background-color: #d4ebff;}#sk-container-id-1 input.sk-hidden--visually {border: 0;clip: rect(1px 1px 1px 1px);clip: rect(1px, 1px, 1px, 1px);height: 1px;margin: -1px;overflow: hidden;padding: 0;position: absolute;width: 1px;}#sk-container-id-1 div.sk-estimator {font-family: monospace;background-color: #f0f8ff;border: 1px dotted black;border-radius: 0.25em;box-sizing: border-box;margin-bottom: 0.5em;}#sk-container-id-1 div.sk-estimator:hover {background-color: #d4ebff;}#sk-container-id-1 div.sk-parallel-item::after {content: \"\";width: 100%;border-bottom: 1px solid gray;flex-grow: 1;}#sk-container-id-1 div.sk-label:hover label.sk-toggleable__label {background-color: #d4ebff;}#sk-container-id-1 div.sk-serial::before {content: \"\";position: absolute;border-left: 1px solid gray;box-sizing: border-box;top: 0;bottom: 0;left: 50%;z-index: 0;}#sk-container-id-1 div.sk-serial {display: flex;flex-direction: column;align-items: center;background-color: white;padding-right: 0.2em;padding-left: 0.2em;position: relative;}#sk-container-id-1 div.sk-item {position: relative;z-index: 1;}#sk-container-id-1 div.sk-parallel {display: flex;align-items: stretch;justify-content: center;background-color: white;position: relative;}#sk-container-id-1 div.sk-item::before, #sk-container-id-1 div.sk-parallel-item::before {content: \"\";position: absolute;border-left: 1px solid gray;box-sizing: border-box;top: 0;bottom: 0;left: 50%;z-index: -1;}#sk-container-id-1 div.sk-parallel-item {display: flex;flex-direction: column;z-index: 1;position: relative;background-color: white;}#sk-container-id-1 div.sk-parallel-item:first-child::after {align-self: flex-end;width: 50%;}#sk-container-id-1 div.sk-parallel-item:last-child::after {align-self: flex-start;width: 50%;}#sk-container-id-1 div.sk-parallel-item:only-child::after {width: 0;}#sk-container-id-1 div.sk-dashed-wrapped {border: 1px dashed gray;margin: 0 0.4em 0.5em 0.4em;box-sizing: border-box;padding-bottom: 0.4em;background-color: white;}#sk-container-id-1 div.sk-label label {font-family: monospace;font-weight: bold;display: inline-block;line-height: 1.2em;}#sk-container-id-1 div.sk-label-container {text-align: center;}#sk-container-id-1 div.sk-container {/* jupyter's `normalize.less` sets `[hidden] { display: none; }` but bootstrap.min.css set `[hidden] { display: none !important; }` so we also need the `!important` here to be able to override the default hidden behavior on the sphinx rendered scikit-learn.org. See: https://github.com/scikit-learn/scikit-learn/issues/21755 */display: inline-block !important;position: relative;}#sk-container-id-1 div.sk-text-repr-fallback {display: none;}</style><div id=\"sk-container-id-1\" class=\"sk-top-container\"><div class=\"sk-text-repr-fallback\"><pre>LinearRegression()</pre><b>In a Jupyter environment, please rerun this cell to show the HTML representation or trust the notebook. <br />On GitHub, the HTML representation is unable to render, please try loading this page with nbviewer.org.</b></div><div class=\"sk-container\" hidden><div class=\"sk-item\"><div class=\"sk-estimator sk-toggleable\"><input class=\"sk-toggleable__control sk-hidden--visually\" id=\"sk-estimator-id-1\" type=\"checkbox\" checked><label for=\"sk-estimator-id-1\" class=\"sk-toggleable__label sk-toggleable__label-arrow\">LinearRegression</label><div class=\"sk-toggleable__content\"><pre>LinearRegression()</pre></div></div></div></div></div>"
      ],
      "text/plain": [
       "LinearRegression()"
      ]
     },
     "execution_count": 30,
     "metadata": {},
     "output_type": "execute_result"
    }
   ],
   "source": [
    "from sklearn.linear_model import LinearRegression\n",
    "lr = LinearRegression()\n",
    "lr.fit(X_train,Y_train)"
   ]
  },
  {
   "cell_type": "code",
   "execution_count": 31,
   "metadata": {
    "colab": {
     "base_uri": "https://localhost:8080/"
    },
    "id": "_KVW731JEk2U",
    "outputId": "4d9a9e41-bfb1-43e4-8b56-97f4aec8216d"
   },
   "outputs": [
    {
     "name": "stdout",
     "output_type": "stream",
     "text": [
      "MSE_LR =  73.65538789869736\n",
      "RMSE_LR =  8.58227172132748\n",
      "MAE_LR =  7.189449441078518\n",
      "R2_LR =  0.17261479947417924\n"
     ]
    }
   ],
   "source": [
    "print(\"MSE_LR = \",mean_squared_error(Y_test, lr.predict(X_test)))\n",
    "print(\"RMSE_LR = \",np.sqrt(mean_squared_error(Y_test, lr.predict(X_test))))\n",
    "print(\"MAE_LR = \",mean_absolute_error(Y_test, lr.predict(X_test)))\n",
    "print(\"R2_LR = \",r2_score(Y_test, lr.predict(X_test)))\n"
   ]
  },
  {
   "cell_type": "markdown",
   "metadata": {
    "id": "svVWdpvoEk2c"
   },
   "source": [
    "## Elastic Net Regressor"
   ]
  },
  {
   "cell_type": "code",
   "execution_count": 32,
   "metadata": {
    "colab": {
     "base_uri": "https://localhost:8080/",
     "height": 74
    },
    "id": "hzAq48sBEk2e",
    "outputId": "8c6d426c-f0e9-4c95-e19b-b3cb7047f939"
   },
   "outputs": [
    {
     "data": {
      "text/html": [
       "<style>#sk-container-id-2 {color: black;}#sk-container-id-2 pre{padding: 0;}#sk-container-id-2 div.sk-toggleable {background-color: white;}#sk-container-id-2 label.sk-toggleable__label {cursor: pointer;display: block;width: 100%;margin-bottom: 0;padding: 0.3em;box-sizing: border-box;text-align: center;}#sk-container-id-2 label.sk-toggleable__label-arrow:before {content: \"▸\";float: left;margin-right: 0.25em;color: #696969;}#sk-container-id-2 label.sk-toggleable__label-arrow:hover:before {color: black;}#sk-container-id-2 div.sk-estimator:hover label.sk-toggleable__label-arrow:before {color: black;}#sk-container-id-2 div.sk-toggleable__content {max-height: 0;max-width: 0;overflow: hidden;text-align: left;background-color: #f0f8ff;}#sk-container-id-2 div.sk-toggleable__content pre {margin: 0.2em;color: black;border-radius: 0.25em;background-color: #f0f8ff;}#sk-container-id-2 input.sk-toggleable__control:checked~div.sk-toggleable__content {max-height: 200px;max-width: 100%;overflow: auto;}#sk-container-id-2 input.sk-toggleable__control:checked~label.sk-toggleable__label-arrow:before {content: \"▾\";}#sk-container-id-2 div.sk-estimator input.sk-toggleable__control:checked~label.sk-toggleable__label {background-color: #d4ebff;}#sk-container-id-2 div.sk-label input.sk-toggleable__control:checked~label.sk-toggleable__label {background-color: #d4ebff;}#sk-container-id-2 input.sk-hidden--visually {border: 0;clip: rect(1px 1px 1px 1px);clip: rect(1px, 1px, 1px, 1px);height: 1px;margin: -1px;overflow: hidden;padding: 0;position: absolute;width: 1px;}#sk-container-id-2 div.sk-estimator {font-family: monospace;background-color: #f0f8ff;border: 1px dotted black;border-radius: 0.25em;box-sizing: border-box;margin-bottom: 0.5em;}#sk-container-id-2 div.sk-estimator:hover {background-color: #d4ebff;}#sk-container-id-2 div.sk-parallel-item::after {content: \"\";width: 100%;border-bottom: 1px solid gray;flex-grow: 1;}#sk-container-id-2 div.sk-label:hover label.sk-toggleable__label {background-color: #d4ebff;}#sk-container-id-2 div.sk-serial::before {content: \"\";position: absolute;border-left: 1px solid gray;box-sizing: border-box;top: 0;bottom: 0;left: 50%;z-index: 0;}#sk-container-id-2 div.sk-serial {display: flex;flex-direction: column;align-items: center;background-color: white;padding-right: 0.2em;padding-left: 0.2em;position: relative;}#sk-container-id-2 div.sk-item {position: relative;z-index: 1;}#sk-container-id-2 div.sk-parallel {display: flex;align-items: stretch;justify-content: center;background-color: white;position: relative;}#sk-container-id-2 div.sk-item::before, #sk-container-id-2 div.sk-parallel-item::before {content: \"\";position: absolute;border-left: 1px solid gray;box-sizing: border-box;top: 0;bottom: 0;left: 50%;z-index: -1;}#sk-container-id-2 div.sk-parallel-item {display: flex;flex-direction: column;z-index: 1;position: relative;background-color: white;}#sk-container-id-2 div.sk-parallel-item:first-child::after {align-self: flex-end;width: 50%;}#sk-container-id-2 div.sk-parallel-item:last-child::after {align-self: flex-start;width: 50%;}#sk-container-id-2 div.sk-parallel-item:only-child::after {width: 0;}#sk-container-id-2 div.sk-dashed-wrapped {border: 1px dashed gray;margin: 0 0.4em 0.5em 0.4em;box-sizing: border-box;padding-bottom: 0.4em;background-color: white;}#sk-container-id-2 div.sk-label label {font-family: monospace;font-weight: bold;display: inline-block;line-height: 1.2em;}#sk-container-id-2 div.sk-label-container {text-align: center;}#sk-container-id-2 div.sk-container {/* jupyter's `normalize.less` sets `[hidden] { display: none; }` but bootstrap.min.css set `[hidden] { display: none !important; }` so we also need the `!important` here to be able to override the default hidden behavior on the sphinx rendered scikit-learn.org. See: https://github.com/scikit-learn/scikit-learn/issues/21755 */display: inline-block !important;position: relative;}#sk-container-id-2 div.sk-text-repr-fallback {display: none;}</style><div id=\"sk-container-id-2\" class=\"sk-top-container\"><div class=\"sk-text-repr-fallback\"><pre>ElasticNet()</pre><b>In a Jupyter environment, please rerun this cell to show the HTML representation or trust the notebook. <br />On GitHub, the HTML representation is unable to render, please try loading this page with nbviewer.org.</b></div><div class=\"sk-container\" hidden><div class=\"sk-item\"><div class=\"sk-estimator sk-toggleable\"><input class=\"sk-toggleable__control sk-hidden--visually\" id=\"sk-estimator-id-2\" type=\"checkbox\" checked><label for=\"sk-estimator-id-2\" class=\"sk-toggleable__label sk-toggleable__label-arrow\">ElasticNet</label><div class=\"sk-toggleable__content\"><pre>ElasticNet()</pre></div></div></div></div></div>"
      ],
      "text/plain": [
       "ElasticNet()"
      ]
     },
     "execution_count": 32,
     "metadata": {},
     "output_type": "execute_result"
    }
   ],
   "source": [
    "from sklearn.linear_model import ElasticNet\n",
    "en = ElasticNet()\n",
    "en.fit(X_train,Y_train)"
   ]
  },
  {
   "cell_type": "code",
   "execution_count": 33,
   "metadata": {
    "colab": {
     "base_uri": "https://localhost:8080/"
    },
    "id": "9tav5IgaEk2g",
    "outputId": "c60d4432-ab6b-4f61-be2b-a5e0ebc11132"
   },
   "outputs": [
    {
     "name": "stdout",
     "output_type": "stream",
     "text": [
      "MSE_EN =  79.04996051969029\n",
      "RMSE_EN =  8.891004471919373\n",
      "MAE_EN =  7.5340815351017865\n",
      "R2_EN =  0.11201652313477428\n"
     ]
    }
   ],
   "source": [
    "print(\"MSE_EN = \",mean_squared_error(Y_test, en.predict(X_test)))\n",
    "print(\"RMSE_EN = \",np.sqrt(mean_squared_error(Y_test, en.predict(X_test))))\n",
    "print(\"MAE_EN = \",mean_absolute_error(Y_test, en.predict(X_test)))\n",
    "print(\"R2_EN = \",r2_score(Y_test, en.predict(X_test)))"
   ]
  },
  {
   "cell_type": "markdown",
   "metadata": {
    "id": "vIQMXZKmEk2m"
   },
   "source": [
    "R2 score for Elastic Net is closer to 0, and mean absolute and mean squared, both error are also considerably higher for elastic net.\n",
    "\n",
    "In conclusion, Elastic Net is not a good measure for our dataset"
   ]
  },
  {
   "cell_type": "markdown",
   "metadata": {
    "id": "PgocDZwqEk2q"
   },
   "source": [
    "## Random Forest Regressor"
   ]
  },
  {
   "cell_type": "code",
   "execution_count": 34,
   "metadata": {
    "colab": {
     "base_uri": "https://localhost:8080/",
     "height": 74
    },
    "id": "axUqyQPuEk2s",
    "outputId": "400a4641-850e-4d7a-eedf-8a74c9a45e79"
   },
   "outputs": [
    {
     "data": {
      "text/html": [
       "<style>#sk-container-id-3 {color: black;}#sk-container-id-3 pre{padding: 0;}#sk-container-id-3 div.sk-toggleable {background-color: white;}#sk-container-id-3 label.sk-toggleable__label {cursor: pointer;display: block;width: 100%;margin-bottom: 0;padding: 0.3em;box-sizing: border-box;text-align: center;}#sk-container-id-3 label.sk-toggleable__label-arrow:before {content: \"▸\";float: left;margin-right: 0.25em;color: #696969;}#sk-container-id-3 label.sk-toggleable__label-arrow:hover:before {color: black;}#sk-container-id-3 div.sk-estimator:hover label.sk-toggleable__label-arrow:before {color: black;}#sk-container-id-3 div.sk-toggleable__content {max-height: 0;max-width: 0;overflow: hidden;text-align: left;background-color: #f0f8ff;}#sk-container-id-3 div.sk-toggleable__content pre {margin: 0.2em;color: black;border-radius: 0.25em;background-color: #f0f8ff;}#sk-container-id-3 input.sk-toggleable__control:checked~div.sk-toggleable__content {max-height: 200px;max-width: 100%;overflow: auto;}#sk-container-id-3 input.sk-toggleable__control:checked~label.sk-toggleable__label-arrow:before {content: \"▾\";}#sk-container-id-3 div.sk-estimator input.sk-toggleable__control:checked~label.sk-toggleable__label {background-color: #d4ebff;}#sk-container-id-3 div.sk-label input.sk-toggleable__control:checked~label.sk-toggleable__label {background-color: #d4ebff;}#sk-container-id-3 input.sk-hidden--visually {border: 0;clip: rect(1px 1px 1px 1px);clip: rect(1px, 1px, 1px, 1px);height: 1px;margin: -1px;overflow: hidden;padding: 0;position: absolute;width: 1px;}#sk-container-id-3 div.sk-estimator {font-family: monospace;background-color: #f0f8ff;border: 1px dotted black;border-radius: 0.25em;box-sizing: border-box;margin-bottom: 0.5em;}#sk-container-id-3 div.sk-estimator:hover {background-color: #d4ebff;}#sk-container-id-3 div.sk-parallel-item::after {content: \"\";width: 100%;border-bottom: 1px solid gray;flex-grow: 1;}#sk-container-id-3 div.sk-label:hover label.sk-toggleable__label {background-color: #d4ebff;}#sk-container-id-3 div.sk-serial::before {content: \"\";position: absolute;border-left: 1px solid gray;box-sizing: border-box;top: 0;bottom: 0;left: 50%;z-index: 0;}#sk-container-id-3 div.sk-serial {display: flex;flex-direction: column;align-items: center;background-color: white;padding-right: 0.2em;padding-left: 0.2em;position: relative;}#sk-container-id-3 div.sk-item {position: relative;z-index: 1;}#sk-container-id-3 div.sk-parallel {display: flex;align-items: stretch;justify-content: center;background-color: white;position: relative;}#sk-container-id-3 div.sk-item::before, #sk-container-id-3 div.sk-parallel-item::before {content: \"\";position: absolute;border-left: 1px solid gray;box-sizing: border-box;top: 0;bottom: 0;left: 50%;z-index: -1;}#sk-container-id-3 div.sk-parallel-item {display: flex;flex-direction: column;z-index: 1;position: relative;background-color: white;}#sk-container-id-3 div.sk-parallel-item:first-child::after {align-self: flex-end;width: 50%;}#sk-container-id-3 div.sk-parallel-item:last-child::after {align-self: flex-start;width: 50%;}#sk-container-id-3 div.sk-parallel-item:only-child::after {width: 0;}#sk-container-id-3 div.sk-dashed-wrapped {border: 1px dashed gray;margin: 0 0.4em 0.5em 0.4em;box-sizing: border-box;padding-bottom: 0.4em;background-color: white;}#sk-container-id-3 div.sk-label label {font-family: monospace;font-weight: bold;display: inline-block;line-height: 1.2em;}#sk-container-id-3 div.sk-label-container {text-align: center;}#sk-container-id-3 div.sk-container {/* jupyter's `normalize.less` sets `[hidden] { display: none; }` but bootstrap.min.css set `[hidden] { display: none !important; }` so we also need the `!important` here to be able to override the default hidden behavior on the sphinx rendered scikit-learn.org. See: https://github.com/scikit-learn/scikit-learn/issues/21755 */display: inline-block !important;position: relative;}#sk-container-id-3 div.sk-text-repr-fallback {display: none;}</style><div id=\"sk-container-id-3\" class=\"sk-top-container\"><div class=\"sk-text-repr-fallback\"><pre>RandomForestRegressor()</pre><b>In a Jupyter environment, please rerun this cell to show the HTML representation or trust the notebook. <br />On GitHub, the HTML representation is unable to render, please try loading this page with nbviewer.org.</b></div><div class=\"sk-container\" hidden><div class=\"sk-item\"><div class=\"sk-estimator sk-toggleable\"><input class=\"sk-toggleable__control sk-hidden--visually\" id=\"sk-estimator-id-3\" type=\"checkbox\" checked><label for=\"sk-estimator-id-3\" class=\"sk-toggleable__label sk-toggleable__label-arrow\">RandomForestRegressor</label><div class=\"sk-toggleable__content\"><pre>RandomForestRegressor()</pre></div></div></div></div></div>"
      ],
      "text/plain": [
       "RandomForestRegressor()"
      ]
     },
     "execution_count": 34,
     "metadata": {},
     "output_type": "execute_result"
    }
   ],
   "source": [
    "from sklearn.ensemble import RandomForestRegressor\n",
    "rfr = RandomForestRegressor()\n",
    "rfr.fit(X_train,Y_train)"
   ]
  },
  {
   "cell_type": "code",
   "execution_count": 35,
   "metadata": {
    "colab": {
     "base_uri": "https://localhost:8080/"
    },
    "id": "eB0YG-fqEk6R",
    "outputId": "ebde2eda-6a4e-4d45-e7d1-dd99707e55b3"
   },
   "outputs": [
    {
     "name": "stdout",
     "output_type": "stream",
     "text": [
      "MSE_RFR =  8.579070595669213\n",
      "RMSE_RFR =  2.9290050521754334\n",
      "MAE_RFR =  2.0799130184344863\n",
      "R2_RFR =  0.9036296427508397\n"
     ]
    }
   ],
   "source": [
    "print(\"MSE_RFR = \",mean_squared_error(Y_test, rfr.predict(X_test)))\n",
    "print(\"RMSE_RFR = \",np.sqrt(mean_squared_error(Y_test, rfr.predict(X_test))))\n",
    "print(\"MAE_RFR = \",mean_absolute_error(Y_test, rfr.predict(X_test)))\n",
    "print(\"R2_RFR = \",r2_score(Y_test, rfr.predict(X_test)))"
   ]
  },
  {
   "cell_type": "markdown",
   "metadata": {
    "id": "mHZGHqoEEk6V"
   },
   "source": [
    "R² measures the proportion of the variance in the dependent variable that is predictable from the independent variables. A higher R² indicates a better fit.\n",
    "\n",
    "R² closer to 1 indicates  good fit, meaning the model is able to explain the variance better."
   ]
  },
  {
   "cell_type": "markdown",
   "metadata": {
    "id": "8E36Fwp4Ek6Z"
   },
   "source": [
    "## Metrics\n"
   ]
  },
  {
   "cell_type": "markdown",
   "metadata": {
    "id": "R54e8g9wEk6b"
   },
   "source": [
    "Before combining all jitter variables:"
   ]
  },
  {
   "cell_type": "markdown",
   "metadata": {
    "id": "XoLyE_WJEk6d"
   },
   "source": [
    "MSE_LR =  70.60733594551309\n",
    "RMSE_LR =  8.402817143405722\n",
    "MAE_LR =  7.019038615554898\n",
    "R2_LR =  0.1684497596409289\n",
    "\n",
    "MSE_EN =  75.40984564673356\n",
    "RMSE_EN =  8.68388424881018\n",
    "MAE_EN =  7.386348448565772\n",
    "R2_EN =  0.1118900829033953\n",
    "\n",
    "MSE_RFR =  2.1071390993467753\n",
    "RMSE_RFR =  1.4515988079861375\n",
    "MAE_RFR =  0.6778182274532043\n",
    "R2_RFR =  0.9751839946789105"
   ]
  },
  {
   "cell_type": "markdown",
   "metadata": {
    "id": "rj28y1uJEk6f"
   },
   "source": [
    "After combining all jitter variables, LR and EN metrics remain same, but RFR metrics worsen slightly, so we will avoid taking average of all jitter variables and combing them into one\n",
    "\n",
    "MSE_LR =  70.60733594551309\n",
    "RMSE_LR =  8.402817143405722\n",
    "MAE_LR =  7.019038615554898\n",
    "R2_LR =  0.1684497596409289\n",
    "\n",
    "MSE_EN =  75.40984564673356\n",
    "RMSE_EN =  8.68388424881018\n",
    "MAE_EN =  7.386348448565772\n",
    "R2_EN =  0.1118900829033953\n",
    "\n",
    "MSE_RFR =  2.941390993467753\n",
    "RMSE_RFR =  1.7415988079861375\n",
    "MAE_RFR =  0.7078182274532043\n",
    "R2_RFR =  0.9621839946789105"
   ]
  },
  {
   "cell_type": "markdown",
   "metadata": {
    "id": "BiLNemf1Ek6h"
   },
   "source": [
    "After using PCA, and using X_pca for training our data, the metrics come out to be:"
   ]
  },
  {
   "cell_type": "markdown",
   "metadata": {
    "id": "gxujQenfEk6i"
   },
   "source": [
    "MSE_LR =  84.40199403224499\n",
    "RMSE_LR =  9.187055786934408\n",
    "MAE_LR =  7.7413866338340735\n",
    "R2_LR =  0.005988577752617408\n",
    "\n",
    "MSE_EN =  84.40313712026162\n",
    "RMSE_EN =  9.18711799860335\n",
    "MAE_EN =  7.740798931123667\n",
    "R2_EN =  0.0059751154812789364\n",
    "\n",
    "MSE_RFR =  13.392135907713705\n",
    "RMSE_RFR =  3.659526732750248\n",
    "MAE_RFR =  1.5755579988655728\n",
    "R2_RFR =  0.8422793653966156"
   ]
  },
  {
   "cell_type": "code",
   "execution_count": 36,
   "metadata": {
    "colab": {
     "base_uri": "https://localhost:8080/"
    },
    "id": "pPBAywvfEk6k",
    "outputId": "4fc133c3-7448-4c29-c028-ffa4a6d4f562"
   },
   "outputs": [
    {
     "name": "stdout",
     "output_type": "stream",
     "text": [
      "(5875,)\n",
      "(5875, 18)\n"
     ]
    }
   ],
   "source": [
    "print(Y.shape)\n",
    "print(X.shape)"
   ]
  },
  {
   "cell_type": "code",
   "execution_count": 37,
   "metadata": {
    "colab": {
     "base_uri": "https://localhost:8080/"
    },
    "id": "6pC9PUx8Ek6n",
    "outputId": "aeb93b5b-30a5-4ea5-e12c-30e839aae516"
   },
   "outputs": [
    {
     "data": {
      "text/plain": [
       "array([0.65989313, 0.068846  , 0.00505569, 0.02765305, 0.00454197,\n",
       "       0.00866175, 0.00684033, 0.00699254, 0.00623023, 0.00639433,\n",
       "       0.00860699, 0.00973177, 0.00805505, 0.01475583, 0.01744288,\n",
       "       0.01945783, 0.0976088 , 0.02323184])"
      ]
     },
     "execution_count": 37,
     "metadata": {},
     "output_type": "execute_result"
    }
   ],
   "source": [
    "importances = rfr.feature_importances_\n",
    "importances"
   ]
  },
  {
   "cell_type": "code",
   "execution_count": 38,
   "metadata": {
    "colab": {
     "base_uri": "https://localhost:8080/"
    },
    "id": "tUZapyPIEk6q",
    "outputId": "5aa6ee83-004a-43d0-d586-5b23c55d1897"
   },
   "outputs": [
    {
     "data": {
      "text/plain": [
       "(18,)"
      ]
     },
     "execution_count": 38,
     "metadata": {},
     "output_type": "execute_result"
    }
   ],
   "source": [
    "importances.shape"
   ]
  },
  {
   "cell_type": "code",
   "execution_count": 39,
   "metadata": {
    "colab": {
     "base_uri": "https://localhost:8080/"
    },
    "id": "QcQ-2sYQEk6s",
    "outputId": "599ece82-4b4b-4c70-ca7a-deef95a4cbca"
   },
   "outputs": [
    {
     "name": "stdout",
     "output_type": "stream",
     "text": [
      "         Features  Importance\n",
      "0             age    0.659893\n",
      "16            DFA    0.097609\n",
      "1             sex    0.068846\n",
      "3     Jitter(Abs)    0.027653\n",
      "17            PPE    0.023232\n",
      "15           RPDE    0.019458\n",
      "14            HNR    0.017443\n",
      "13            NHR    0.014756\n",
      "11  Shimmer:APQ11    0.009732\n",
      "5     Jitter:PPQ5    0.008662\n",
      "10   Shimmer:APQ5    0.008607\n",
      "12    Shimmer:DDA    0.008055\n",
      "7         Shimmer    0.006993\n",
      "6      Jitter:DDP    0.006840\n",
      "9    Shimmer:APQ3    0.006394\n",
      "8     Shimmer(dB)    0.006230\n",
      "2       Jitter(%)    0.005056\n",
      "4      Jitter:RAP    0.004542\n"
     ]
    }
   ],
   "source": [
    "feature_importances = pd.DataFrame({'Features': X.columns, 'Importance': importances})\n",
    "feature_importances = feature_importances.sort_values('Importance', ascending=False)\n",
    "print(feature_importances)\n"
   ]
  },
  {
   "cell_type": "code",
   "execution_count": 40,
   "metadata": {
    "colab": {
     "base_uri": "https://localhost:8080/",
     "height": 472
    },
    "id": "9gilDxNjEk6v",
    "outputId": "d14a97b1-933f-4937-8370-d7ac52a9e500"
   },
   "outputs": [
    {
     "data": {
      "image/png": "[encoded data removed]",
      "text/plain": [
       "<Figure size 640x480 with 1 Axes>"
      ]
     },
     "metadata": {},
     "output_type": "display_data"
    }
   ],
   "source": [
    "plt.barh(feature_importances['Features'], feature_importances['Importance'])\n",
    "plt.xlabel('Importance')\n",
    "plt.ylabel('Features')\n",
    "plt.title('Feature Importance')\n",
    "plt.show()"
   ]
  },
  {
   "cell_type": "markdown",
   "metadata": {
    "id": "Ilg1jGE0Ek6y"
   },
   "source": [
    "As we can seee from the above graph, in the given dataset, the feature with highest importance is age. Actually it makes sense too, since it's true that PD is more commonly diagnosed in older individuals"
   ]
  },
  {
   "cell_type": "code",
   "execution_count": 41,
   "metadata": {
    "colab": {
     "base_uri": "https://localhost:8080/"
    },
    "id": "Bd8mD1UgEk60",
    "outputId": "185fa17e-4709-4159-a772-1804ba57525b"
   },
   "outputs": [
    {
     "name": "stdout",
     "output_type": "stream",
     "text": [
      "['age', 'DFA', 'sex', 'Jitter(Abs)', 'PPE']\n",
      "MSE_RFR_TopFeatures =  9.633141227091508\n",
      "RMSE_RFR_TopFeatures =  3.1037302117116283\n",
      "MAE_RFR_TopFeatures =  2.2129525294951784\n",
      "R2_RFR_TopFeatures =  0.8917890637296934\n"
     ]
    }
   ],
   "source": [
    "# Identify the most important features\n",
    "top_features = feature_importances.head(5)['Features'].tolist()\n",
    "print(top_features)\n",
    "\n",
    "# Select only the top features for modeling\n",
    "X_top_features = X[top_features]\n",
    "\n",
    "# Retrain the model using only the top features\n",
    "X_train_top, X_test_top, Y_train, Y_test = train_test_split(X_top_features, Y, test_size=0.3, random_state=42)\n",
    "\n",
    "rfr_top = RandomForestRegressor()\n",
    "rfr_top.fit(X_train_top, Y_train)\n",
    "\n",
    "# Evaluate the model with top features\n",
    "print(\"MSE_RFR_TopFeatures = \", mean_squared_error(Y_test, rfr_top.predict(X_test_top)))\n",
    "print(\"RMSE_RFR_TopFeatures = \", np.sqrt(mean_squared_error(Y_test, rfr_top.predict(X_test_top))))\n",
    "print(\"MAE_RFR_TopFeatures = \", mean_absolute_error(Y_test, rfr_top.predict(X_test_top)))\n",
    "print(\"R2_RFR_TopFeatures = \", r2_score(Y_test, rfr_top.predict(X_test_top)))\n",
    "\n"
   ]
  },
  {
   "cell_type": "markdown",
   "metadata": {
    "id": "7sIyEwiYEk63"
   },
   "source": [
    "Before using feature importance:\n",
    "\n",
    "MSE_RFR =  2.1071390993467753\n",
    "RMSE_RFR =  1.4515988079861375\n",
    "MAE_RFR =  0.6778182274532043\n",
    "R2_RFR =  0.9751839946789105"
   ]
  },
  {
   "cell_type": "markdown",
   "metadata": {
    "id": "X5Rfk2unEk66"
   },
   "source": [
    "After using feature importance with top 5 features:\n",
    "\n",
    "MSE_RFR_TopFeatures =  1.6492246470676404\n",
    "RMSE_RFR_TopFeatures =  1.2842214166831358\n",
    "MAE_RFR_TopFeatures =  0.46437770476460627\n",
    "R2_RFR_TopFeatures =  0.9805769027635669\n",
    "\n",
    "If we use 4, or 6 top features, our accuracy decreases, so the best parameter is 5"
   ]
  },
  {
   "cell_type": "code",
   "execution_count": 42,
   "metadata": {
    "colab": {
     "base_uri": "https://localhost:8080/"
    },
    "id": "ZpRMpwDUEk6-",
    "outputId": "5f3f8c42-598b-4d9c-e554-41bdcb9fe8a4"
   },
   "outputs": [
    {
     "name": "stdout",
     "output_type": "stream",
     "text": [
      "Metrics Before Combining UPDRS Scores:\n",
      "+-------------------+-------+------+------+------+\n",
      "|     Scenario      |  MSE  | RMSE | MAE  |  R2  |\n",
      "+-------------------+-------+------+------+------+\n",
      "| Linear Regression | 70.61 | 8.4  | 7.02 | 0.17 |\n",
      "|    Elastic Net    | 75.41 | 8.68 | 7.39 | 0.11 |\n",
      "|   Random Forest   | 2.11  | 1.45 | 0.68 | 0.98 |\n",
      "+-------------------+-------+------+------+------+\n",
      "\n",
      "Metrics After Combining UPDRS Scores:\n",
      "+-------------------+-------+------+------+------+\n",
      "|     Scenario      |  MSE  | RMSE | MAE  |  R2  |\n",
      "+-------------------+-------+------+------+------+\n",
      "| Linear Regression | 70.61 | 8.4  | 7.02 | 0.17 |\n",
      "|    Elastic Net    | 75.41 | 8.68 | 7.39 | 0.11 |\n",
      "|   Random Forest   | 2.94  | 1.74 | 0.71 | 0.96 |\n",
      "+-------------------+-------+------+------+------+\n",
      "\n",
      "Metrics After Using PCA:\n",
      "+-------------------+-------+------+------+------+\n",
      "|     Scenario      |  MSE  | RMSE | MAE  |  R2  |\n",
      "+-------------------+-------+------+------+------+\n",
      "| Linear Regression | 84.4  | 9.19 | 7.74 | 0.01 |\n",
      "|    Elastic Net    | 84.4  | 9.19 | 7.74 | 0.01 |\n",
      "|   Random Forest   | 13.39 | 3.66 | 1.58 | 0.84 |\n",
      "+-------------------+-------+------+------+------+\n",
      "\n",
      "Metrics After Using Feature Importance:\n",
      "+--------------------------------+------+------+------+------+\n",
      "|            Scenario            | MSE  | RMSE | MAE  |  R2  |\n",
      "+--------------------------------+------+------+------+------+\n",
      "|  Random Forest (All Features)  | 2.94 | 1.74 | 0.71 | 0.96 |\n",
      "| Random Forest (Top 5 Features) | 1.65 | 1.28 | 0.46 | 0.98 |\n",
      "+--------------------------------+------+------+------+------+\n"
     ]
    }
   ],
   "source": [
    "import pandas as pd\n",
    "from tabulate import tabulate\n",
    "\n",
    "# Metrics before combining UPDRS scores\n",
    "scenario_names_before_combining = ['Linear Regression', 'Elastic Net', 'Random Forest']\n",
    "mse_before_combining = [70.61, 75.41, 2.11]\n",
    "rmse_before_combining = [8.40, 8.68, 1.45]\n",
    "mae_before_combining = [7.02, 7.39, 0.68]\n",
    "r2_before_combining = [0.17, 0.11, 0.98]\n",
    "\n",
    "# Metrics after combining UPDRS scores\n",
    "scenario_names_after_combining = ['Linear Regression', 'Elastic Net', 'Random Forest']\n",
    "mse_after_combining = [70.61, 75.41, 2.94]\n",
    "rmse_after_combining = [8.40, 8.68, 1.74]\n",
    "mae_after_combining = [7.02, 7.39, 0.71]\n",
    "r2_after_combining = [0.17, 0.11, 0.96]\n",
    "\n",
    "# Metrics after using PCA\n",
    "scenario_names_after_pca = ['Linear Regression', 'Elastic Net', 'Random Forest']\n",
    "mse_after_pca = [84.40, 84.40, 13.39]\n",
    "rmse_after_pca = [9.19, 9.19, 3.66]\n",
    "mae_after_pca = [7.74, 7.74, 1.58]\n",
    "r2_after_pca = [0.01, 0.01, 0.84]\n",
    "\n",
    "# Metrics after using Feature Importance\n",
    "scenario_names_after_feature_importance = ['Random Forest (All Features)', 'Random Forest (Top 5 Features)']\n",
    "mse_after_feature_importance = [2.94, 1.65]\n",
    "rmse_after_feature_importance = [1.74, 1.28]\n",
    "mae_after_feature_importance = [0.71, 0.46]\n",
    "r2_after_feature_importance = [0.96, 0.98]\n",
    "\n",
    "# Create DataFrames\n",
    "df_before_combining = pd.DataFrame({\n",
    "    'Scenario': scenario_names_before_combining,\n",
    "    'MSE': mse_before_combining,\n",
    "    'RMSE': rmse_before_combining,\n",
    "    'MAE': mae_before_combining,\n",
    "    'R2': r2_before_combining\n",
    "})\n",
    "\n",
    "df_after_combining = pd.DataFrame({\n",
    "    'Scenario': scenario_names_after_combining,\n",
    "    'MSE': mse_after_combining,\n",
    "    'RMSE': rmse_after_combining,\n",
    "    'MAE': mae_after_combining,\n",
    "    'R2': r2_after_combining\n",
    "})\n",
    "\n",
    "df_after_pca = pd.DataFrame({\n",
    "    'Scenario': scenario_names_after_pca,\n",
    "    'MSE': mse_after_pca,\n",
    "    'RMSE': rmse_after_pca,\n",
    "    'MAE': mae_after_pca,\n",
    "    'R2': r2_after_pca\n",
    "})\n",
    "\n",
    "df_after_feature_importance = pd.DataFrame({\n",
    "    'Scenario': scenario_names_after_feature_importance,\n",
    "    'MSE': mse_after_feature_importance,\n",
    "    'RMSE': rmse_after_feature_importance,\n",
    "    'MAE': mae_after_feature_importance,\n",
    "    'R2': r2_after_feature_importance\n",
    "})\n",
    "\n",
    "# Display the tables\n",
    "print(\"Metrics Before Combining UPDRS Scores:\")\n",
    "print(tabulate(df_before_combining, headers='keys', tablefmt='pretty', showindex=False))\n",
    "\n",
    "print(\"\\nMetrics After Combining UPDRS Scores:\")\n",
    "print(tabulate(df_after_combining, headers='keys', tablefmt='pretty', showindex=False))\n",
    "\n",
    "print(\"\\nMetrics After Using PCA:\")\n",
    "print(tabulate(df_after_pca, headers='keys', tablefmt='pretty', showindex=False))\n",
    "\n",
    "print(\"\\nMetrics After Using Feature Importance:\")\n",
    "print(tabulate(df_after_feature_importance, headers='keys', tablefmt='pretty', showindex=False))\n"
   ]
  },
  {
   "cell_type": "markdown",
   "metadata": {
    "id": "2rizEq0CEk7E"
   },
   "source": [
    "## Observations\n"
   ]
  },
  {
   "cell_type": "markdown",
   "metadata": {
    "id": "CqA3pqBjEk7H"
   },
   "source": [
    "PCA (Principal Component Analysis):\n",
    "\n",
    "I observed that applying PCA to reduce the dimensionality from 15 features to 1 might not be very beneficial. It seems that PCA is more effective when dealing with a larger number of features.\n",
    "\n",
    "\n",
    "Combining UPDRS Scores:\n",
    "\n",
    "I decided to combine \"total_UPDRS\" and \"motor_UPDRS\" into \"combined_UPDRS\" as a feature engineering step. This simplifies the target variable for regression modeling.\n",
    "\n",
    "\n",
    "Model Evaluation:\n",
    "\n",
    "I used evaluation metrics (MSE, RMSE, MAE, R2) to gain insights into the performance of different regression models, such as Linear Regression, Elastic Net, and Random Forest. Random Forest Regression appeared to perform well, especially based on the R2 score.\n",
    "\n",
    "\n",
    "Feature Importance:\n",
    "\n",
    "Analyzing feature importance, particularly the bar chart, helped me identify the features that contribute the most to the model's predictions. Age stood out as the most important feature, aligning with the understanding that Parkinson's disease is more common in older individuals.\n",
    "\n",
    "## Best performing scenario till now: Random Forest Regressor, after applying Feature Importance\n",
    "\n",
    "\n",
    "Visualization:\n",
    "\n",
    "I created scatter plots, strip plots, and pair plots to visually represent relationships between different variables. These visualizations are crucial for my understanding of the patterns in the data.\n",
    "\n",
    "\n",
    "Decision Tree Visualization:\n",
    "\n",
    "Visualizing decision trees from the random forest models provided insights into how the model makes predictions. This was helpful for interpretability.\n",
    "\n",
    "\n",
    "Model Comparison:\n",
    "\n",
    "I compared the performance of Linear Regression, Elastic Net, and Random Forest Regression. It's important to consider the trade-offs between model complexity and performance.\n",
    "\n",
    "\n",
    "Avoiding Feature Combination:\n",
    "\n",
    "I chose not to combine all jitter variables into one, considering the slight degradation in the performance of the Random Forest Regressor."
   ]
  },
  {
   "cell_type": "code",
   "execution_count": 43,
   "metadata": {
    "colab": {
     "base_uri": "https://localhost:8080/",
     "height": 930
    },
    "id": "8QgztFGOEk7Q",
    "outputId": "5de54392-02dd-4a25-f1de-242e88e691cc"
   },
   "outputs": [
    {
     "ename": "ExecutableNotFound",
     "evalue": "failed to execute WindowsPath('dot'), make sure the Graphviz executables are on your systems' PATH",
     "output_type": "error",
     "traceback": [
      "\u001b[1;31m---------------------------------------------------------------------------\u001b[0m",
      "\u001b[1;31mFileNotFoundError\u001b[0m                         Traceback (most recent call last)",
      "File \u001b[1;32m~\\AppData\\Local\\Programs\\Python\\Python311\\Lib\\site-packages\\graphviz\\backend\\execute.py:79\u001b[0m, in \u001b[0;36mrun_check\u001b[1;34m(cmd, input_lines, encoding, quiet, **kwargs)\u001b[0m\n\u001b[0;32m     78\u001b[0m         kwargs[\u001b[38;5;124m'\u001b[39m\u001b[38;5;124mstdout\u001b[39m\u001b[38;5;124m'\u001b[39m] \u001b[38;5;241m=\u001b[39m kwargs[\u001b[38;5;124m'\u001b[39m\u001b[38;5;124mstderr\u001b[39m\u001b[38;5;124m'\u001b[39m] \u001b[38;5;241m=\u001b[39m subprocess\u001b[38;5;241m.\u001b[39mPIPE\n\u001b[1;32m---> 79\u001b[0m     proc \u001b[38;5;241m=\u001b[39m \u001b[43m_run_input_lines\u001b[49m\u001b[43m(\u001b[49m\u001b[43mcmd\u001b[49m\u001b[43m,\u001b[49m\u001b[43m \u001b[49m\u001b[43minput_lines\u001b[49m\u001b[43m,\u001b[49m\u001b[43m \u001b[49m\u001b[43mkwargs\u001b[49m\u001b[38;5;241;43m=\u001b[39;49m\u001b[43mkwargs\u001b[49m\u001b[43m)\u001b[49m\n\u001b[0;32m     80\u001b[0m \u001b[38;5;28;01melse\u001b[39;00m:\n",
      "File \u001b[1;32m~\\AppData\\Local\\Programs\\Python\\Python311\\Lib\\site-packages\\graphviz\\backend\\execute.py:99\u001b[0m, in \u001b[0;36m_run_input_lines\u001b[1;34m(cmd, input_lines, kwargs)\u001b[0m\n\u001b[0;32m     98\u001b[0m \u001b[38;5;28;01mdef\u001b[39;00m \u001b[38;5;21m_run_input_lines\u001b[39m(cmd, input_lines, \u001b[38;5;241m*\u001b[39m, kwargs):\n\u001b[1;32m---> 99\u001b[0m     popen \u001b[38;5;241m=\u001b[39m \u001b[43msubprocess\u001b[49m\u001b[38;5;241;43m.\u001b[39;49m\u001b[43mPopen\u001b[49m\u001b[43m(\u001b[49m\u001b[43mcmd\u001b[49m\u001b[43m,\u001b[49m\u001b[43m \u001b[49m\u001b[43mstdin\u001b[49m\u001b[38;5;241;43m=\u001b[39;49m\u001b[43msubprocess\u001b[49m\u001b[38;5;241;43m.\u001b[39;49m\u001b[43mPIPE\u001b[49m\u001b[43m,\u001b[49m\u001b[43m \u001b[49m\u001b[38;5;241;43m*\u001b[39;49m\u001b[38;5;241;43m*\u001b[39;49m\u001b[43mkwargs\u001b[49m\u001b[43m)\u001b[49m\n\u001b[0;32m    101\u001b[0m     stdin_write \u001b[38;5;241m=\u001b[39m popen\u001b[38;5;241m.\u001b[39mstdin\u001b[38;5;241m.\u001b[39mwrite\n",
      "File \u001b[1;32m~\\AppData\\Local\\Programs\\Python\\Python311\\Lib\\subprocess.py:1026\u001b[0m, in \u001b[0;36mPopen.__init__\u001b[1;34m(self, args, bufsize, executable, stdin, stdout, stderr, preexec_fn, close_fds, shell, cwd, env, universal_newlines, startupinfo, creationflags, restore_signals, start_new_session, pass_fds, user, group, extra_groups, encoding, errors, text, umask, pipesize, process_group)\u001b[0m\n\u001b[0;32m   1023\u001b[0m             \u001b[38;5;28mself\u001b[39m\u001b[38;5;241m.\u001b[39mstderr \u001b[38;5;241m=\u001b[39m io\u001b[38;5;241m.\u001b[39mTextIOWrapper(\u001b[38;5;28mself\u001b[39m\u001b[38;5;241m.\u001b[39mstderr,\n\u001b[0;32m   1024\u001b[0m                     encoding\u001b[38;5;241m=\u001b[39mencoding, errors\u001b[38;5;241m=\u001b[39merrors)\n\u001b[1;32m-> 1026\u001b[0m     \u001b[38;5;28;43mself\u001b[39;49m\u001b[38;5;241;43m.\u001b[39;49m\u001b[43m_execute_child\u001b[49m\u001b[43m(\u001b[49m\u001b[43margs\u001b[49m\u001b[43m,\u001b[49m\u001b[43m \u001b[49m\u001b[43mexecutable\u001b[49m\u001b[43m,\u001b[49m\u001b[43m \u001b[49m\u001b[43mpreexec_fn\u001b[49m\u001b[43m,\u001b[49m\u001b[43m \u001b[49m\u001b[43mclose_fds\u001b[49m\u001b[43m,\u001b[49m\n\u001b[0;32m   1027\u001b[0m \u001b[43m                        \u001b[49m\u001b[43mpass_fds\u001b[49m\u001b[43m,\u001b[49m\u001b[43m \u001b[49m\u001b[43mcwd\u001b[49m\u001b[43m,\u001b[49m\u001b[43m \u001b[49m\u001b[43menv\u001b[49m\u001b[43m,\u001b[49m\n\u001b[0;32m   1028\u001b[0m \u001b[43m                        \u001b[49m\u001b[43mstartupinfo\u001b[49m\u001b[43m,\u001b[49m\u001b[43m \u001b[49m\u001b[43mcreationflags\u001b[49m\u001b[43m,\u001b[49m\u001b[43m \u001b[49m\u001b[43mshell\u001b[49m\u001b[43m,\u001b[49m\n\u001b[0;32m   1029\u001b[0m \u001b[43m                        \u001b[49m\u001b[43mp2cread\u001b[49m\u001b[43m,\u001b[49m\u001b[43m \u001b[49m\u001b[43mp2cwrite\u001b[49m\u001b[43m,\u001b[49m\n\u001b[0;32m   1030\u001b[0m \u001b[43m                        \u001b[49m\u001b[43mc2pread\u001b[49m\u001b[43m,\u001b[49m\u001b[43m \u001b[49m\u001b[43mc2pwrite\u001b[49m\u001b[43m,\u001b[49m\n\u001b[0;32m   1031\u001b[0m \u001b[43m                        \u001b[49m\u001b[43merrread\u001b[49m\u001b[43m,\u001b[49m\u001b[43m \u001b[49m\u001b[43merrwrite\u001b[49m\u001b[43m,\u001b[49m\n\u001b[0;32m   1032\u001b[0m \u001b[43m                        \u001b[49m\u001b[43mrestore_signals\u001b[49m\u001b[43m,\u001b[49m\n\u001b[0;32m   1033\u001b[0m \u001b[43m                        \u001b[49m\u001b[43mgid\u001b[49m\u001b[43m,\u001b[49m\u001b[43m \u001b[49m\u001b[43mgids\u001b[49m\u001b[43m,\u001b[49m\u001b[43m \u001b[49m\u001b[43muid\u001b[49m\u001b[43m,\u001b[49m\u001b[43m \u001b[49m\u001b[43mumask\u001b[49m\u001b[43m,\u001b[49m\n\u001b[0;32m   1034\u001b[0m \u001b[43m                        \u001b[49m\u001b[43mstart_new_session\u001b[49m\u001b[43m,\u001b[49m\u001b[43m \u001b[49m\u001b[43mprocess_group\u001b[49m\u001b[43m)\u001b[49m\n\u001b[0;32m   1035\u001b[0m \u001b[38;5;28;01mexcept\u001b[39;00m:\n\u001b[0;32m   1036\u001b[0m     \u001b[38;5;66;03m# Cleanup if the child failed starting.\u001b[39;00m\n",
      "File \u001b[1;32m~\\AppData\\Local\\Programs\\Python\\Python311\\Lib\\subprocess.py:1538\u001b[0m, in \u001b[0;36mPopen._execute_child\u001b[1;34m(self, args, executable, preexec_fn, close_fds, pass_fds, cwd, env, startupinfo, creationflags, shell, p2cread, p2cwrite, c2pread, c2pwrite, errread, errwrite, unused_restore_signals, unused_gid, unused_gids, unused_uid, unused_umask, unused_start_new_session, unused_process_group)\u001b[0m\n\u001b[0;32m   1537\u001b[0m \u001b[38;5;28;01mtry\u001b[39;00m:\n\u001b[1;32m-> 1538\u001b[0m     hp, ht, pid, tid \u001b[38;5;241m=\u001b[39m \u001b[43m_winapi\u001b[49m\u001b[38;5;241;43m.\u001b[39;49m\u001b[43mCreateProcess\u001b[49m\u001b[43m(\u001b[49m\u001b[43mexecutable\u001b[49m\u001b[43m,\u001b[49m\u001b[43m \u001b[49m\u001b[43margs\u001b[49m\u001b[43m,\u001b[49m\n\u001b[0;32m   1539\u001b[0m \u001b[43m                             \u001b[49m\u001b[38;5;66;43;03m# no special security\u001b[39;49;00m\n\u001b[0;32m   1540\u001b[0m \u001b[43m                             \u001b[49m\u001b[38;5;28;43;01mNone\u001b[39;49;00m\u001b[43m,\u001b[49m\u001b[43m \u001b[49m\u001b[38;5;28;43;01mNone\u001b[39;49;00m\u001b[43m,\u001b[49m\n\u001b[0;32m   1541\u001b[0m \u001b[43m                             \u001b[49m\u001b[38;5;28;43mint\u001b[39;49m\u001b[43m(\u001b[49m\u001b[38;5;129;43;01mnot\u001b[39;49;00m\u001b[43m \u001b[49m\u001b[43mclose_fds\u001b[49m\u001b[43m)\u001b[49m\u001b[43m,\u001b[49m\n\u001b[0;32m   1542\u001b[0m \u001b[43m                             \u001b[49m\u001b[43mcreationflags\u001b[49m\u001b[43m,\u001b[49m\n\u001b[0;32m   1543\u001b[0m \u001b[43m                             \u001b[49m\u001b[43menv\u001b[49m\u001b[43m,\u001b[49m\n\u001b[0;32m   1544\u001b[0m \u001b[43m                             \u001b[49m\u001b[43mcwd\u001b[49m\u001b[43m,\u001b[49m\n\u001b[0;32m   1545\u001b[0m \u001b[43m                             \u001b[49m\u001b[43mstartupinfo\u001b[49m\u001b[43m)\u001b[49m\n\u001b[0;32m   1546\u001b[0m \u001b[38;5;28;01mfinally\u001b[39;00m:\n\u001b[0;32m   1547\u001b[0m     \u001b[38;5;66;03m# Child is launched. Close the parent's copy of those pipe\u001b[39;00m\n\u001b[0;32m   1548\u001b[0m     \u001b[38;5;66;03m# handles that only the child should have open.  You need\u001b[39;00m\n\u001b[1;32m   (...)\u001b[0m\n\u001b[0;32m   1551\u001b[0m     \u001b[38;5;66;03m# pipe will not close when the child process exits and the\u001b[39;00m\n\u001b[0;32m   1552\u001b[0m     \u001b[38;5;66;03m# ReadFile will hang.\u001b[39;00m\n",
      "\u001b[1;31mFileNotFoundError\u001b[0m: [WinError 2] The system cannot find the file specified",
      "\nThe above exception was the direct cause of the following exception:\n",
      "\u001b[1;31mExecutableNotFound\u001b[0m                        Traceback (most recent call last)",
      "File \u001b[1;32m~\\AppData\\Local\\Programs\\Python\\Python311\\Lib\\site-packages\\IPython\\core\\formatters.py:974\u001b[0m, in \u001b[0;36mMimeBundleFormatter.__call__\u001b[1;34m(self, obj, include, exclude)\u001b[0m\n\u001b[0;32m    971\u001b[0m     method \u001b[38;5;241m=\u001b[39m get_real_method(obj, \u001b[38;5;28mself\u001b[39m\u001b[38;5;241m.\u001b[39mprint_method)\n\u001b[0;32m    973\u001b[0m     \u001b[38;5;28;01mif\u001b[39;00m method \u001b[38;5;129;01mis\u001b[39;00m \u001b[38;5;129;01mnot\u001b[39;00m \u001b[38;5;28;01mNone\u001b[39;00m:\n\u001b[1;32m--> 974\u001b[0m         \u001b[38;5;28;01mreturn\u001b[39;00m \u001b[43mmethod\u001b[49m\u001b[43m(\u001b[49m\u001b[43minclude\u001b[49m\u001b[38;5;241;43m=\u001b[39;49m\u001b[43minclude\u001b[49m\u001b[43m,\u001b[49m\u001b[43m \u001b[49m\u001b[43mexclude\u001b[49m\u001b[38;5;241;43m=\u001b[39;49m\u001b[43mexclude\u001b[49m\u001b[43m)\u001b[49m\n\u001b[0;32m    975\u001b[0m     \u001b[38;5;28;01mreturn\u001b[39;00m \u001b[38;5;28;01mNone\u001b[39;00m\n\u001b[0;32m    976\u001b[0m \u001b[38;5;28;01melse\u001b[39;00m:\n",
      "File \u001b[1;32m~\\AppData\\Local\\Programs\\Python\\Python311\\Lib\\site-packages\\graphviz\\jupyter_integration.py:98\u001b[0m, in \u001b[0;36mJupyterIntegration._repr_mimebundle_\u001b[1;34m(self, include, exclude, **_)\u001b[0m\n\u001b[0;32m     96\u001b[0m include \u001b[38;5;241m=\u001b[39m \u001b[38;5;28mset\u001b[39m(include) \u001b[38;5;28;01mif\u001b[39;00m include \u001b[38;5;129;01mis\u001b[39;00m \u001b[38;5;129;01mnot\u001b[39;00m \u001b[38;5;28;01mNone\u001b[39;00m \u001b[38;5;28;01melse\u001b[39;00m {\u001b[38;5;28mself\u001b[39m\u001b[38;5;241m.\u001b[39m_jupyter_mimetype}\n\u001b[0;32m     97\u001b[0m include \u001b[38;5;241m-\u001b[39m\u001b[38;5;241m=\u001b[39m \u001b[38;5;28mset\u001b[39m(exclude \u001b[38;5;129;01mor\u001b[39;00m [])\n\u001b[1;32m---> 98\u001b[0m \u001b[38;5;28;01mreturn\u001b[39;00m \u001b[43m{\u001b[49m\u001b[43mmimetype\u001b[49m\u001b[43m:\u001b[49m\u001b[43m \u001b[49m\u001b[38;5;28;43mgetattr\u001b[39;49m\u001b[43m(\u001b[49m\u001b[38;5;28;43mself\u001b[39;49m\u001b[43m,\u001b[49m\u001b[43m \u001b[49m\u001b[43mmethod_name\u001b[49m\u001b[43m)\u001b[49m\u001b[43m(\u001b[49m\u001b[43m)\u001b[49m\n\u001b[0;32m     99\u001b[0m \u001b[43m        \u001b[49m\u001b[38;5;28;43;01mfor\u001b[39;49;00m\u001b[43m \u001b[49m\u001b[43mmimetype\u001b[49m\u001b[43m,\u001b[49m\u001b[43m \u001b[49m\u001b[43mmethod_name\u001b[49m\u001b[43m \u001b[49m\u001b[38;5;129;43;01min\u001b[39;49;00m\u001b[43m \u001b[49m\u001b[43mMIME_TYPES\u001b[49m\u001b[38;5;241;43m.\u001b[39;49m\u001b[43mitems\u001b[49m\u001b[43m(\u001b[49m\u001b[43m)\u001b[49m\n\u001b[0;32m    100\u001b[0m \u001b[43m        \u001b[49m\u001b[38;5;28;43;01mif\u001b[39;49;00m\u001b[43m \u001b[49m\u001b[43mmimetype\u001b[49m\u001b[43m \u001b[49m\u001b[38;5;129;43;01min\u001b[39;49;00m\u001b[43m \u001b[49m\u001b[43minclude\u001b[49m\u001b[43m}\u001b[49m\n",
      "File \u001b[1;32m~\\AppData\\Local\\Programs\\Python\\Python311\\Lib\\site-packages\\graphviz\\jupyter_integration.py:98\u001b[0m, in \u001b[0;36m<dictcomp>\u001b[1;34m(.0)\u001b[0m\n\u001b[0;32m     96\u001b[0m include \u001b[38;5;241m=\u001b[39m \u001b[38;5;28mset\u001b[39m(include) \u001b[38;5;28;01mif\u001b[39;00m include \u001b[38;5;129;01mis\u001b[39;00m \u001b[38;5;129;01mnot\u001b[39;00m \u001b[38;5;28;01mNone\u001b[39;00m \u001b[38;5;28;01melse\u001b[39;00m {\u001b[38;5;28mself\u001b[39m\u001b[38;5;241m.\u001b[39m_jupyter_mimetype}\n\u001b[0;32m     97\u001b[0m include \u001b[38;5;241m-\u001b[39m\u001b[38;5;241m=\u001b[39m \u001b[38;5;28mset\u001b[39m(exclude \u001b[38;5;129;01mor\u001b[39;00m [])\n\u001b[1;32m---> 98\u001b[0m \u001b[38;5;28;01mreturn\u001b[39;00m {mimetype: \u001b[38;5;28;43mgetattr\u001b[39;49m\u001b[43m(\u001b[49m\u001b[38;5;28;43mself\u001b[39;49m\u001b[43m,\u001b[49m\u001b[43m \u001b[49m\u001b[43mmethod_name\u001b[49m\u001b[43m)\u001b[49m\u001b[43m(\u001b[49m\u001b[43m)\u001b[49m\n\u001b[0;32m     99\u001b[0m         \u001b[38;5;28;01mfor\u001b[39;00m mimetype, method_name \u001b[38;5;129;01min\u001b[39;00m MIME_TYPES\u001b[38;5;241m.\u001b[39mitems()\n\u001b[0;32m    100\u001b[0m         \u001b[38;5;28;01mif\u001b[39;00m mimetype \u001b[38;5;129;01min\u001b[39;00m include}\n",
      "File \u001b[1;32m~\\AppData\\Local\\Programs\\Python\\Python311\\Lib\\site-packages\\graphviz\\jupyter_integration.py:112\u001b[0m, in \u001b[0;36mJupyterIntegration._repr_image_svg_xml\u001b[1;34m(self)\u001b[0m\n\u001b[0;32m    110\u001b[0m \u001b[38;5;28;01mdef\u001b[39;00m \u001b[38;5;21m_repr_image_svg_xml\u001b[39m(\u001b[38;5;28mself\u001b[39m) \u001b[38;5;241m-\u001b[39m\u001b[38;5;241m>\u001b[39m \u001b[38;5;28mstr\u001b[39m:\n\u001b[0;32m    111\u001b[0m \u001b[38;5;250m    \u001b[39m\u001b[38;5;124;03m\"\"\"Return the rendered graph as SVG string.\"\"\"\u001b[39;00m\n\u001b[1;32m--> 112\u001b[0m     \u001b[38;5;28;01mreturn\u001b[39;00m \u001b[38;5;28;43mself\u001b[39;49m\u001b[38;5;241;43m.\u001b[39;49m\u001b[43mpipe\u001b[49m\u001b[43m(\u001b[49m\u001b[38;5;28;43mformat\u001b[39;49m\u001b[38;5;241;43m=\u001b[39;49m\u001b[38;5;124;43m'\u001b[39;49m\u001b[38;5;124;43msvg\u001b[39;49m\u001b[38;5;124;43m'\u001b[39;49m\u001b[43m,\u001b[49m\u001b[43m \u001b[49m\u001b[43mencoding\u001b[49m\u001b[38;5;241;43m=\u001b[39;49m\u001b[43mSVG_ENCODING\u001b[49m\u001b[43m)\u001b[49m\n",
      "File \u001b[1;32m~\\AppData\\Local\\Programs\\Python\\Python311\\Lib\\site-packages\\graphviz\\piping.py:104\u001b[0m, in \u001b[0;36mPipe.pipe\u001b[1;34m(self, format, renderer, formatter, neato_no_op, quiet, engine, encoding)\u001b[0m\n\u001b[0;32m     55\u001b[0m \u001b[38;5;28;01mdef\u001b[39;00m \u001b[38;5;21mpipe\u001b[39m(\u001b[38;5;28mself\u001b[39m,\n\u001b[0;32m     56\u001b[0m          \u001b[38;5;28mformat\u001b[39m: typing\u001b[38;5;241m.\u001b[39mOptional[\u001b[38;5;28mstr\u001b[39m] \u001b[38;5;241m=\u001b[39m \u001b[38;5;28;01mNone\u001b[39;00m,\n\u001b[0;32m     57\u001b[0m          renderer: typing\u001b[38;5;241m.\u001b[39mOptional[\u001b[38;5;28mstr\u001b[39m] \u001b[38;5;241m=\u001b[39m \u001b[38;5;28;01mNone\u001b[39;00m,\n\u001b[1;32m   (...)\u001b[0m\n\u001b[0;32m     61\u001b[0m          engine: typing\u001b[38;5;241m.\u001b[39mOptional[\u001b[38;5;28mstr\u001b[39m] \u001b[38;5;241m=\u001b[39m \u001b[38;5;28;01mNone\u001b[39;00m,\n\u001b[0;32m     62\u001b[0m          encoding: typing\u001b[38;5;241m.\u001b[39mOptional[\u001b[38;5;28mstr\u001b[39m] \u001b[38;5;241m=\u001b[39m \u001b[38;5;28;01mNone\u001b[39;00m) \u001b[38;5;241m-\u001b[39m\u001b[38;5;241m>\u001b[39m typing\u001b[38;5;241m.\u001b[39mUnion[\u001b[38;5;28mbytes\u001b[39m, \u001b[38;5;28mstr\u001b[39m]:\n\u001b[0;32m     63\u001b[0m \u001b[38;5;250m    \u001b[39m\u001b[38;5;124;03m\"\"\"Return the source piped through the Graphviz layout command.\u001b[39;00m\n\u001b[0;32m     64\u001b[0m \n\u001b[0;32m     65\u001b[0m \u001b[38;5;124;03m    Args:\u001b[39;00m\n\u001b[1;32m   (...)\u001b[0m\n\u001b[0;32m    102\u001b[0m \u001b[38;5;124;03m        '<?xml version='\u001b[39;00m\n\u001b[0;32m    103\u001b[0m \u001b[38;5;124;03m    \"\"\"\u001b[39;00m\n\u001b[1;32m--> 104\u001b[0m     \u001b[38;5;28;01mreturn\u001b[39;00m \u001b[38;5;28;43mself\u001b[39;49m\u001b[38;5;241;43m.\u001b[39;49m\u001b[43m_pipe_legacy\u001b[49m\u001b[43m(\u001b[49m\u001b[38;5;28;43mformat\u001b[39;49m\u001b[43m,\u001b[49m\n\u001b[0;32m    105\u001b[0m \u001b[43m                             \u001b[49m\u001b[43mrenderer\u001b[49m\u001b[38;5;241;43m=\u001b[39;49m\u001b[43mrenderer\u001b[49m\u001b[43m,\u001b[49m\n\u001b[0;32m    106\u001b[0m \u001b[43m                             \u001b[49m\u001b[43mformatter\u001b[49m\u001b[38;5;241;43m=\u001b[39;49m\u001b[43mformatter\u001b[49m\u001b[43m,\u001b[49m\n\u001b[0;32m    107\u001b[0m \u001b[43m                             \u001b[49m\u001b[43mneato_no_op\u001b[49m\u001b[38;5;241;43m=\u001b[39;49m\u001b[43mneato_no_op\u001b[49m\u001b[43m,\u001b[49m\n\u001b[0;32m    108\u001b[0m \u001b[43m                             \u001b[49m\u001b[43mquiet\u001b[49m\u001b[38;5;241;43m=\u001b[39;49m\u001b[43mquiet\u001b[49m\u001b[43m,\u001b[49m\n\u001b[0;32m    109\u001b[0m \u001b[43m                             \u001b[49m\u001b[43mengine\u001b[49m\u001b[38;5;241;43m=\u001b[39;49m\u001b[43mengine\u001b[49m\u001b[43m,\u001b[49m\n\u001b[0;32m    110\u001b[0m \u001b[43m                             \u001b[49m\u001b[43mencoding\u001b[49m\u001b[38;5;241;43m=\u001b[39;49m\u001b[43mencoding\u001b[49m\u001b[43m)\u001b[49m\n",
      "File \u001b[1;32m~\\AppData\\Local\\Programs\\Python\\Python311\\Lib\\site-packages\\graphviz\\_tools.py:171\u001b[0m, in \u001b[0;36mdeprecate_positional_args.<locals>.decorator.<locals>.wrapper\u001b[1;34m(*args, **kwargs)\u001b[0m\n\u001b[0;32m    162\u001b[0m     wanted \u001b[38;5;241m=\u001b[39m \u001b[38;5;124m'\u001b[39m\u001b[38;5;124m, \u001b[39m\u001b[38;5;124m'\u001b[39m\u001b[38;5;241m.\u001b[39mjoin(\u001b[38;5;124mf\u001b[39m\u001b[38;5;124m'\u001b[39m\u001b[38;5;132;01m{\u001b[39;00mname\u001b[38;5;132;01m}\u001b[39;00m\u001b[38;5;124m=\u001b[39m\u001b[38;5;132;01m{\u001b[39;00mvalue\u001b[38;5;132;01m!r}\u001b[39;00m\u001b[38;5;124m'\u001b[39m\n\u001b[0;32m    163\u001b[0m                        \u001b[38;5;28;01mfor\u001b[39;00m name, value \u001b[38;5;129;01min\u001b[39;00m deprecated\u001b[38;5;241m.\u001b[39mitems())\n\u001b[0;32m    164\u001b[0m     warnings\u001b[38;5;241m.\u001b[39mwarn(\u001b[38;5;124mf\u001b[39m\u001b[38;5;124m'\u001b[39m\u001b[38;5;124mThe signature of \u001b[39m\u001b[38;5;132;01m{\u001b[39;00mfunc\u001b[38;5;241m.\u001b[39m\u001b[38;5;18m__name__\u001b[39m\u001b[38;5;132;01m}\u001b[39;00m\u001b[38;5;124m will be reduced\u001b[39m\u001b[38;5;124m'\u001b[39m\n\u001b[0;32m    165\u001b[0m                   \u001b[38;5;124mf\u001b[39m\u001b[38;5;124m'\u001b[39m\u001b[38;5;124m to \u001b[39m\u001b[38;5;132;01m{\u001b[39;00msupported_number\u001b[38;5;132;01m}\u001b[39;00m\u001b[38;5;124m positional args\u001b[39m\u001b[38;5;124m'\u001b[39m\n\u001b[0;32m    166\u001b[0m                   \u001b[38;5;124mf\u001b[39m\u001b[38;5;124m'\u001b[39m\u001b[38;5;124m \u001b[39m\u001b[38;5;132;01m{\u001b[39;00m\u001b[38;5;28mlist\u001b[39m(supported)\u001b[38;5;132;01m}\u001b[39;00m\u001b[38;5;124m: pass \u001b[39m\u001b[38;5;132;01m{\u001b[39;00mwanted\u001b[38;5;132;01m}\u001b[39;00m\u001b[38;5;124m'\u001b[39m\n\u001b[0;32m    167\u001b[0m                   \u001b[38;5;124m'\u001b[39m\u001b[38;5;124m as keyword arg(s)\u001b[39m\u001b[38;5;124m'\u001b[39m,\n\u001b[0;32m    168\u001b[0m                   stacklevel\u001b[38;5;241m=\u001b[39mstacklevel,\n\u001b[0;32m    169\u001b[0m                   category\u001b[38;5;241m=\u001b[39mcategory)\n\u001b[1;32m--> 171\u001b[0m \u001b[38;5;28;01mreturn\u001b[39;00m \u001b[43mfunc\u001b[49m\u001b[43m(\u001b[49m\u001b[38;5;241;43m*\u001b[39;49m\u001b[43margs\u001b[49m\u001b[43m,\u001b[49m\u001b[43m \u001b[49m\u001b[38;5;241;43m*\u001b[39;49m\u001b[38;5;241;43m*\u001b[39;49m\u001b[43mkwargs\u001b[49m\u001b[43m)\u001b[49m\n",
      "File \u001b[1;32m~\\AppData\\Local\\Programs\\Python\\Python311\\Lib\\site-packages\\graphviz\\piping.py:121\u001b[0m, in \u001b[0;36mPipe._pipe_legacy\u001b[1;34m(self, format, renderer, formatter, neato_no_op, quiet, engine, encoding)\u001b[0m\n\u001b[0;32m    112\u001b[0m \u001b[38;5;129m@_tools\u001b[39m\u001b[38;5;241m.\u001b[39mdeprecate_positional_args(supported_number\u001b[38;5;241m=\u001b[39m\u001b[38;5;241m2\u001b[39m)\n\u001b[0;32m    113\u001b[0m \u001b[38;5;28;01mdef\u001b[39;00m \u001b[38;5;21m_pipe_legacy\u001b[39m(\u001b[38;5;28mself\u001b[39m,\n\u001b[0;32m    114\u001b[0m                  \u001b[38;5;28mformat\u001b[39m: typing\u001b[38;5;241m.\u001b[39mOptional[\u001b[38;5;28mstr\u001b[39m] \u001b[38;5;241m=\u001b[39m \u001b[38;5;28;01mNone\u001b[39;00m,\n\u001b[1;32m   (...)\u001b[0m\n\u001b[0;32m    119\u001b[0m                  engine: typing\u001b[38;5;241m.\u001b[39mOptional[\u001b[38;5;28mstr\u001b[39m] \u001b[38;5;241m=\u001b[39m \u001b[38;5;28;01mNone\u001b[39;00m,\n\u001b[0;32m    120\u001b[0m                  encoding: typing\u001b[38;5;241m.\u001b[39mOptional[\u001b[38;5;28mstr\u001b[39m] \u001b[38;5;241m=\u001b[39m \u001b[38;5;28;01mNone\u001b[39;00m) \u001b[38;5;241m-\u001b[39m\u001b[38;5;241m>\u001b[39m typing\u001b[38;5;241m.\u001b[39mUnion[\u001b[38;5;28mbytes\u001b[39m, \u001b[38;5;28mstr\u001b[39m]:\n\u001b[1;32m--> 121\u001b[0m     \u001b[38;5;28;01mreturn\u001b[39;00m \u001b[38;5;28;43mself\u001b[39;49m\u001b[38;5;241;43m.\u001b[39;49m\u001b[43m_pipe_future\u001b[49m\u001b[43m(\u001b[49m\u001b[38;5;28;43mformat\u001b[39;49m\u001b[43m,\u001b[49m\n\u001b[0;32m    122\u001b[0m \u001b[43m                             \u001b[49m\u001b[43mrenderer\u001b[49m\u001b[38;5;241;43m=\u001b[39;49m\u001b[43mrenderer\u001b[49m\u001b[43m,\u001b[49m\n\u001b[0;32m    123\u001b[0m \u001b[43m                             \u001b[49m\u001b[43mformatter\u001b[49m\u001b[38;5;241;43m=\u001b[39;49m\u001b[43mformatter\u001b[49m\u001b[43m,\u001b[49m\n\u001b[0;32m    124\u001b[0m \u001b[43m                             \u001b[49m\u001b[43mneato_no_op\u001b[49m\u001b[38;5;241;43m=\u001b[39;49m\u001b[43mneato_no_op\u001b[49m\u001b[43m,\u001b[49m\n\u001b[0;32m    125\u001b[0m \u001b[43m                             \u001b[49m\u001b[43mquiet\u001b[49m\u001b[38;5;241;43m=\u001b[39;49m\u001b[43mquiet\u001b[49m\u001b[43m,\u001b[49m\n\u001b[0;32m    126\u001b[0m \u001b[43m                             \u001b[49m\u001b[43mengine\u001b[49m\u001b[38;5;241;43m=\u001b[39;49m\u001b[43mengine\u001b[49m\u001b[43m,\u001b[49m\n\u001b[0;32m    127\u001b[0m \u001b[43m                             \u001b[49m\u001b[43mencoding\u001b[49m\u001b[38;5;241;43m=\u001b[39;49m\u001b[43mencoding\u001b[49m\u001b[43m)\u001b[49m\n",
      "File \u001b[1;32m~\\AppData\\Local\\Programs\\Python\\Python311\\Lib\\site-packages\\graphviz\\piping.py:149\u001b[0m, in \u001b[0;36mPipe._pipe_future\u001b[1;34m(self, format, renderer, formatter, neato_no_op, quiet, engine, encoding)\u001b[0m\n\u001b[0;32m    146\u001b[0m \u001b[38;5;28;01mif\u001b[39;00m encoding \u001b[38;5;129;01mis\u001b[39;00m \u001b[38;5;129;01mnot\u001b[39;00m \u001b[38;5;28;01mNone\u001b[39;00m:\n\u001b[0;32m    147\u001b[0m     \u001b[38;5;28;01mif\u001b[39;00m codecs\u001b[38;5;241m.\u001b[39mlookup(encoding) \u001b[38;5;129;01mis\u001b[39;00m codecs\u001b[38;5;241m.\u001b[39mlookup(\u001b[38;5;28mself\u001b[39m\u001b[38;5;241m.\u001b[39mencoding):\n\u001b[0;32m    148\u001b[0m         \u001b[38;5;66;03m# common case: both stdin and stdout need the same encoding\u001b[39;00m\n\u001b[1;32m--> 149\u001b[0m         \u001b[38;5;28;01mreturn\u001b[39;00m \u001b[38;5;28;43mself\u001b[39;49m\u001b[38;5;241;43m.\u001b[39;49m\u001b[43m_pipe_lines_string\u001b[49m\u001b[43m(\u001b[49m\u001b[38;5;241;43m*\u001b[39;49m\u001b[43margs\u001b[49m\u001b[43m,\u001b[49m\u001b[43m \u001b[49m\u001b[43mencoding\u001b[49m\u001b[38;5;241;43m=\u001b[39;49m\u001b[43mencoding\u001b[49m\u001b[43m,\u001b[49m\u001b[43m \u001b[49m\u001b[38;5;241;43m*\u001b[39;49m\u001b[38;5;241;43m*\u001b[39;49m\u001b[43mkwargs\u001b[49m\u001b[43m)\u001b[49m\n\u001b[0;32m    150\u001b[0m     \u001b[38;5;28;01mtry\u001b[39;00m:\n\u001b[0;32m    151\u001b[0m         raw \u001b[38;5;241m=\u001b[39m \u001b[38;5;28mself\u001b[39m\u001b[38;5;241m.\u001b[39m_pipe_lines(\u001b[38;5;241m*\u001b[39margs, input_encoding\u001b[38;5;241m=\u001b[39m\u001b[38;5;28mself\u001b[39m\u001b[38;5;241m.\u001b[39mencoding, \u001b[38;5;241m*\u001b[39m\u001b[38;5;241m*\u001b[39mkwargs)\n",
      "File \u001b[1;32m~\\AppData\\Local\\Programs\\Python\\Python311\\Lib\\site-packages\\graphviz\\backend\\piping.py:212\u001b[0m, in \u001b[0;36mpipe_lines_string\u001b[1;34m(engine, format, input_lines, encoding, renderer, formatter, neato_no_op, quiet)\u001b[0m\n\u001b[0;32m    206\u001b[0m cmd \u001b[38;5;241m=\u001b[39m dot_command\u001b[38;5;241m.\u001b[39mcommand(engine, \u001b[38;5;28mformat\u001b[39m,\n\u001b[0;32m    207\u001b[0m                           renderer\u001b[38;5;241m=\u001b[39mrenderer,\n\u001b[0;32m    208\u001b[0m                           formatter\u001b[38;5;241m=\u001b[39mformatter,\n\u001b[0;32m    209\u001b[0m                           neato_no_op\u001b[38;5;241m=\u001b[39mneato_no_op)\n\u001b[0;32m    210\u001b[0m kwargs \u001b[38;5;241m=\u001b[39m {\u001b[38;5;124m'\u001b[39m\u001b[38;5;124minput_lines\u001b[39m\u001b[38;5;124m'\u001b[39m: input_lines, \u001b[38;5;124m'\u001b[39m\u001b[38;5;124mencoding\u001b[39m\u001b[38;5;124m'\u001b[39m: encoding}\n\u001b[1;32m--> 212\u001b[0m proc \u001b[38;5;241m=\u001b[39m \u001b[43mexecute\u001b[49m\u001b[38;5;241;43m.\u001b[39;49m\u001b[43mrun_check\u001b[49m\u001b[43m(\u001b[49m\u001b[43mcmd\u001b[49m\u001b[43m,\u001b[49m\u001b[43m \u001b[49m\u001b[43mcapture_output\u001b[49m\u001b[38;5;241;43m=\u001b[39;49m\u001b[38;5;28;43;01mTrue\u001b[39;49;00m\u001b[43m,\u001b[49m\u001b[43m \u001b[49m\u001b[43mquiet\u001b[49m\u001b[38;5;241;43m=\u001b[39;49m\u001b[43mquiet\u001b[49m\u001b[43m,\u001b[49m\u001b[43m \u001b[49m\u001b[38;5;241;43m*\u001b[39;49m\u001b[38;5;241;43m*\u001b[39;49m\u001b[43mkwargs\u001b[49m\u001b[43m)\u001b[49m\n\u001b[0;32m    213\u001b[0m \u001b[38;5;28;01mreturn\u001b[39;00m proc\u001b[38;5;241m.\u001b[39mstdout\n",
      "File \u001b[1;32m~\\AppData\\Local\\Programs\\Python\\Python311\\Lib\\site-packages\\graphviz\\backend\\execute.py:84\u001b[0m, in \u001b[0;36mrun_check\u001b[1;34m(cmd, input_lines, encoding, quiet, **kwargs)\u001b[0m\n\u001b[0;32m     82\u001b[0m \u001b[38;5;28;01mexcept\u001b[39;00m \u001b[38;5;167;01mOSError\u001b[39;00m \u001b[38;5;28;01mas\u001b[39;00m e:\n\u001b[0;32m     83\u001b[0m     \u001b[38;5;28;01mif\u001b[39;00m e\u001b[38;5;241m.\u001b[39merrno \u001b[38;5;241m==\u001b[39m errno\u001b[38;5;241m.\u001b[39mENOENT:\n\u001b[1;32m---> 84\u001b[0m         \u001b[38;5;28;01mraise\u001b[39;00m ExecutableNotFound(cmd) \u001b[38;5;28;01mfrom\u001b[39;00m \u001b[38;5;21;01me\u001b[39;00m\n\u001b[0;32m     85\u001b[0m     \u001b[38;5;28;01mraise\u001b[39;00m\n\u001b[0;32m     87\u001b[0m \u001b[38;5;28;01mif\u001b[39;00m \u001b[38;5;129;01mnot\u001b[39;00m quiet \u001b[38;5;129;01mand\u001b[39;00m proc\u001b[38;5;241m.\u001b[39mstderr:\n",
      "\u001b[1;31mExecutableNotFound\u001b[0m: failed to execute WindowsPath('dot'), make sure the Graphviz executables are on your systems' PATH"
     ]
    },
    {
     "data": {
      "text/plain": [
       "<graphviz.sources.Source at 0x1efbaa87bd0>"
      ]
     },
     "metadata": {},
     "output_type": "display_data"
    }
   ],
   "source": [
    "from sklearn.tree import export_graphviz\n",
    "from IPython.core.display import Image\n",
    "import graphviz\n",
    "\n",
    "for i in range(1):\n",
    "    tree = rfr.estimators_[i]\n",
    "    dot_data = export_graphviz(tree,\n",
    "                               feature_names=X_train.columns,\n",
    "                               filled=True,\n",
    "                               max_depth=6,\n",
    "                               impurity=False,\n",
    "                               proportion=True)\n",
    "    graph = graphviz.Source(dot_data)\n",
    "    display(graph)"
   ]
  },
  {
   "cell_type": "code",
   "execution_count": 44,
   "metadata": {
    "colab": {
     "base_uri": "https://localhost:8080/"
    },
    "id": "JjXNwxM4JGh6",
    "outputId": "15be9ed0-ad43-432f-e668-486f47f0aea9"
   },
   "outputs": [
    {
     "name": "stdout",
     "output_type": "stream",
     "text": [
      "Requirement already satisfied: praat-parselmouth in c:\\users\\krish\\appdata\\local\\programs\\python\\python311\\lib\\site-packages (0.4.3)\n",
      "Requirement already satisfied: numpy>=1.7.0 in c:\\users\\krish\\appdata\\local\\programs\\python\\python311\\lib\\site-packages (from praat-parselmouth) (1.25.2)\n"
     ]
    }
   ],
   "source": [
    "! pip install praat-parselmouth"
   ]
  },
  {
   "cell_type": "code",
   "execution_count": 45,
   "metadata": {
    "colab": {
     "base_uri": "https://localhost:8080/"
    },
    "id": "an3CCNHrzkvq",
    "outputId": "1f1e7e2e-2188-4d6b-f3eb-3e3d26f904e7"
   },
   "outputs": [
    {
     "name": "stdout",
     "output_type": "stream",
     "text": [
      "Requirement already satisfied: nolds in c:\\users\\krish\\appdata\\local\\programs\\python\\python311\\lib\\site-packages (0.5.2)\n",
      "Requirement already satisfied: numpy in c:\\users\\krish\\appdata\\local\\programs\\python\\python311\\lib\\site-packages (from nolds) (1.25.2)\n",
      "Requirement already satisfied: future in c:\\users\\krish\\appdata\\local\\programs\\python\\python311\\lib\\site-packages (from nolds) (1.0.0)\n",
      "Requirement already satisfied: setuptools in c:\\users\\krish\\appdata\\local\\programs\\python\\python311\\lib\\site-packages (from nolds) (68.2.2)\n"
     ]
    }
   ],
   "source": [
    "! pip install nolds"
   ]
  },
  {
   "cell_type": "code",
   "execution_count": 46,
   "metadata": {},
   "outputs": [],
   "source": [
    "import numpy as np\n",
    "import librosa\n",
    "\n",
    "def calculate_dfa_exponent_1(audio_file_path, window_size=500):\n",
    "    # Load audio file and extract waveform and sampling rate\n",
    "    audio_data, sr = librosa.load(audio_file_path)\n",
    "\n",
    "    # Calculate integrated series (cumulative sum of detrended audio data)\n",
    "    integrated_series = np.cumsum(audio_data - np.mean(audio_data))\n",
    "\n",
    "    # Calculate RMS values over windows of specified size\n",
    "    num_windows = len(integrated_series) // window_size\n",
    "    windows = np.array_split(integrated_series[:num_windows * window_size], num_windows)\n",
    "    window_rms = [np.sqrt(np.mean(window**2)) for window in windows]\n",
    "\n",
    "    # Compute log-log relationship to estimate DFA exponent (alpha)\n",
    "    n_values = np.arange(1, num_windows + 1) * window_size\n",
    "    F_n_values = np.array(window_rms)\n",
    "    log_n = np.log(n_values)\n",
    "    log_F_n = np.log(F_n_values)\n",
    "    \n",
    "    # Use linear regression to estimate scaling exponent (alpha)\n",
    "    slope, _ = np.polyfit(log_n, log_F_n, 1)\n",
    "    alpha = slope  # DFA exponent (scaling exponent)\n",
    "    \n",
    "    return alpha\n"
   ]
  },
  {
   "cell_type": "code",
   "execution_count": 47,
   "metadata": {},
   "outputs": [],
   "source": [
    "audio_file_path = './PD_AH/AH_545643618-82A143AC-B643-4273-A923-C42A83AEEC5F.wav'\n",
    "alpha = calculate_dfa_exponent_1(audio_file_path,1000)"
   ]
  },
  {
   "cell_type": "code",
   "execution_count": 48,
   "metadata": {
    "colab": {
     "base_uri": "https://localhost:8080/"
    },
    "id": "5gxPg_Zr3RDv",
    "outputId": "74db0a69-e012-42fe-a863-7a8e321410dd"
   },
   "outputs": [
    {
     "name": "stdout",
     "output_type": "stream",
     "text": [
      "Requirement already satisfied: fathon in c:\\users\\krish\\appdata\\local\\programs\\python\\python311\\lib\\site-packages (1.3.3.post1)\n",
      "Requirement already satisfied: numpy>=1.24.4 in c:\\users\\krish\\appdata\\local\\programs\\python\\python311\\lib\\site-packages (from fathon) (1.25.2)\n"
     ]
    }
   ],
   "source": [
    "! pip install fathon"
   ]
  },
  {
   "cell_type": "code",
   "execution_count": 49,
   "metadata": {
    "colab": {
     "base_uri": "https://localhost:8080/",
     "height": 109
    },
    "id": "KFZT-VpEEk7U",
    "outputId": "94c56fe9-4785-45ed-b386-1ad449f81ed2"
   },
   "outputs": [
    {
     "data": {
      "text/html": [
       "<div>\n",
       "<style scoped>\n",
       "    .dataframe tbody tr th:only-of-type {\n",
       "        vertical-align: middle;\n",
       "    }\n",
       "\n",
       "    .dataframe tbody tr th {\n",
       "        vertical-align: top;\n",
       "    }\n",
       "\n",
       "    .dataframe thead th {\n",
       "        text-align: right;\n",
       "    }\n",
       "</style>\n",
       "<table border=\"1\" class=\"dataframe\">\n",
       "  <thead>\n",
       "    <tr style=\"text-align: right;\">\n",
       "      <th></th>\n",
       "      <th>voiceID</th>\n",
       "      <th>meanF0Hz</th>\n",
       "      <th>stdevF0Hz</th>\n",
       "      <th>HNR</th>\n",
       "      <th>localJitter</th>\n",
       "      <th>localabsoluteJitter</th>\n",
       "      <th>rapJitter</th>\n",
       "      <th>ppq5Jitter</th>\n",
       "      <th>ddpJitter</th>\n",
       "      <th>localShimmer</th>\n",
       "      <th>localdbShimmer</th>\n",
       "      <th>apq3Shimmer</th>\n",
       "      <th>apq5Shimmer</th>\n",
       "      <th>apq11Shimmer</th>\n",
       "      <th>ddaShimmer</th>\n",
       "    </tr>\n",
       "  </thead>\n",
       "  <tbody>\n",
       "    <tr>\n",
       "      <th>0</th>\n",
       "      <td>./PD_AH/AH_545643618-82A143AC-B643-4273-A923-C...</td>\n",
       "      <td>157.9328401584956</td>\n",
       "      <td>5.835948188382639</td>\n",
       "      <td>18.171925135568674</td>\n",
       "      <td>0.004556460786087948</td>\n",
       "      <td>2.8844707304924805e-05</td>\n",
       "      <td>0.0021954336831804906</td>\n",
       "      <td>0.0024638025013693954</td>\n",
       "      <td>0.006586301049541472</td>\n",
       "      <td>0.06692030460761882</td>\n",
       "      <td>0.6059753432695119</td>\n",
       "      <td>0.03512699712612484</td>\n",
       "      <td>0.0450602173363847</td>\n",
       "      <td>0.05950468421692837</td>\n",
       "      <td>0.10538099137837452</td>\n",
       "    </tr>\n",
       "  </tbody>\n",
       "</table>\n",
       "</div>"
      ],
      "text/plain": [
       "                                             voiceID           meanF0Hz  \\\n",
       "0  ./PD_AH/AH_545643618-82A143AC-B643-4273-A923-C...  157.9328401584956   \n",
       "\n",
       "           stdevF0Hz                 HNR           localJitter  \\\n",
       "0  5.835948188382639  18.171925135568674  0.004556460786087948   \n",
       "\n",
       "      localabsoluteJitter              rapJitter             ppq5Jitter  \\\n",
       "0  2.8844707304924805e-05  0.0021954336831804906  0.0024638025013693954   \n",
       "\n",
       "              ddpJitter         localShimmer      localdbShimmer  \\\n",
       "0  0.006586301049541472  0.06692030460761882  0.6059753432695119   \n",
       "\n",
       "           apq3Shimmer         apq5Shimmer         apq11Shimmer  \\\n",
       "0  0.03512699712612484  0.0450602173363847  0.05950468421692837   \n",
       "\n",
       "            ddaShimmer  \n",
       "0  0.10538099137837452  "
      ]
     },
     "execution_count": 49,
     "metadata": {},
     "output_type": "execute_result"
    }
   ],
   "source": [
    "import glob\n",
    "import numpy as np\n",
    "import pandas as pd\n",
    "import parselmouth\n",
    "\n",
    "from parselmouth.praat import call\n",
    "from sklearn.decomposition import PCA\n",
    "from sklearn.preprocessing import StandardScaler\n",
    "\n",
    "def measurePitch(voiceID, f0min, f0max, unit):\n",
    "    sound = parselmouth.Sound(voiceID)\n",
    "    pitch = call(sound, \"To Pitch\", 0.0, f0min, f0max)\n",
    "    meanF0 = call(pitch, \"Get mean\", 0, 0, unit)\n",
    "    stdevF0 = call(pitch, \"Get standard deviation\", 0 ,0, unit)\n",
    "    harmonicity = call(sound, \"To Harmonicity (cc)\", 0.01, 75, 0.1, 1.0)\n",
    "    hnr = call(harmonicity, \"Get mean\", 0, 0)\n",
    "    pointProcess = call(sound, \"To PointProcess (periodic, cc)\", f0min, f0max)\n",
    "    localJitter = call(pointProcess, \"Get jitter (local)\", 0, 0, 0.0001, 0.02, 1.3)\n",
    "    localabsoluteJitter = call(pointProcess, \"Get jitter (local, absolute)\", 0, 0, 0.0001, 0.02, 1.3)\n",
    "    rapJitter = call(pointProcess, \"Get jitter (rap)\", 0, 0, 0.0001, 0.02, 1.3)\n",
    "    ppq5Jitter = call(pointProcess, \"Get jitter (ppq5)\", 0, 0, 0.0001, 0.02, 1.3)\n",
    "    ddpJitter = call(pointProcess, \"Get jitter (ddp)\", 0, 0, 0.0001, 0.02, 1.3)\n",
    "    localShimmer =  call([sound, pointProcess], \"Get shimmer (local)\", 0, 0, 0.0001, 0.02, 1.3, 1.6)\n",
    "    localdbShimmer = call([sound, pointProcess], \"Get shimmer (local_dB)\", 0, 0, 0.0001, 0.02, 1.3, 1.6)\n",
    "    apq3Shimmer = call([sound, pointProcess], \"Get shimmer (apq3)\", 0, 0, 0.0001, 0.02, 1.3, 1.6)\n",
    "    aqpq5Shimmer = call([sound, pointProcess], \"Get shimmer (apq5)\", 0, 0, 0.0001, 0.02, 1.3, 1.6)\n",
    "    apq11Shimmer =  call([sound, pointProcess], \"Get shimmer (apq11)\", 0, 0, 0.0001, 0.02, 1.3, 1.6)\n",
    "    ddaShimmer = call([sound, pointProcess], \"Get shimmer (dda)\", 0, 0, 0.0001, 0.02, 1.3, 1.6)\n",
    "\n",
    "\n",
    "    return meanF0, stdevF0, hnr, localJitter, localabsoluteJitter, rapJitter, ppq5Jitter, ddpJitter, localShimmer, localdbShimmer, apq3Shimmer, aqpq5Shimmer, apq11Shimmer, ddaShimmer\n",
    "\n",
    "\n",
    "file_list = []\n",
    "mean_F0_list = []\n",
    "sd_F0_list = []\n",
    "hnr_list = []\n",
    "localJitter_list = []\n",
    "localabsoluteJitter_list = []\n",
    "rapJitter_list = []\n",
    "ppq5Jitter_list = []\n",
    "ddpJitter_list = []\n",
    "localShimmer_list = []\n",
    "localdbShimmer_list = []\n",
    "apq3Shimmer_list = []\n",
    "aqpq5Shimmer_list = []\n",
    "apq11Shimmer_list = []\n",
    "ddaShimmer_list = []\n",
    "\n",
    "for wave_file in glob.glob('./PD_AH/AH_545643618-82A143AC-B643-4273-A923-C42A83AEEC5F.wav'):\n",
    "    sound = parselmouth.Sound(wave_file)\n",
    "    (meanF0, stdevF0, hnr, localJitter, localabsoluteJitter, rapJitter, ppq5Jitter, ddpJitter, localShimmer, localdbShimmer, apq3Shimmer, aqpq5Shimmer, apq11Shimmer, ddaShimmer) = measurePitch(sound, 75, 500, \"Hertz\")\n",
    "    file_list.append(wave_file)\n",
    "    mean_F0_list.append(meanF0)\n",
    "    sd_F0_list.append(stdevF0)\n",
    "    hnr_list.append(hnr)\n",
    "    localJitter_list.append(localJitter)\n",
    "    localabsoluteJitter_list.append(localabsoluteJitter)\n",
    "    rapJitter_list.append(rapJitter)\n",
    "    ppq5Jitter_list.append(ppq5Jitter)\n",
    "    ddpJitter_list.append(ddpJitter)\n",
    "    localShimmer_list.append(localShimmer)\n",
    "    localdbShimmer_list.append(localdbShimmer)\n",
    "    apq3Shimmer_list.append(apq3Shimmer)\n",
    "    aqpq5Shimmer_list.append(aqpq5Shimmer)\n",
    "    apq11Shimmer_list.append(apq11Shimmer)\n",
    "    ddaShimmer_list.append(ddaShimmer)\n",
    "df = pd.DataFrame(np.column_stack([file_list, mean_F0_list, sd_F0_list, hnr_list, localJitter_list, localabsoluteJitter_list, rapJitter_list, ppq5Jitter_list, ddpJitter_list, localShimmer_list, localdbShimmer_list, apq3Shimmer_list, aqpq5Shimmer_list, apq11Shimmer_list, ddaShimmer_list]),\n",
    "                               columns=['voiceID', 'meanF0Hz', 'stdevF0Hz', 'HNR', 'localJitter', 'localabsoluteJitter', 'rapJitter',\n",
    "                                        'ppq5Jitter', 'ddpJitter', 'localShimmer', 'localdbShimmer', 'apq3Shimmer', 'apq5Shimmer',\n",
    "                                        'apq11Shimmer', 'ddaShimmer'])\n",
    "\n",
    "df.to_csv(\"processed_results.csv\", index=False)\n",
    "\n",
    "df"
   ]
  },
  {
   "cell_type": "code",
   "execution_count": 50,
   "metadata": {
    "colab": {
     "base_uri": "https://localhost:8080/"
    },
    "id": "-sATgsWH5nkQ",
    "outputId": "70ab8aa1-e978-4c14-8289-4d18c90d25df"
   },
   "outputs": [
    {
     "name": "stdin",
     "output_type": "stream",
     "text": [
      "Enter your age:  20\n",
      "Enter your sex: (0 for male, 1 for female):  0\n"
     ]
    },
    {
     "name": "stdout",
     "output_type": "stream",
     "text": [
      "[11.81318]\n"
     ]
    },
    {
     "name": "stderr",
     "output_type": "stream",
     "text": [
      "C:\\Users\\krish\\AppData\\Local\\Programs\\Python\\Python311\\Lib\\site-packages\\sklearn\\base.py:465: UserWarning: X does not have valid feature names, but RandomForestRegressor was fitted with feature names\n",
      "  warnings.warn(\n"
     ]
    }
   ],
   "source": [
    "model = rfr_top\n",
    "import pickle\n",
    "filename = 'model.sav'\n",
    "pickle.dump(model, open(filename, 'wb'))\n",
    "\n",
    "def measurePitch(voiceID, f0min, f0max, unit):\n",
    "    sound = parselmouth.Sound(voiceID)\n",
    "    pitch = call(sound, \"To Pitch\", 0.0, f0min, f0max)\n",
    "    meanF0 = call(pitch, \"Get mean\", 0, 0, unit)\n",
    "    stdevF0 = call(pitch, \"Get standard deviation\", 0 ,0, unit)\n",
    "    harmonicity = call(sound, \"To Harmonicity (cc)\", 0.01, 75, 0.1, 1.0)\n",
    "    hnr = call(harmonicity, \"Get mean\", 0, 0)\n",
    "    pointProcess = call(sound, \"To PointProcess (periodic, cc)\", f0min, f0max)\n",
    "    localJitter = call(pointProcess, \"Get jitter (local)\", 0, 0, 0.0001, 0.02, 1.3)\n",
    "    localabsoluteJitter = call(pointProcess, \"Get jitter (local, absolute)\", 0, 0, 0.0001, 0.02, 1.3)\n",
    "\n",
    "    return hnr, localabsoluteJitter\n",
    "\n",
    "\n",
    "def predict_jitter_shimmer(audio_file):\n",
    "    age_ip = input(\"Enter your age: \")\n",
    "    sex_ip = input(\"Enter your sex: (0 for male, 1 for female): \")\n",
    "\n",
    "    sound = parselmouth.Sound(audio_file)\n",
    "    hnr, localabsoluteJitter = measurePitch(sound, 75, 500, \"Hertz\")\n",
    "    top_5 = ['age', 'DFA', 'sex', 'Jitter(Abs)', 'HNR']\n",
    "    features = [age_ip, alpha, sex_ip, localabsoluteJitter, hnr]  # Assuming alpha is defined somewhere\n",
    "    model = pickle.load(open(filename, 'rb'))\n",
    "    prediction = model.predict([features])\n",
    "    return prediction\n",
    "\n",
    "\n",
    "audio_file = './PD_AH/AH_545789671-794D2256-DDFF-4009-8BA8-8A306C8FA14F.wav'\n",
    "prediction = predict_jitter_shimmer(audio_file)\n",
    "print(prediction)\n"
   ]
  },
  {
   "cell_type": "code",
   "execution_count": 51,
   "metadata": {
    "id": "_eRfxzfZEk7b"
   },
   "outputs": [
    {
     "name": "stdout",
     "output_type": "stream",
     "text": [
      "person does not have parkinson\n"
     ]
    }
   ],
   "source": [
    "if prediction > 29:\n",
    "    print(\"person has parkinson\")\n",
    "else:\n",
    "    print(\"person does not have parkinson\")\n",
    "    \n"
   ]
  },
  {
   "cell_type": "code",
   "execution_count": 52,
   "metadata": {
    "id": "WzF4zDs2Ek7d"
   },
   "outputs": [
    {
     "name": "stdout",
     "output_type": "stream",
     "text": [
      "NHR: 11.766848241448777\n",
      "PPE: 0.12252741172887156\n"
     ]
    }
   ],
   "source": [
    "def calculate_nhr_ppe(audio_file):\n",
    "    sound = parselmouth.Sound(audio_file)\n",
    "    \n",
    "    # NHR Calculation\n",
    "    harmonicity = call(sound, \"To Harmonicity (cc)\", 0.01, 75, 0.1, 1.0)\n",
    "    nhr = call(harmonicity, \"Get mean\", 0, 0)\n",
    "    \n",
    "    # PPE Calculation\n",
    "    pointProcess = call(sound, \"To PointProcess (periodic, cc)\", 75, 500)\n",
    "    ppe = call([sound, pointProcess], \"Get shimmer (local)\", 0, 0, 0.0001, 0.02, 1.3, 1.6)\n",
    "    \n",
    "    return nhr, ppe\n",
    "\n",
    "# Example usage:\n",
    "audio_file = './HC_AH/AH_222K_FC9D2763-1836-460B-954F-37F23D6CD81D.wav'\n",
    "nhr, ppe = calculate_nhr_ppe(audio_file)\n",
    "print(\"NHR:\", nhr)\n",
    "print(\"PPE:\", ppe)"
   ]
  },
  {
   "cell_type": "code",
   "execution_count": 53,
   "metadata": {},
   "outputs": [
    {
     "name": "stdout",
     "output_type": "stream",
     "text": [
      "Requirement already satisfied: openpyxl in c:\\users\\krish\\appdata\\local\\programs\\python\\python311\\lib\\site-packages (3.1.5)\n",
      "Requirement already satisfied: et-xmlfile in c:\\users\\krish\\appdata\\local\\programs\\python\\python311\\lib\\site-packages (from openpyxl) (1.1.0)\n"
     ]
    }
   ],
   "source": [
    "! pip install openpyxl"
   ]
  },
  {
   "cell_type": "code",
   "execution_count": 54,
   "metadata": {
    "id": "5zgIwTN9Ek7j"
   },
   "outputs": [
    {
     "name": "stdout",
     "output_type": "stream",
     "text": [
      "The threshold value for PwPD is: 29.25476466250001\n"
     ]
    }
   ],
   "source": [
    "import os\n",
    "import glob\n",
    "import pandas as pd\n",
    "import numpy as np\n",
    "import parselmouth\n",
    "import pickle\n",
    "from parselmouth.praat import call\n",
    "import warnings\n",
    "warnings.filterwarnings(\"ignore\", message=\"X does not have valid feature names\")\n",
    "\n",
    "model = rfr_top\n",
    "filename = 'model.sav'\n",
    "pickle.dump(model, open(filename, 'wb'))\n",
    "\n",
    "def list_audio_samples(folder_path):\n",
    "    audio_samples = glob.glob(os.path.join(folder_path, \"*.wav\"))\n",
    "    return audio_samples\n",
    "\n",
    "folder_path = \"./PD_AH\"\n",
    "audio_list = list_audio_samples(folder_path)\n",
    "\n",
    "def measurePitch(voiceID, f0min, f0max, unit):\n",
    "    sound = parselmouth.Sound(voiceID)\n",
    "    pitch = call(sound, \"To Pitch\", 0.0, f0min, f0max)\n",
    "    meanF0 = call(pitch, \"Get mean\", 0, 0, unit)\n",
    "    stdevF0 = call(pitch, \"Get standard deviation\", 0, 0, unit)\n",
    "    harmonicity = call(sound, \"To Harmonicity (cc)\", 0.01, 75, 0.1, 1.0)\n",
    "    hnr = call(harmonicity, \"Get mean\", 0, 0)\n",
    "    pointProcess = call(sound, \"To PointProcess (periodic, cc)\", f0min, f0max)\n",
    "    localJitter = call(pointProcess, \"Get jitter (local)\", 0, 0, 0.0001, 0.02, 1.3)\n",
    "    localabsoluteJitter = call(pointProcess, \"Get jitter (local, absolute)\", 0, 0, 0.0001, 0.02, 1.3)\n",
    "    return hnr, localabsoluteJitter\n",
    "\n",
    "def predict_jitter_shimmer(audio_list, excel_data):\n",
    "    predictions = []\n",
    "    model = pickle.load(open(filename, 'rb'))  \n",
    "    pwpd_rows = excel_data[excel_data['Label'] == 'PwPD']\n",
    "    \n",
    "    for audio_file in audio_list:\n",
    "        sound = parselmouth.Sound(audio_file)\n",
    "        hnr, local_absolute_jitter = measurePitch(sound, 75, 500, \"Hertz\")\n",
    "        file_name_1 = os.path.basename(audio_file)\n",
    "        parts = file_name_1.split('.')\n",
    "        file_name = parts[0]\n",
    "\n",
    "        row = pwpd_rows.loc[pwpd_rows['Sample_ID'] == file_name]\n",
    "\n",
    "        if not row.empty:\n",
    "            age = row['Age'].values[0]\n",
    "            sex = row['Sex'].values[0]\n",
    "            if sex == 'M':\n",
    "                sex = 0\n",
    "            else:\n",
    "                sex = 1\n",
    "            features = [age, alpha, sex, local_absolute_jitter, hnr] \n",
    "            prediction = model.predict([features])\n",
    "            predictions.append(prediction[0])  # Assuming the model returns a list/array, so taking the first element\n",
    "    return predictions\n",
    "\n",
    "excel_file_path = r\"Demographics_age_sex.xlsx\"\n",
    "\n",
    "def load_excel_data(excel_file_path):\n",
    "    try:\n",
    "        df = pd.read_excel(excel_file_path)\n",
    "    except PermissionError as e:\n",
    "        print(f\"Permission error: {e}\")\n",
    "        raise\n",
    "    except FileNotFoundError as e:\n",
    "        print(f\"File not found: {e}\")\n",
    "        raise\n",
    "    except Exception as e:\n",
    "        print(f\"An error occurred: {e}\")\n",
    "        raise\n",
    "    return df\n",
    "\n",
    "excel_data = load_excel_data(excel_file_path)\n",
    "\n",
    "def compute_threshold_pwPD(audio_samples, excel_data):\n",
    "    predictions = predict_jitter_shimmer(audio_samples, excel_data)\n",
    "    metrics_pwPD = []\n",
    "    for i, prediction in enumerate(predictions):\n",
    "        file_name = os.path.basename(audio_samples[i])\n",
    "        parts = file_name.split('.')\n",
    "        file_name = parts[0]\n",
    "\n",
    "        row = excel_data.loc[excel_data['Sample_ID'] == file_name]\n",
    "        if not row.empty:\n",
    "            label = row['Label'].values[0]\n",
    "            if label == 'PwPD':\n",
    "                metrics_pwPD.append(prediction)\n",
    "            elif label != 'HC':\n",
    "                print(f\"Unknown label '{label}' for file: {file_name}\")\n",
    "    if metrics_pwPD:\n",
    "        threshold_pwPD = np.mean(metrics_pwPD)\n",
    "    else:\n",
    "        threshold_pwPD = None\n",
    "    return threshold_pwPD\n",
    "\n",
    "audio_samples = list_audio_samples(folder_path)\n",
    "threshold_pwPD = compute_threshold_pwPD(audio_samples, excel_data)\n",
    "print(f\"The threshold value for PwPD is: {threshold_pwPD}\")\n"
   ]
  }
 ],
 "metadata": {
  "colab": {
   "provenance": []
  },
  "kernelspec": {
   "display_name": "Python 3 (ipykernel)",
   "language": "python",
   "name": "python3"
  },
  "language_info": {
   "codemirror_mode": {
    "name": "ipython",
    "version": 3
   },
   "file_extension": ".py",
   "mimetype": "text/x-python",
   "name": "python",
   "nbconvert_exporter": "python",
   "pygments_lexer": "ipython3",
   "version": "3.11.5"
  }
 },
 "nbformat": 4,
 "nbformat_minor": 4
}
